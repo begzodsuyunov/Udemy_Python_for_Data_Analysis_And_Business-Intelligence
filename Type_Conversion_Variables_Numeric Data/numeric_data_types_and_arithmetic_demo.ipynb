{
 "cells": [
  {
   "cell_type": "code",
   "execution_count": 2,
   "id": "fe2434d0-1c8b-4dd1-ae43-a0c6a99b358a",
   "metadata": {},
   "outputs": [],
   "source": [
    "my_string = '3579'\n",
    "my_float = 3.579\n",
    "my_int = 3"
   ]
  },
  {
   "cell_type": "code",
   "execution_count": 4,
   "id": "16e5ddac-b81e-480a-b9de-70b5d123eba1",
   "metadata": {},
   "outputs": [
    {
     "data": {
      "text/plain": [
       "3579"
      ]
     },
     "execution_count": 4,
     "metadata": {},
     "output_type": "execute_result"
    }
   ],
   "source": [
    "int(my_string)"
   ]
  },
  {
   "cell_type": "code",
   "execution_count": 6,
   "id": "b97e7c06-4e8d-44f5-86d5-caa56a3ec6b4",
   "metadata": {},
   "outputs": [
    {
     "data": {
      "text/plain": [
       "3"
      ]
     },
     "execution_count": 6,
     "metadata": {},
     "output_type": "execute_result"
    }
   ],
   "source": [
    "int(my_float)"
   ]
  },
  {
   "cell_type": "code",
   "execution_count": 8,
   "id": "d13b1560-2b32-4b9a-b151-4a9582826860",
   "metadata": {},
   "outputs": [
    {
     "data": {
      "text/plain": [
       "3579.0"
      ]
     },
     "execution_count": 8,
     "metadata": {},
     "output_type": "execute_result"
    }
   ],
   "source": [
    "float(my_string)"
   ]
  },
  {
   "cell_type": "code",
   "execution_count": 10,
   "id": "e3f6fef0-56f7-4db2-b8e8-a62d131bf062",
   "metadata": {},
   "outputs": [
    {
     "data": {
      "text/plain": [
       "3.0"
      ]
     },
     "execution_count": 10,
     "metadata": {},
     "output_type": "execute_result"
    }
   ],
   "source": [
    "float(my_int)"
   ]
  },
  {
   "cell_type": "code",
   "execution_count": 12,
   "id": "1a1fff74-70b3-46dd-a142-8b2a3bb1bd10",
   "metadata": {},
   "outputs": [
    {
     "data": {
      "text/plain": [
       "6.579000000000001"
      ]
     },
     "execution_count": 12,
     "metadata": {},
     "output_type": "execute_result"
    }
   ],
   "source": [
    "my_int + my_float"
   ]
  },
  {
   "cell_type": "code",
   "execution_count": 14,
   "id": "49f7d8dc-a807-4754-937c-ea4c2e383432",
   "metadata": {},
   "outputs": [
    {
     "data": {
      "text/plain": [
       "-0.5790000000000002"
      ]
     },
     "execution_count": 14,
     "metadata": {},
     "output_type": "execute_result"
    }
   ],
   "source": [
    "my_int - my_float"
   ]
  },
  {
   "cell_type": "code",
   "execution_count": 16,
   "id": "c843d5c7-a237-407b-9cea-130da6fedd48",
   "metadata": {},
   "outputs": [
    {
     "data": {
      "text/plain": [
       "0.5790000000000002"
      ]
     },
     "execution_count": 16,
     "metadata": {},
     "output_type": "execute_result"
    }
   ],
   "source": [
    "my_float - my_int"
   ]
  },
  {
   "cell_type": "code",
   "execution_count": 18,
   "id": "3a46ce7b-2677-45c3-b056-b09a8c7c2512",
   "metadata": {},
   "outputs": [
    {
     "data": {
      "text/plain": [
       "10.737"
      ]
     },
     "execution_count": 18,
     "metadata": {},
     "output_type": "execute_result"
    }
   ],
   "source": [
    "my_int * my_float"
   ]
  },
  {
   "cell_type": "code",
   "execution_count": 20,
   "id": "e2259427-a0e5-4ab4-b99a-497a0cd288e8",
   "metadata": {},
   "outputs": [
    {
     "data": {
      "text/plain": [
       "0.8382229673093042"
      ]
     },
     "execution_count": 20,
     "metadata": {},
     "output_type": "execute_result"
    }
   ],
   "source": [
    "my_int / my_float"
   ]
  },
  {
   "cell_type": "code",
   "execution_count": 22,
   "id": "1cc0775f-f904-4433-bd39-5eb97e000609",
   "metadata": {},
   "outputs": [
    {
     "data": {
      "text/plain": [
       "0.0"
      ]
     },
     "execution_count": 22,
     "metadata": {},
     "output_type": "execute_result"
    }
   ],
   "source": [
    "my_int // my_float"
   ]
  },
  {
   "cell_type": "code",
   "execution_count": 24,
   "id": "60d10fe0-fd66-494c-b4f5-d3eb84c3bdb9",
   "metadata": {},
   "outputs": [
    {
     "data": {
      "text/plain": [
       "3.0"
      ]
     },
     "execution_count": 24,
     "metadata": {},
     "output_type": "execute_result"
    }
   ],
   "source": [
    "my_int % my_float"
   ]
  },
  {
   "cell_type": "code",
   "execution_count": 28,
   "id": "efdb56ab-8f96-4174-aa4e-bb858618f4db",
   "metadata": {},
   "outputs": [
    {
     "data": {
      "text/plain": [
       "51.00549546541933"
      ]
     },
     "execution_count": 28,
     "metadata": {},
     "output_type": "execute_result"
    }
   ],
   "source": [
    "my_int**my_float"
   ]
  },
  {
   "cell_type": "code",
   "execution_count": 30,
   "id": "c1965118-04be-4758-bc09-9cb99d5961a2",
   "metadata": {},
   "outputs": [
    {
     "data": {
      "text/plain": [
       "90"
      ]
     },
     "execution_count": 30,
     "metadata": {},
     "output_type": "execute_result"
    }
   ],
   "source": [
    "10 * (6 - 3)**2"
   ]
  },
  {
   "cell_type": "code",
   "execution_count": null,
   "id": "4d5cf841-20f0-444f-b860-f7e883dcc268",
   "metadata": {},
   "outputs": [],
   "source": []
  },
  {
   "cell_type": "markdown",
   "id": "6ec6a07a-17ce-442b-b660-70d1cd524868",
   "metadata": {},
   "source": [
    "## Assignment 1"
   ]
  },
  {
   "cell_type": "markdown",
   "id": "bf7a1250-dd96-4991-9a40-7292101ddbe9",
   "metadata": {},
   "source": [
    "### 1. Calculate the gross profit on our snowboard\n",
    "\n",
    "Formula: Price minus cost\n"
   ]
  },
  {
   "cell_type": "code",
   "execution_count": 35,
   "id": "25ce2778-a838-4b6b-a21c-b8d34eaa5aae",
   "metadata": {},
   "outputs": [],
   "source": [
    "snowboard_price = 499.99\n",
    "snowboard_cost = 199.99"
   ]
  },
  {
   "cell_type": "code",
   "execution_count": 44,
   "id": "874eb81c-66ec-42e4-9488-2e01aa70f31d",
   "metadata": {},
   "outputs": [
    {
     "name": "stdout",
     "output_type": "stream",
     "text": [
      "300.0\n"
     ]
    }
   ],
   "source": [
    "gross_profit = snowboard_price - snowboard_cost\n",
    "\n",
    "print(gross_profit)"
   ]
  },
  {
   "cell_type": "markdown",
   "id": "162994c7-d5c6-4154-a64c-68aa75d6ab64",
   "metadata": {},
   "source": [
    "### 2. Calculate the gross margin on our snowboard\n",
    "\n",
    "Formula: Gross profit divided by price"
   ]
  },
  {
   "cell_type": "code",
   "execution_count": 46,
   "id": "6618b627-1395-49c7-be80-1fe4c283d887",
   "metadata": {},
   "outputs": [
    {
     "name": "stdout",
     "output_type": "stream",
     "text": [
      "0.6000120002400048\n"
     ]
    }
   ],
   "source": [
    "gross_margin = gross_profit / snowboard_price\n",
    "\n",
    "print(gross_margin)"
   ]
  },
  {
   "cell_type": "markdown",
   "id": "b7e17e93-238d-4f11-9712-e12652d1e322",
   "metadata": {},
   "source": [
    "### 3. Calculate the price needed to obtain a gross margin of 70%\n",
    "\n",
    "Formula:  cost divided by (1 minus the desired margin)."
   ]
  },
  {
   "cell_type": "code",
   "execution_count": 50,
   "id": "680c6c8f-1c17-4942-88fc-141c443fb9cb",
   "metadata": {},
   "outputs": [
    {
     "name": "stdout",
     "output_type": "stream",
     "text": [
      "666.6333333333332\n"
     ]
    }
   ],
   "source": [
    "price_needed_for70 = snowboard_cost / (1 - 0.7)\n",
    "\n",
    "print(price_needed_for70)"
   ]
  },
  {
   "cell_type": "markdown",
   "id": "165bf1f3-bc74-46fc-90f8-314712db57d4",
   "metadata": {},
   "source": [
    "### 4. Calculate the sales tax on a sale of our snowboard\n",
    "\n",
    "Tax rate: 8%\n",
    "\n",
    "Formula: Price times tax rate"
   ]
  },
  {
   "cell_type": "code",
   "execution_count": 59,
   "id": "afdf1763-5aa7-4d43-bb72-5a30e37660de",
   "metadata": {},
   "outputs": [
    {
     "name": "stdout",
     "output_type": "stream",
     "text": [
      "39\n"
     ]
    }
   ],
   "source": [
    "sales_tax = int(snowboard_price * (0.08))\n",
    "\n",
    "print(sales_tax)"
   ]
  },
  {
   "cell_type": "markdown",
   "id": "f68abb1f-2ca0-4233-9715-1bbfe6afba94",
   "metadata": {},
   "source": [
    "### 5. Return on Profits\n",
    "\n",
    "Calculate the amount of money we'd have if we invested the profit from selling 5 snowboards for one year.\n",
    "\n",
    "Assume an interest rate of 5%.\n",
    "\n",
    "The formula is the amount_invested plus  (amount_invested times interest_rate)"
   ]
  },
  {
   "cell_type": "code",
   "execution_count": 64,
   "id": "ff558fae-0267-440f-842e-ed017c579505",
   "metadata": {},
   "outputs": [
    {
     "name": "stdout",
     "output_type": "stream",
     "text": [
      "1575.0\n"
     ]
    }
   ],
   "source": [
    "amount_invested = gross_profit * 5\n",
    "amount_after_1yr = amount_invested + (amount_invested * 0.05)\n",
    "\n",
    "print(amount_after_1yr)"
   ]
  },
  {
   "cell_type": "code",
   "execution_count": null,
   "id": "65e9e232-b71e-41a6-843a-edd9ea060741",
   "metadata": {},
   "outputs": [],
   "source": []
  },
  {
   "cell_type": "code",
   "execution_count": null,
   "id": "4ca98e11-8113-4775-875c-c2f710342de4",
   "metadata": {},
   "outputs": [],
   "source": []
  },
  {
   "cell_type": "markdown",
   "id": "71129825-0e05-492c-85cc-f970b79d3d0c",
   "metadata": {},
   "source": [
    "## Numeric Functions"
   ]
  },
  {
   "cell_type": "code",
   "execution_count": 69,
   "id": "5ba28880-4b86-474b-ba13-381105b1d379",
   "metadata": {},
   "outputs": [],
   "source": [
    "number = 3.579"
   ]
  },
  {
   "cell_type": "code",
   "execution_count": 71,
   "id": "1592f01f-30eb-4684-861e-fba56a3fbb0e",
   "metadata": {},
   "outputs": [
    {
     "data": {
      "text/plain": [
       "4"
      ]
     },
     "execution_count": 71,
     "metadata": {},
     "output_type": "execute_result"
    }
   ],
   "source": [
    "round(number)"
   ]
  },
  {
   "cell_type": "code",
   "execution_count": 73,
   "id": "0232bf30-e3ca-4b9d-932f-308a5865546f",
   "metadata": {},
   "outputs": [
    {
     "data": {
      "text/plain": [
       "3.58"
      ]
     },
     "execution_count": 73,
     "metadata": {},
     "output_type": "execute_result"
    }
   ],
   "source": [
    "round(number,2)"
   ]
  },
  {
   "cell_type": "code",
   "execution_count": 75,
   "id": "ba7a9f5b-06b8-4144-b300-be70a02f0086",
   "metadata": {},
   "outputs": [
    {
     "data": {
      "text/plain": [
       "3.6"
      ]
     },
     "execution_count": 75,
     "metadata": {},
     "output_type": "execute_result"
    }
   ],
   "source": [
    "round(number,1)"
   ]
  },
  {
   "cell_type": "code",
   "execution_count": 77,
   "id": "b17ecffa-dd96-4a40-b33d-de18c506030a",
   "metadata": {},
   "outputs": [
    {
     "data": {
      "text/plain": [
       "3.579"
      ]
     },
     "execution_count": 77,
     "metadata": {},
     "output_type": "execute_result"
    }
   ],
   "source": [
    "abs(number)"
   ]
  },
  {
   "cell_type": "code",
   "execution_count": 81,
   "id": "e5cf7d86-c622-479f-bb7d-490a882d8aef",
   "metadata": {},
   "outputs": [
    {
     "data": {
      "text/plain": [
       "15"
      ]
     },
     "execution_count": 81,
     "metadata": {},
     "output_type": "execute_result"
    }
   ],
   "source": [
    "max(5, 10, 15)"
   ]
  },
  {
   "cell_type": "code",
   "execution_count": 87,
   "id": "3fc0f503-9c74-4247-956c-937a31e5b49b",
   "metadata": {},
   "outputs": [],
   "source": [
    "golf_scores = [-3, 0, 2, 30]"
   ]
  },
  {
   "cell_type": "code",
   "execution_count": 89,
   "id": "6533dd36-fcaa-44f9-ad7a-562e86725bcb",
   "metadata": {},
   "outputs": [
    {
     "data": {
      "text/plain": [
       "-3"
      ]
     },
     "execution_count": 89,
     "metadata": {},
     "output_type": "execute_result"
    }
   ],
   "source": [
    "min(golf_scores)"
   ]
  },
  {
   "cell_type": "code",
   "execution_count": 94,
   "id": "aa00a2c7-4f76-487a-8609-0866e7f578ea",
   "metadata": {},
   "outputs": [
    {
     "data": {
      "text/plain": [
       "30"
      ]
     },
     "execution_count": 94,
     "metadata": {},
     "output_type": "execute_result"
    }
   ],
   "source": [
    "max(golf_scores)"
   ]
  },
  {
   "cell_type": "code",
   "execution_count": 96,
   "id": "48cdc1f0-b019-401f-a8ac-678d0a6c67a2",
   "metadata": {},
   "outputs": [
    {
     "data": {
      "text/plain": [
       "29"
      ]
     },
     "execution_count": 96,
     "metadata": {},
     "output_type": "execute_result"
    }
   ],
   "source": [
    "sum(golf_scores)"
   ]
  },
  {
   "cell_type": "code",
   "execution_count": 98,
   "id": "220313b1-7009-4a51-8041-2494b6981211",
   "metadata": {},
   "outputs": [
    {
     "data": {
      "text/plain": [
       "32"
      ]
     },
     "execution_count": 98,
     "metadata": {},
     "output_type": "execute_result"
    }
   ],
   "source": [
    "sum(golf_scores, 3)"
   ]
  },
  {
   "cell_type": "code",
   "execution_count": null,
   "id": "f069928c-f2c1-4c80-ab22-bfb88e231ad5",
   "metadata": {},
   "outputs": [],
   "source": []
  },
  {
   "cell_type": "markdown",
   "id": "a05ae170-424d-4b1f-9a7d-91ba9214ca07",
   "metadata": {},
   "source": [
    "## Assignment 2\n"
   ]
  },
  {
   "cell_type": "markdown",
   "id": "a565b21c-21e2-455a-9506-9fadeee73109",
   "metadata": {},
   "source": [
    "#### What are the highest and lowest priced items we sell?\n",
    "\n",
    "Based on the list of prices below. Use Python to determine this."
   ]
  },
  {
   "cell_type": "code",
   "execution_count": 104,
   "id": "1c1f91b9-1bcb-47eb-97c4-d78bde1f1758",
   "metadata": {},
   "outputs": [],
   "source": [
    "price_list = [129.99, 99.99, 119.19, 99.99, 89.99, 79.99, 49.99]"
   ]
  },
  {
   "cell_type": "code",
   "execution_count": 106,
   "id": "a0245591-1a94-4791-a8fb-eeb79f486610",
   "metadata": {},
   "outputs": [],
   "source": [
    "max_price = max(price_list)"
   ]
  },
  {
   "cell_type": "code",
   "execution_count": 108,
   "id": "57594080-c273-49ca-9416-e0bcbc3ddbb7",
   "metadata": {},
   "outputs": [],
   "source": [
    "min_price = min(price_list)"
   ]
  },
  {
   "cell_type": "code",
   "execution_count": 110,
   "id": "4d1a1ad8-ac8e-4458-b68d-879f311fbcab",
   "metadata": {},
   "outputs": [
    {
     "name": "stdout",
     "output_type": "stream",
     "text": [
      "49.99 129.99\n"
     ]
    }
   ],
   "source": [
    "print(min_price, max_price)"
   ]
  },
  {
   "cell_type": "markdown",
   "id": "804db359-94e4-4ccc-b87c-81cc8d2ae53e",
   "metadata": {},
   "source": [
    "How much would it cost for a customer to purchase two of every item in the price list?"
   ]
  },
  {
   "cell_type": "code",
   "execution_count": 116,
   "id": "84208fc7-9541-4580-8ac1-6ed748779dcc",
   "metadata": {},
   "outputs": [
    {
     "data": {
      "text/plain": [
       "1338"
      ]
     },
     "execution_count": 116,
     "metadata": {},
     "output_type": "execute_result"
    }
   ],
   "source": [
    "round(sum(price_list * 2))"
   ]
  },
  {
   "cell_type": "code",
   "execution_count": null,
   "id": "18fafd0b-b7ac-4d7b-8411-0939776fc5a8",
   "metadata": {},
   "outputs": [],
   "source": []
  },
  {
   "cell_type": "code",
   "execution_count": null,
   "id": "14265da3-771b-4247-9baf-2f811bd514ec",
   "metadata": {},
   "outputs": [],
   "source": []
  }
 ],
 "metadata": {
  "kernelspec": {
   "display_name": "Python [conda env:base] *",
   "language": "python",
   "name": "conda-base-py"
  },
  "language_info": {
   "codemirror_mode": {
    "name": "ipython",
    "version": 3
   },
   "file_extension": ".py",
   "mimetype": "text/x-python",
   "name": "python",
   "nbconvert_exporter": "python",
   "pygments_lexer": "ipython3",
   "version": "3.12.7"
  }
 },
 "nbformat": 4,
 "nbformat_minor": 5
}
