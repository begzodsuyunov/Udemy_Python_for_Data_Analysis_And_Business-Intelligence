{
 "cells": [
  {
   "cell_type": "code",
   "execution_count": 2,
   "id": "fb273a11-ee33-4889-bddf-21c566aaae01",
   "metadata": {},
   "outputs": [],
   "source": [
    "price = 5 "
   ]
  },
  {
   "cell_type": "code",
   "execution_count": 4,
   "id": "749e3e3b-c4d9-4d9c-be4b-796ce4b07e4a",
   "metadata": {},
   "outputs": [
    {
     "data": {
      "text/plain": [
       "5"
      ]
     },
     "execution_count": 4,
     "metadata": {},
     "output_type": "execute_result"
    }
   ],
   "source": [
    "price"
   ]
  },
  {
   "cell_type": "code",
   "execution_count": 6,
   "id": "2345f454-039e-4a73-b75a-4ff6905c66ab",
   "metadata": {},
   "outputs": [
    {
     "name": "stdout",
     "output_type": "stream",
     "text": [
      "5\n"
     ]
    }
   ],
   "source": [
    "print(price)"
   ]
  },
  {
   "cell_type": "code",
   "execution_count": 8,
   "id": "7f6739b5-1ed8-4415-92da-0727cd526b99",
   "metadata": {},
   "outputs": [
    {
     "name": "stdout",
     "output_type": "stream",
     "text": [
      "6\n"
     ]
    }
   ],
   "source": [
    "print(price +1)"
   ]
  },
  {
   "cell_type": "code",
   "execution_count": 10,
   "id": "012ef694-701c-41b2-bcbd-d5469cb394c8",
   "metadata": {},
   "outputs": [
    {
     "name": "stdout",
     "output_type": "stream",
     "text": [
      "7\n"
     ]
    }
   ],
   "source": [
    "tax = 2\n",
    "\n",
    "print(price + tax)"
   ]
  },
  {
   "cell_type": "code",
   "execution_count": 12,
   "id": "cfc01d6f-ca0a-40fc-92ef-9e4066112424",
   "metadata": {},
   "outputs": [
    {
     "name": "stdout",
     "output_type": "stream",
     "text": [
      "skis\n"
     ]
    }
   ],
   "source": [
    "product_name = 'skis'\n",
    "\n",
    "print(product_name)"
   ]
  },
  {
   "cell_type": "code",
   "execution_count": 14,
   "id": "31377158-5801-44af-a440-87f2f26bd3cb",
   "metadata": {},
   "outputs": [
    {
     "data": {
      "text/plain": [
       "list"
      ]
     },
     "execution_count": 14,
     "metadata": {},
     "output_type": "execute_result"
    }
   ],
   "source": [
    "price_list = [2.50, 4.99, None, 'Discount']\n",
    "\n",
    "price_list_type = type(price_list)\n",
    "\n",
    "price_list_type"
   ]
  },
  {
   "cell_type": "markdown",
   "id": "dddb9834-72bf-4a0d-aff8-56b807c8211b",
   "metadata": {},
   "source": [
    "## Assignment 1"
   ]
  },
  {
   "cell_type": "markdown",
   "id": "e76df7bf-df9f-45bc-b8e4-4a351f46c1d5",
   "metadata": {},
   "source": [
    "### Tax Printing Code Change\n",
    "\n",
    "For your first task, I’d like you to change the code that adds a dollar in tax to our price before printing. \n",
    "The tax will no longer be fixed at one dollar, so:\n",
    "* Create a ‘tax’ variable and assign it a value of 2\n",
    "* Create a ‘total’ variable equal to ‘price’ + ‘tax’\n",
    "* Print ‘total’\n"
   ]
  },
  {
   "cell_type": "code",
   "execution_count": 18,
   "id": "2ee24d80-4982-4eff-ad2c-afbdb2a98881",
   "metadata": {},
   "outputs": [
    {
     "name": "stdout",
     "output_type": "stream",
     "text": [
      "6\n"
     ]
    }
   ],
   "source": [
    "# Original Tax Code\n",
    "\n",
    "price = 5\n",
    "\n",
    "print(price + 1)"
   ]
  },
  {
   "cell_type": "code",
   "execution_count": 22,
   "id": "d1d6b93c-26a6-4f23-b415-89a15bc908be",
   "metadata": {},
   "outputs": [
    {
     "name": "stdout",
     "output_type": "stream",
     "text": [
      "7\n"
     ]
    }
   ],
   "source": [
    "tax = 2\n",
    "\n",
    "total = price + tax\n",
    "\n",
    "print(total)"
   ]
  },
  {
   "cell_type": "code",
   "execution_count": null,
   "id": "b8cabd38-5b4a-45eb-82c0-218f83db8e32",
   "metadata": {},
   "outputs": [],
   "source": [
    " "
   ]
  },
  {
   "cell_type": "code",
   "execution_count": 26,
   "id": "c9248538-40d8-4408-a591-56ea07be2337",
   "metadata": {},
   "outputs": [],
   "source": [
    "price = 5"
   ]
  },
  {
   "cell_type": "code",
   "execution_count": 28,
   "id": "b107418e-ef46-4373-b9c3-45bfdb4fcf44",
   "metadata": {},
   "outputs": [],
   "source": [
    "del price"
   ]
  },
  {
   "cell_type": "code",
   "execution_count": 30,
   "id": "94b1c90b-a673-4fd7-94ba-475faacdeac8",
   "metadata": {},
   "outputs": [
    {
     "ename": "NameError",
     "evalue": "name 'price' is not defined",
     "output_type": "error",
     "traceback": [
      "\u001b[1;31m---------------------------------------------------------------------------\u001b[0m",
      "\u001b[1;31mNameError\u001b[0m                                 Traceback (most recent call last)",
      "Cell \u001b[1;32mIn[30], line 1\u001b[0m\n\u001b[1;32m----> 1\u001b[0m \u001b[38;5;28mprint\u001b[39m(price)\n",
      "\u001b[1;31mNameError\u001b[0m: name 'price' is not defined"
     ]
    }
   ],
   "source": [
    "print(price)"
   ]
  },
  {
   "cell_type": "code",
   "execution_count": null,
   "id": "66ba8a68-eac8-4269-b2ec-fbe61c2a7448",
   "metadata": {},
   "outputs": [],
   "source": []
  },
  {
   "cell_type": "code",
   "execution_count": 34,
   "id": "5c2ef36c-c1dc-41f7-a1bb-017827aabb4f",
   "metadata": {},
   "outputs": [
    {
     "name": "stdout",
     "output_type": "stream",
     "text": [
      "100\n"
     ]
    }
   ],
   "source": [
    "snowboard_inventory = 100\n",
    "print(snowboard_inventory)"
   ]
  },
  {
   "cell_type": "code",
   "execution_count": 40,
   "id": "f48958bf-b930-4699-8bdb-6d7232ef7636",
   "metadata": {},
   "outputs": [
    {
     "name": "stdout",
     "output_type": "stream",
     "text": [
      "85\n"
     ]
    }
   ],
   "source": [
    "snowboard_inventory = 85\n",
    "print(snowboard_inventory)"
   ]
  },
  {
   "cell_type": "code",
   "execution_count": 42,
   "id": "f1000204-af03-4473-aab1-3fe97a60cc22",
   "metadata": {},
   "outputs": [],
   "source": [
    "old_snowboard_inventory = 85\n",
    "snowboard_inventory = 70\n"
   ]
  },
  {
   "cell_type": "code",
   "execution_count": 44,
   "id": "ef302966-b53b-43bc-bc69-5a33e8f37510",
   "metadata": {},
   "outputs": [
    {
     "name": "stdout",
     "output_type": "stream",
     "text": [
      "85 70\n"
     ]
    }
   ],
   "source": [
    "print(old_snowboard_inventory, snowboard_inventory)"
   ]
  },
  {
   "cell_type": "code",
   "execution_count": 46,
   "id": "31b23a50-d92d-454f-a21b-3b5860a2723a",
   "metadata": {},
   "outputs": [
    {
     "name": "stdout",
     "output_type": "stream",
     "text": [
      "85\n"
     ]
    }
   ],
   "source": [
    "snowboard_inventory = old_snowboard_inventory\n",
    "old_snowboard_inventory = 100\n",
    "\n",
    "print(snowboard_inventory)"
   ]
  },
  {
   "cell_type": "code",
   "execution_count": 48,
   "id": "12ca567f-c695-47e8-a700-ee311e68073b",
   "metadata": {},
   "outputs": [],
   "source": [
    "del old_snowboard_inventory"
   ]
  },
  {
   "cell_type": "code",
   "execution_count": 50,
   "id": "1c9de696-8397-43e7-a641-569907d808ca",
   "metadata": {},
   "outputs": [
    {
     "ename": "NameError",
     "evalue": "name 'old_snowboard_inventory' is not defined",
     "output_type": "error",
     "traceback": [
      "\u001b[1;31m---------------------------------------------------------------------------\u001b[0m",
      "\u001b[1;31mNameError\u001b[0m                                 Traceback (most recent call last)",
      "Cell \u001b[1;32mIn[50], line 1\u001b[0m\n\u001b[1;32m----> 1\u001b[0m old_snowboard_inventory\n",
      "\u001b[1;31mNameError\u001b[0m: name 'old_snowboard_inventory' is not defined"
     ]
    }
   ],
   "source": [
    "old_snowboard_inventory"
   ]
  },
  {
   "cell_type": "code",
   "execution_count": 52,
   "id": "f9bab706-78d4-4785-91a0-1e6dfa992833",
   "metadata": {},
   "outputs": [],
   "source": [
    "old_snowboard_inventory = 100"
   ]
  },
  {
   "cell_type": "code",
   "execution_count": 54,
   "id": "a3583bd6-f6b8-4eb6-adb2-db0762814a35",
   "metadata": {},
   "outputs": [
    {
     "data": {
      "text/plain": [
       "100"
      ]
     },
     "execution_count": 54,
     "metadata": {},
     "output_type": "execute_result"
    }
   ],
   "source": [
    "old_snowboard_inventory"
   ]
  },
  {
   "cell_type": "code",
   "execution_count": null,
   "id": "d90e176a-825e-4e4c-a872-5aa02c41774a",
   "metadata": {},
   "outputs": [],
   "source": [
    "\n",
    "\n"
   ]
  },
  {
   "cell_type": "code",
   "execution_count": 69,
   "id": "26176150-7d98-47a8-978d-9ce4c3132f54",
   "metadata": {},
   "outputs": [],
   "source": [
    "snowboard_inventory = 100\n",
    "new_snowboard_inventory = 85"
   ]
  },
  {
   "cell_type": "code",
   "execution_count": 71,
   "id": "0d1f5275-0438-45e6-bc8e-26270a475d87",
   "metadata": {},
   "outputs": [],
   "source": [
    "product = 'Super Snowboard'\n",
    "size = 'Medium'\n",
    "dimensions = [160, 25, 2]"
   ]
  },
  {
   "cell_type": "code",
   "execution_count": 73,
   "id": "c034326a-0096-4462-81f3-71084ca3b2c7",
   "metadata": {},
   "outputs": [
    {
     "name": "stdout",
     "output_type": "stream",
     "text": [
      "dataframe_columns\t dataframe_hash\t dimensions\t dtypes_str\t get_dataframes\t getpass\t hashlib\t import_pandas_safely\t is_data_frame\t \n",
      "json\t new_snowboard_inventory\t product\t size\t snowboard_inventory\t \n"
     ]
    }
   ],
   "source": [
    "%who"
   ]
  },
  {
   "cell_type": "code",
   "execution_count": 75,
   "id": "98770281-0c4f-4075-9b65-d071927c3111",
   "metadata": {},
   "outputs": [
    {
     "name": "stdout",
     "output_type": "stream",
     "text": [
      "Variable                  Type        Data/Info\n",
      "-----------------------------------------------\n",
      "dataframe_columns         function    <function dataframe_colum<...>ns at 0x000001EBE61C9440>\n",
      "dataframe_hash            function    <function dataframe_hash at 0x000001EBE61CB420>\n",
      "dimensions                list        n=3\n",
      "dtypes_str                function    <function dtypes_str at 0x000001EBE61C99E0>\n",
      "get_dataframes            function    <function get_dataframes at 0x000001EBE61CB560>\n",
      "getpass                   module      <module 'getpass' from 'C<...>conda3\\\\Lib\\\\getpass.py'>\n",
      "hashlib                   module      <module 'hashlib' from 'C<...>conda3\\\\Lib\\\\hashlib.py'>\n",
      "import_pandas_safely      function    <function import_pandas_s<...>ly at 0x000001EBE61C91C0>\n",
      "is_data_frame             function    <function is_data_frame at 0x000001EBE61CB380>\n",
      "json                      module      <module 'json' from 'C:\\\\<...>\\Lib\\\\json\\\\__init__.py'>\n",
      "new_snowboard_inventory   int         85\n",
      "product                   str         Super Snowboard\n",
      "size                      str         Medium\n",
      "snowboard_inventory       int         100\n"
     ]
    }
   ],
   "source": [
    "%whos"
   ]
  },
  {
   "cell_type": "code",
   "execution_count": 1,
   "id": "4645c01b-9405-414a-8d7e-41dba8d56b20",
   "metadata": {},
   "outputs": [
    {
     "data": {
      "text/plain": [
       "['skis', 'snowboard', 'sled']"
      ]
     },
     "execution_count": 1,
     "metadata": {},
     "output_type": "execute_result"
    }
   ],
   "source": [
    "items_2024 = ['skis', 'snowboard', 'sled']\n",
    "items_2024"
   ]
  },
  {
   "cell_type": "code",
   "execution_count": null,
   "id": "aabdcee3-2bee-47f8-ac90-afa64021256e",
   "metadata": {},
   "outputs": [],
   "source": []
  },
  {
   "cell_type": "markdown",
   "id": "3a6ad414-103d-432b-88a6-bc045ed4ea66",
   "metadata": {},
   "source": [
    "## Assignment 2\n",
    "### Fix the Variable Names\n"
   ]
  },
  {
   "cell_type": "code",
   "execution_count": 6,
   "id": "28f3ad16-93d6-4a6b-aabc-4279a3f40dc5",
   "metadata": {},
   "outputs": [],
   "source": [
    "price_list_2018 = [4.99, 8.99, 17.99, 22.99, 94.99] # ok this one isn't working - probably a random bug"
   ]
  },
  {
   "cell_type": "code",
   "execution_count": 8,
   "id": "c97fb1f8-8e59-40b4-9451-1b529f19342e",
   "metadata": {},
   "outputs": [],
   "source": [
    "price_list_2019 = [5.99, 9.99, 19.99, 24.99, 99.99]  # Why does it think I'm trying to subtract"
   ]
  },
  {
   "cell_type": "code",
   "execution_count": 10,
   "id": "29ce0be5-945b-4e06-95c5-5bd8c25bd6a5",
   "metadata": {},
   "outputs": [],
   "source": [
    "price_list_2020 = [6.49, 10.49, 19.99, 26.99, 104.99]"
   ]
  },
  {
   "cell_type": "code",
   "execution_count": 12,
   "id": "1e7ddb42-721d-418d-8ab3-2a49cee17c42",
   "metadata": {},
   "outputs": [
    {
     "name": "stdout",
     "output_type": "stream",
     "text": [
      "Variable               Type        Data/Info\n",
      "--------------------------------------------\n",
      "dataframe_columns      function    <function dataframe_colum<...>ns at 0x0000021A868860C0>\n",
      "dataframe_hash         function    <function dataframe_hash at 0x0000021A893765C0>\n",
      "dtypes_str             function    <function dtypes_str at 0x0000021A86C3DD00>\n",
      "get_dataframes         function    <function get_dataframes at 0x0000021A89374400>\n",
      "getpass                module      <module 'getpass' from 'C<...>conda3\\\\Lib\\\\getpass.py'>\n",
      "hashlib                module      <module 'hashlib' from 'C<...>conda3\\\\Lib\\\\hashlib.py'>\n",
      "import_pandas_safely   function    <function import_pandas_s<...>ly at 0x0000021A89382C00>\n",
      "is_data_frame          function    <function is_data_frame at 0x0000021A83942660>\n",
      "items_2024             list        n=3\n",
      "json                   module      <module 'json' from 'C:\\\\<...>\\Lib\\\\json\\\\__init__.py'>\n",
      "price_list_2018        list        n=5\n",
      "price_list_2019        list        n=5\n",
      "price_list_2020        list        n=5\n"
     ]
    }
   ],
   "source": [
    "%whos"
   ]
  },
  {
   "cell_type": "code",
   "execution_count": null,
   "id": "374e83d4-fba9-4333-a8a5-fa456f3839cc",
   "metadata": {},
   "outputs": [],
   "source": []
  }
 ],
 "metadata": {
  "kernelspec": {
   "display_name": "Python [conda env:base] *",
   "language": "python",
   "name": "conda-base-py"
  },
  "language_info": {
   "codemirror_mode": {
    "name": "ipython",
    "version": 3
   },
   "file_extension": ".py",
   "mimetype": "text/x-python",
   "name": "python",
   "nbconvert_exporter": "python",
   "pygments_lexer": "ipython3",
   "version": "3.12.7"
  }
 },
 "nbformat": 4,
 "nbformat_minor": 5
}
