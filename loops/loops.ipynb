{
 "cells": [
  {
   "cell_type": "markdown",
   "id": "1e8d91df-6593-4eb1-bb96-a0726b8ee0f7",
   "metadata": {},
   "source": [
    " ## For Loops"
   ]
  },
  {
   "cell_type": "code",
   "execution_count": 3,
   "id": "5c9b9227-5298-494b-a34b-72f53bb2d086",
   "metadata": {},
   "outputs": [],
   "source": [
    "customer_ratings = [\n",
    "    '5 stars', '3 stars', '5 stars', '4 stars', '4 stars', \n",
    "    '1 stars', '4 stars', '5 stars', '2 stars', '5 stars', \n",
    "]"
   ]
  },
  {
   "cell_type": "code",
   "execution_count": 9,
   "id": "53a399d9-e9ed-4d99-bbbc-5e03cef76d4b",
   "metadata": {},
   "outputs": [
    {
     "data": {
      "text/plain": [
       "5"
      ]
     },
     "execution_count": 9,
     "metadata": {},
     "output_type": "execute_result"
    }
   ],
   "source": [
    "rating = int(customer_ratings[0][0])\n",
    "rating"
   ]
  },
  {
   "cell_type": "code",
   "execution_count": 17,
   "id": "3b6a0a15-bf0f-468e-9acd-1dfbcb4ad9ad",
   "metadata": {},
   "outputs": [
    {
     "data": {
      "text/plain": [
       "[5, 3, 5, 4, 4, 1, 4, 5, 2, 5]"
      ]
     },
     "execution_count": 17,
     "metadata": {},
     "output_type": "execute_result"
    }
   ],
   "source": [
    "numeric_ratings = []\n",
    "\n",
    "for rating in customer_ratings:\n",
    "    #print(int(rating[0]))\n",
    "    numeric_ratings.append(int(rating[0]))\n",
    "numeric_ratings"
   ]
  },
  {
   "cell_type": "code",
   "execution_count": 19,
   "id": "6c0e18ef-6b6c-4a43-9d92-0f626491c464",
   "metadata": {},
   "outputs": [
    {
     "data": {
      "text/plain": [
       "3.8"
      ]
     },
     "execution_count": 19,
     "metadata": {},
     "output_type": "execute_result"
    }
   ],
   "source": [
    "sum(numeric_ratings) / len(numeric_ratings)"
   ]
  },
  {
   "cell_type": "markdown",
   "id": "cd11f2e3-1982-4b02-a281-ac40247be96a",
   "metadata": {},
   "source": [
    "### Looping over Indeces"
   ]
  },
  {
   "cell_type": "code",
   "execution_count": 22,
   "id": "a0d44d2b-45fe-49fa-a379-f09779b497ba",
   "metadata": {},
   "outputs": [],
   "source": [
    "inventory = [10, 14, 10, 15, 8, 27]\n",
    "\n",
    "prices = [2.99, 99.99, 219.99, 89.99, 29.99, 9.99]"
   ]
  },
  {
   "cell_type": "code",
   "execution_count": 24,
   "id": "cba9b7ab-4461-497b-958d-e5788ca4c77b",
   "metadata": {},
   "outputs": [
    {
     "name": "stdout",
     "output_type": "stream",
     "text": [
      "0\n",
      "1\n",
      "2\n",
      "3\n",
      "4\n",
      "5\n"
     ]
    }
   ],
   "source": [
    "for i in range(len(inventory)):\n",
    "    print(i)"
   ]
  },
  {
   "cell_type": "code",
   "execution_count": 32,
   "id": "740d5455-adb2-4558-a25e-2053b9fb7b3e",
   "metadata": {},
   "outputs": [
    {
     "name": "stdout",
     "output_type": "stream",
     "text": [
      "29.9\n",
      "1399.86\n",
      "2199.9\n",
      "1349.85\n",
      "239.92\n",
      "269.73\n"
     ]
    }
   ],
   "source": [
    "for i in range(len(inventory)):\n",
    "    print(round(inventory[i] * prices[i], 2))"
   ]
  },
  {
   "cell_type": "code",
   "execution_count": 36,
   "id": "7573f0cb-57e0-4511-9b7b-85e13333cc4f",
   "metadata": {},
   "outputs": [
    {
     "data": {
      "text/plain": [
       "[29.9, 1399.86, 2199.9, 1349.85, 239.92, 269.73]"
      ]
     },
     "execution_count": 36,
     "metadata": {},
     "output_type": "execute_result"
    }
   ],
   "source": [
    "product_values = []\n",
    "\n",
    "for i in range(len(inventory)):\n",
    "    product_values.append((round(inventory[i] * prices[i], 2)))\n",
    "    \n",
    "product_values"
   ]
  },
  {
   "cell_type": "code",
   "execution_count": 38,
   "id": "500fefd4-1970-49fd-a9a2-65694f771add",
   "metadata": {},
   "outputs": [
    {
     "data": {
      "text/plain": [
       "5489.16"
      ]
     },
     "execution_count": 38,
     "metadata": {},
     "output_type": "execute_result"
    }
   ],
   "source": [
    "sum(product_values)"
   ]
  },
  {
   "cell_type": "code",
   "execution_count": 48,
   "id": "9721e50a-7925-4349-85c1-df6121e6ecd5",
   "metadata": {},
   "outputs": [
    {
     "name": "stdout",
     "output_type": "stream",
     "text": [
      "P\n",
      "y\n",
      "t\n",
      "h\n",
      "o\n",
      "n\n"
     ]
    }
   ],
   "source": [
    "word = 'Python'\n",
    "\n",
    "for index in range(len(word)):\n",
    "    print(word[index])"
   ]
  },
  {
   "cell_type": "code",
   "execution_count": null,
   "id": "f77b3605-108d-43fb-8214-848baa431ca1",
   "metadata": {},
   "outputs": [],
   "source": [
    "\n"
   ]
  },
  {
   "cell_type": "markdown",
   "id": "212d5863-3784-473a-b4d2-34cd3409066b",
   "metadata": {},
   "source": [
    "### Enumerate"
   ]
  },
  {
   "cell_type": "code",
   "execution_count": 52,
   "id": "6eb9b4d3-4395-4258-80dd-764518ef4e41",
   "metadata": {},
   "outputs": [],
   "source": [
    "item_names = [\n",
    "    'Keychain', 'Helmet', 'Snowboard',\n",
    "    'Ski Poles', 'Sweatshirt', 'Boots'\n",
    "]\n",
    "\n",
    "inventories = [10, 14, 10, 15, 8, 27]\n",
    "\n",
    "prices = [2.99, 99.99, 219.99, 89.99, 29.99, 9.99]"
   ]
  },
  {
   "cell_type": "code",
   "execution_count": 64,
   "id": "86a220bd-c3f2-4467-8c94-7b94c14cc643",
   "metadata": {},
   "outputs": [
    {
     "name": "stdout",
     "output_type": "stream",
     "text": [
      "We have $29.9 worth of Keychain.\n",
      "We have $1399.86 worth of Helmet.\n",
      "We have $2199.9 worth of Snowboard.\n",
      "We have $1349.85 worth of Ski Poles.\n",
      "We have $239.92 worth of Sweatshirt.\n",
      "We have $269.73 worth of Boots.\n"
     ]
    },
    {
     "data": {
      "text/plain": [
       "5489.16"
      ]
     },
     "execution_count": 64,
     "metadata": {},
     "output_type": "execute_result"
    }
   ],
   "source": [
    "product_values = []\n",
    "\n",
    "for i, inventory in enumerate(inventories):\n",
    "    product_value = round(inventory * prices[i], 2)\n",
    "    product_values.append(product_value)\n",
    "    print(f'We have ${product_value} worth of {item_names[i]}.')\n",
    "    \n",
    "product_values\n",
    "\n",
    "sum(product_values)"
   ]
  },
  {
   "cell_type": "code",
   "execution_count": 70,
   "id": "18aa3191-9c65-49bb-887e-c0ed2a75ec7f",
   "metadata": {},
   "outputs": [
    {
     "name": "stdout",
     "output_type": "stream",
     "text": [
      "0 P\n",
      "1 y\n",
      "2 t\n",
      "3 h\n",
      "4 o\n",
      "5 n\n"
     ]
    }
   ],
   "source": [
    "word = 'Python'\n",
    "\n",
    "for i, letter in enumerate(word):\n",
    "    print(i, letter)"
   ]
  },
  {
   "cell_type": "code",
   "execution_count": null,
   "id": "29044a3b-2e04-44f6-84d1-d088c9263271",
   "metadata": {},
   "outputs": [],
   "source": []
  },
  {
   "cell_type": "markdown",
   "id": "389c232a-8f79-490f-86f7-a586203d4b45",
   "metadata": {},
   "source": [
    "### Assignment 1"
   ]
  },
  {
   "cell_type": "code",
   "execution_count": 74,
   "id": "26c2779d-3844-48aa-90f2-2da2292c1c62",
   "metadata": {},
   "outputs": [],
   "source": [
    "subtotals = [15.98, 899.97, 799.97, 117.96, 5.99, 599.99, 24.99, 1799.94, 99.99]"
   ]
  },
  {
   "cell_type": "code",
   "execution_count": 76,
   "id": "0b7ae4d1-c0d8-4a21-9e19-b4cde65595d8",
   "metadata": {},
   "outputs": [
    {
     "name": "stdout",
     "output_type": "stream",
     "text": [
      "[1.28, 72.0, 64.0, 9.44, 0.48, 48.0, 2.0, 144.0, 8.0]\n",
      "[17.26, 971.97, 863.97, 127.4, 6.47, 647.99, 26.99, 1943.94, 107.99]\n"
     ]
    }
   ],
   "source": [
    "taxes = []\n",
    "totals = []\n",
    "\n",
    "# This is code Stuart used to calculate the tax and total\n",
    "# for a single subtotal, can you put them in a loop?\n",
    "for subtotal in subtotals:\n",
    "    tax = round(subtotal * .08, 2)\n",
    "    total = round(subtotal + tax, 2)\n",
    "\n",
    "    taxes.append(tax)\n",
    "    totals.append(total)\n",
    "\n",
    "print(taxes)\n",
    "print(totals)\n",
    "\n"
   ]
  },
  {
   "cell_type": "code",
   "execution_count": null,
   "id": "0e57cb66-166f-4d05-a80c-8d3b85fc7f9d",
   "metadata": {},
   "outputs": [],
   "source": []
  },
  {
   "cell_type": "markdown",
   "id": "1a32c585-4490-4943-ba26-5a3ae6ae8b86",
   "metadata": {},
   "source": [
    "### Assignment 2"
   ]
  },
  {
   "cell_type": "code",
   "execution_count": 80,
   "id": "279b1488-36b2-43da-86d3-120d68d79ef2",
   "metadata": {},
   "outputs": [],
   "source": [
    "subtotals = [\n",
    "    15.98, 899.97, 799.97, 117.96, 5.99, \n",
    "    599.99, 24.99, 1799.94, 99.99\n",
    "]\n",
    "\n",
    "location = [\n",
    "    'Sun Valley', 'Stowe', 'Mammoth', 'Stowe', 'Sun Valley', \n",
    "    'Mammoth', 'Mammoth', 'Mammoth', 'Sun Valley'\n",
    "]"
   ]
  },
  {
   "cell_type": "code",
   "execution_count": 90,
   "id": "721aa57d-9947-473a-8176-95be9ec196a0",
   "metadata": {},
   "outputs": [
    {
     "name": "stdout",
     "output_type": "stream",
     "text": [
      "[1.28, 54.0, 62.0, 7.08, 0.48, 46.5, 1.94, 139.5, 8.0]\n",
      "[17.26, 953.97, 861.97, 125.04, 6.47, 646.49, 26.93, 1939.44, 107.99]\n"
     ]
    }
   ],
   "source": [
    "taxes = []\n",
    "totals = []\n",
    "\n",
    "for i, subtotal in enumerate(subtotals):\n",
    "    if location[i] == 'Sun Valley':\n",
    "        tax = round(subtotal * 0.08, 2)\n",
    "    elif location[i] == 'Stowe':\n",
    "        tax = round(subtotal * 0.06, 2)\n",
    "    elif location[i] == 'Mammoth':\n",
    "        tax = round(subtotal * 0.0775, 2)\n",
    "\n",
    "    total = round(subtotal + tax, 2)\n",
    "    taxes.append(tax)\n",
    "    totals.append(total)\n",
    "\n",
    "\n",
    "print(taxes)\n",
    "print(totals)\n",
    "\n"
   ]
  },
  {
   "cell_type": "code",
   "execution_count": null,
   "id": "19fbcaa7-d42c-4444-b9aa-77a760b478b1",
   "metadata": {},
   "outputs": [],
   "source": []
  },
  {
   "cell_type": "markdown",
   "id": "72bde769-1e57-4a83-82e2-5e84187e69d8",
   "metadata": {},
   "source": [
    "## While"
   ]
  },
  {
   "cell_type": "code",
   "execution_count": 100,
   "id": "a1d8f923-63b9-4851-831d-2f820c7cd20c",
   "metadata": {},
   "outputs": [],
   "source": [
    "customer_ratings = [\n",
    "    '5 stars', '3 stars', '1 stars', '5 stars', '1 stars', '4 stars', '4 stars',\n",
    "    '1 stars', '1 stars', '4 stars', '5 stars', '2 stars', '5 stars', \n",
    "]"
   ]
  },
  {
   "cell_type": "code",
   "execution_count": 102,
   "id": "ac0edded-036a-420d-8378-5d6ed8750ce4",
   "metadata": {},
   "outputs": [
    {
     "name": "stdout",
     "output_type": "stream",
     "text": [
      "1\n",
      "2\n",
      "3\n",
      "4\n"
     ]
    },
    {
     "data": {
      "text/plain": [
       "['5 stars',\n",
       " '3 stars',\n",
       " '5 stars',\n",
       " '4 stars',\n",
       " '4 stars',\n",
       " '4 stars',\n",
       " '5 stars',\n",
       " '2 stars',\n",
       " '5 stars']"
      ]
     },
     "execution_count": 102,
     "metadata": {},
     "output_type": "execute_result"
    }
   ],
   "source": [
    "onestar_counter = 0\n",
    "\n",
    "while '1 stars' in customer_ratings:\n",
    "    customer_ratings.remove('1 stars')\n",
    "    onestar_counter += 1\n",
    "    print(onestar_counter)\n",
    "\n",
    "customer_ratings"
   ]
  },
  {
   "cell_type": "code",
   "execution_count": null,
   "id": "e0d7df5f-6ee0-4ca1-88d7-7d239945b912",
   "metadata": {},
   "outputs": [],
   "source": []
  },
  {
   "cell_type": "markdown",
   "id": "180305d4-c4a9-4a9f-a426-f68b7e27a4ff",
   "metadata": {},
   "source": [
    "### Assignment 3"
   ]
  },
  {
   "cell_type": "code",
   "execution_count": 106,
   "id": "3d21d5be-e288-4009-8f0b-20d6b8ad4b79",
   "metadata": {},
   "outputs": [],
   "source": [
    "current_inventory = 686\n",
    "monthly_sales = 84\n",
    "month = 0"
   ]
  },
  {
   "cell_type": "code",
   "execution_count": 108,
   "id": "f1678de6-ea31-41cf-9ea4-c030b0eb839c",
   "metadata": {},
   "outputs": [
    {
     "name": "stdout",
     "output_type": "stream",
     "text": [
      "At the end of month 1, we have 602 pairs of skis\n",
      "At the end of month 2, we have 518 pairs of skis\n",
      "At the end of month 3, we have 434 pairs of skis\n",
      "At the end of month 4, we have 350 pairs of skis\n",
      "At the end of month 5, we have 266 pairs of skis\n",
      "At the end of month 6, we have 182 pairs of skis\n",
      "At the end of month 7, we have 98 pairs of skis\n",
      "At the end of month 8, we have 14 pairs of skis\n",
      "At the end of month 9, we have -70 pairs of skis\n"
     ]
    }
   ],
   "source": [
    "while current_inventory > 0:\n",
    "    current_inventory -= monthly_sales\n",
    "    month += 1\n",
    "    print(f'At the end of month {month}, we have {current_inventory} pairs of skis')"
   ]
  },
  {
   "cell_type": "code",
   "execution_count": null,
   "id": "fa297c15-6c97-4271-bd99-4a95a5070363",
   "metadata": {},
   "outputs": [],
   "source": []
  },
  {
   "cell_type": "markdown",
   "id": "37973177-fbc1-4cd0-b7a3-254733ecae1c",
   "metadata": {},
   "source": [
    "## Nested Loops"
   ]
  },
  {
   "cell_type": "markdown",
   "id": "5a16b527-d55f-412b-bb73-6edffd2a0f31",
   "metadata": {},
   "source": [
    "items = ['skis', 'snowboards', 'goggles', 'boots']\n",
    "\n",
    "item_reviews = [\n",
    "    ['5 stars', '1 stars', '3 stars'],\n",
    "    ['4 stars', '2 stars'],\n",
    "    ['1 stars']\n",
    "]"
   ]
  },
  {
   "cell_type": "code",
   "execution_count": 130,
   "id": "44b64596-24aa-4210-ab7e-72e6dc5b406e",
   "metadata": {},
   "outputs": [
    {
     "data": {
      "text/plain": [
       "[[5, 1, 3], [4, 2], [1]]"
      ]
     },
     "execution_count": 130,
     "metadata": {},
     "output_type": "execute_result"
    }
   ],
   "source": [
    "item_reviews_numeric = []\n",
    "\n",
    "for item in item_reviews:\n",
    "    integer_ratings = []\n",
    "    for review in item:\n",
    "        integer_rating = int(review[0])\n",
    "        integer_ratings.append(integer_rating)\n",
    "    item_reviews_numeric.append(integer_ratings)\n",
    "\n",
    "item_reviews_numeric"
   ]
  },
  {
   "cell_type": "code",
   "execution_count": 132,
   "id": "0da486a0-8987-4420-8643-c3605bf55e9f",
   "metadata": {},
   "outputs": [
    {
     "name": "stdout",
     "output_type": "stream",
     "text": [
      "3.0\n",
      "3.0\n",
      "1.0\n"
     ]
    }
   ],
   "source": [
    "for item in item_reviews_numeric:\n",
    "    print(sum(item)/len(item))"
   ]
  },
  {
   "cell_type": "code",
   "execution_count": 134,
   "id": "8d432d23-30c3-47eb-bd85-7e6f8af3c0c4",
   "metadata": {},
   "outputs": [],
   "source": [
    "nested_list = [[\"A\", \"B\", \"C\"], [1, 2, 3]]"
   ]
  },
  {
   "cell_type": "code",
   "execution_count": 138,
   "id": "0fdca096-7b41-4a74-80cb-91aa56d63973",
   "metadata": {},
   "outputs": [
    {
     "name": "stdout",
     "output_type": "stream",
     "text": [
      "A\n",
      "B\n",
      "C\n",
      "1\n",
      "2\n",
      "3\n"
     ]
    }
   ],
   "source": [
    "for item in nested_list:\n",
    "    for i in item:\n",
    "        print(i)\n",
    "    "
   ]
  },
  {
   "cell_type": "code",
   "execution_count": null,
   "id": "7cf56ea9-d2ef-4f66-9038-8fa66902595d",
   "metadata": {},
   "outputs": [],
   "source": []
  },
  {
   "cell_type": "markdown",
   "id": "b32adced-8c7d-453a-aa26-4376a6392c89",
   "metadata": {},
   "source": [
    "### Assignment 4"
   ]
  },
  {
   "cell_type": "code",
   "execution_count": 142,
   "id": "7a9960b6-bcfa-4966-9242-e1328feac705",
   "metadata": {},
   "outputs": [
    {
     "data": {
      "text/plain": [
       "[[1799.94, 29.98, 99.99],\n",
       " [15.98, 119.99],\n",
       " [24.99, 24.99],\n",
       " [649.99, 99.99],\n",
       " [599.99, 399.97]]"
      ]
     },
     "execution_count": 142,
     "metadata": {},
     "output_type": "execute_result"
    }
   ],
   "source": [
    "orders_c00001 = [1799.94, 29.98, 99.99]\n",
    "orders_c00004 = [15.98, 119.99]\n",
    "orders_c00006 = [24.99, 24.99]\n",
    "orders_c00008 = [649.99, 99.99]\n",
    "orders_c00010 = [599.99, 399.97]\n",
    "\n",
    "multi_order_customers = [\n",
    "    [1799.94, 29.98, 99.99],\n",
    "    [15.98, 119.99],\n",
    "    [24.99, 24.99],\n",
    "    [649.99, 99.99],\n",
    "    [599.99, 399.97]\n",
    "]\n",
    "\n",
    "multi_order_customers "
   ]
  },
  {
   "cell_type": "code",
   "execution_count": 170,
   "id": "1ab2912a-2e2e-49b6-b3a4-187438c604a8",
   "metadata": {},
   "outputs": [
    {
     "data": {
      "text/plain": [
       "[[1619.95, 26.98, 89.99],\n",
       " [14.38, 107.99],\n",
       " [22.49, 22.49],\n",
       " [584.99, 89.99],\n",
       " [539.99, 359.97]]"
      ]
     },
     "execution_count": 170,
     "metadata": {},
     "output_type": "execute_result"
    }
   ],
   "source": [
    "discounted_prices = []\n",
    "\n",
    "for item in multi_order_customers:\n",
    "    items = []\n",
    "    for i in item:\n",
    "        items.append(round(i * .9,2))\n",
    "    discounted_prices.append(items)\n",
    "discounted_prices"
   ]
  },
  {
   "cell_type": "code",
   "execution_count": null,
   "id": "78288563-eb42-485d-b546-b2b19bda95f8",
   "metadata": {},
   "outputs": [],
   "source": []
  },
  {
   "cell_type": "markdown",
   "id": "eb23a336-fc1d-4ba7-9cb1-9231fa23c356",
   "metadata": {},
   "source": [
    "## Break Continue Pass"
   ]
  },
  {
   "cell_type": "code",
   "execution_count": 174,
   "id": "fe0e296e-35f8-420d-8c21-8cdaf230e383",
   "metadata": {},
   "outputs": [
    {
     "name": "stdout",
     "output_type": "stream",
     "text": [
      "P\n",
      "y\n",
      "h\n",
      "o\n",
      "n\n"
     ]
    }
   ],
   "source": [
    "word = 'Python'\n",
    "\n",
    "for letter in word:\n",
    "    if letter == 't':\n",
    "        continue\n",
    "    print(letter)"
   ]
  },
  {
   "cell_type": "code",
   "execution_count": 182,
   "id": "02d2d22e-9a0e-4138-8be1-398cb8cbc121",
   "metadata": {},
   "outputs": [
    {
     "data": {
      "text/plain": [
       "'Ma'"
      ]
     },
     "execution_count": 182,
     "metadata": {},
     "output_type": "execute_result"
    }
   ],
   "source": [
    "word = 'Maven'\n",
    "\n",
    "new_word = ''\n",
    "\n",
    "for letter in word:\n",
    "    if letter in 'aeiou':\n",
    "        pass # create a new word with vowels later\n",
    "    if letter == 'v':\n",
    "        break\n",
    "        \n",
    "    new_word += letter\n",
    "\n",
    "new_word"
   ]
  },
  {
   "cell_type": "code",
   "execution_count": 186,
   "id": "e9b38edc-cc29-4d8f-82de-1637b5890fd8",
   "metadata": {},
   "outputs": [
    {
     "name": "stdout",
     "output_type": "stream",
     "text": [
      "1\n",
      "5\n",
      "3\n",
      "incorrect data\n",
      "4\n"
     ]
    }
   ],
   "source": [
    "ratings = [\n",
    "    '1 star', '5 star', '3 star', 'star 5', '4 star'\n",
    "]\n",
    "\n",
    "for rating in ratings:\n",
    "    try:\n",
    "        print(int(rating[0]))\n",
    "    except ValueError:\n",
    "        print('incorrect data')"
   ]
  },
  {
   "cell_type": "code",
   "execution_count": null,
   "id": "7c803f93-2b35-4009-a92b-74ece6bace5a",
   "metadata": {},
   "outputs": [],
   "source": []
  },
  {
   "cell_type": "markdown",
   "id": "c74a3170-02af-4754-9252-fa867c3eb3a0",
   "metadata": {},
   "source": [
    "### Assignment 5"
   ]
  },
  {
   "cell_type": "code",
   "execution_count": 218,
   "id": "ec390cdb-79b6-4aa3-85b6-6839006b656c",
   "metadata": {},
   "outputs": [
    {
     "name": "stdout",
     "output_type": "stream",
     "text": [
      "I can buy 8.0 of these.\n",
      "I can buy 2.0 of these.\n",
      "I can buy 2.0 of these.\n",
      "This product is free, I can take as many as I like.\n",
      "I can buy 0.0 of these.\n",
      "I can buy 0.0 of these.\n"
     ]
    }
   ],
   "source": [
    "price_list = [5.99, None, 19.99, 24.99, 0, '74.99', 99.99]\n",
    "\n",
    "# loop to calculate how many of each item I can buy\n",
    "budget = 50\n",
    "for price in price_list:\n",
    "    if price == None:\n",
    "        continue\n",
    "    try:\n",
    "        affordable_quantity = budget//price  # My budget is 50 dollars\n",
    "        print(f\"I can buy {affordable_quantity} of these.\")\n",
    "    except ZeroDivisionError:\n",
    "        print(\"This product is free, I can take as many as I like.\")\n",
    "    except TypeError:\n",
    "        affordable_quantity = budget//float(price)\n",
    "        print(f\"I can buy {affordable_quantity} of these.\")\n",
    "    except:  # need to get rid of general except statement\n",
    "        print('Thats not a number')"
   ]
  },
  {
   "cell_type": "code",
   "execution_count": null,
   "id": "a7cc2d78-026c-445e-b0b8-3fa4a85ca8a7",
   "metadata": {},
   "outputs": [],
   "source": []
  }
 ],
 "metadata": {
  "kernelspec": {
   "display_name": "Python [conda env:base] *",
   "language": "python",
   "name": "conda-base-py"
  },
  "language_info": {
   "codemirror_mode": {
    "name": "ipython",
    "version": 3
   },
   "file_extension": ".py",
   "mimetype": "text/x-python",
   "name": "python",
   "nbconvert_exporter": "python",
   "pygments_lexer": "ipython3",
   "version": "3.12.7"
  }
 },
 "nbformat": 4,
 "nbformat_minor": 5
}
