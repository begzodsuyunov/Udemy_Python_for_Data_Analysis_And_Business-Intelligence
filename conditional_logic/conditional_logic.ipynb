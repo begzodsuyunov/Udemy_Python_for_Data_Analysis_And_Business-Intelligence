{
 "cells": [
  {
   "cell_type": "code",
   "execution_count": 2,
   "id": "70a71723-02b8-4b22-81f5-da5d9c2f9748",
   "metadata": {},
   "outputs": [
    {
     "data": {
      "text/plain": [
       "True"
      ]
     },
     "execution_count": 2,
     "metadata": {},
     "output_type": "execute_result"
    }
   ],
   "source": [
    "True"
   ]
  },
  {
   "cell_type": "code",
   "execution_count": 4,
   "id": "1a3ca3e9-b7be-46c4-ad8b-00d7d24a142b",
   "metadata": {},
   "outputs": [
    {
     "data": {
      "text/plain": [
       "False"
      ]
     },
     "execution_count": 4,
     "metadata": {},
     "output_type": "execute_result"
    }
   ],
   "source": [
    "False"
   ]
  },
  {
   "cell_type": "code",
   "execution_count": 6,
   "id": "02a3a542-01e3-4d01-a84b-4bb5ac0fde45",
   "metadata": {},
   "outputs": [
    {
     "data": {
      "text/plain": [
       "10"
      ]
     },
     "execution_count": 6,
     "metadata": {},
     "output_type": "execute_result"
    }
   ],
   "source": [
    "10 * True"
   ]
  },
  {
   "cell_type": "code",
   "execution_count": 8,
   "id": "5224cac1-ad79-400e-baac-8fb56824dddb",
   "metadata": {},
   "outputs": [
    {
     "data": {
      "text/plain": [
       "0"
      ]
     },
     "execution_count": 8,
     "metadata": {},
     "output_type": "execute_result"
    }
   ],
   "source": [
    "10 * False"
   ]
  },
  {
   "cell_type": "code",
   "execution_count": 12,
   "id": "8e3db3a7-642b-43a5-8f83-a0b0518a62d2",
   "metadata": {},
   "outputs": [
    {
     "data": {
      "text/plain": [
       "True"
      ]
     },
     "execution_count": 12,
     "metadata": {},
     "output_type": "execute_result"
    }
   ],
   "source": [
    "not False"
   ]
  },
  {
   "cell_type": "code",
   "execution_count": 14,
   "id": "52793c9f-1cc7-4064-8aba-47793a54fa5c",
   "metadata": {},
   "outputs": [
    {
     "data": {
      "text/plain": [
       "False"
      ]
     },
     "execution_count": 14,
     "metadata": {},
     "output_type": "execute_result"
    }
   ],
   "source": [
    "not True"
   ]
  },
  {
   "cell_type": "code",
   "execution_count": 16,
   "id": "55dc4b9c-dfbd-41a7-a51a-1db82a44d707",
   "metadata": {},
   "outputs": [
    {
     "data": {
      "text/plain": [
       "10"
      ]
     },
     "execution_count": 16,
     "metadata": {},
     "output_type": "execute_result"
    }
   ],
   "source": [
    "(not False) * 10"
   ]
  },
  {
   "cell_type": "code",
   "execution_count": 18,
   "id": "661917b1-7153-4753-847a-59a60b7fb22a",
   "metadata": {},
   "outputs": [
    {
     "data": {
      "text/plain": [
       "False"
      ]
     },
     "execution_count": 18,
     "metadata": {},
     "output_type": "execute_result"
    }
   ],
   "source": [
    "'word' == 'WORD'"
   ]
  },
  {
   "cell_type": "code",
   "execution_count": 20,
   "id": "7e032517-b8d6-4d6a-a3c2-6d9fe689508d",
   "metadata": {},
   "outputs": [
    {
     "data": {
      "text/plain": [
       "True"
      ]
     },
     "execution_count": 20,
     "metadata": {},
     "output_type": "execute_result"
    }
   ],
   "source": [
    "'word' == 'word'"
   ]
  },
  {
   "cell_type": "code",
   "execution_count": 22,
   "id": "b61cfa49-e682-4e08-a6f6-838b2d5375cc",
   "metadata": {},
   "outputs": [
    {
     "data": {
      "text/plain": [
       "True"
      ]
     },
     "execution_count": 22,
     "metadata": {},
     "output_type": "execute_result"
    }
   ],
   "source": [
    "'word' == 'WORD'.lower()"
   ]
  },
  {
   "cell_type": "code",
   "execution_count": 24,
   "id": "211a639c-8512-4929-929f-6eaa0a548402",
   "metadata": {},
   "outputs": [
    {
     "data": {
      "text/plain": [
       "False"
      ]
     },
     "execution_count": 24,
     "metadata": {},
     "output_type": "execute_result"
    }
   ],
   "source": [
    "'word' != 'word'"
   ]
  },
  {
   "cell_type": "code",
   "execution_count": 26,
   "id": "229753ae-937c-4e85-a118-c5a2f9f1a0d2",
   "metadata": {},
   "outputs": [
    {
     "data": {
      "text/plain": [
       "False"
      ]
     },
     "execution_count": 26,
     "metadata": {},
     "output_type": "execute_result"
    }
   ],
   "source": [
    "len('word') > len('word')"
   ]
  },
  {
   "cell_type": "code",
   "execution_count": 28,
   "id": "b791cbbf-8075-48f2-9576-e1b6db942b68",
   "metadata": {},
   "outputs": [
    {
     "data": {
      "text/plain": [
       "True"
      ]
     },
     "execution_count": 28,
     "metadata": {},
     "output_type": "execute_result"
    }
   ],
   "source": [
    "len('word') >= len('word')"
   ]
  },
  {
   "cell_type": "code",
   "execution_count": 30,
   "id": "5813ef03-f823-48b0-b339-26f285c3bd88",
   "metadata": {},
   "outputs": [
    {
     "data": {
      "text/plain": [
       "True"
      ]
     },
     "execution_count": 30,
     "metadata": {},
     "output_type": "execute_result"
    }
   ],
   "source": [
    "len('words') > len('word')"
   ]
  },
  {
   "cell_type": "code",
   "execution_count": 32,
   "id": "67b7152f-7726-471e-a8da-2f023738679b",
   "metadata": {},
   "outputs": [
    {
     "data": {
      "text/plain": [
       "False"
      ]
     },
     "execution_count": 32,
     "metadata": {},
     "output_type": "execute_result"
    }
   ],
   "source": [
    "len('word') < len('word')"
   ]
  },
  {
   "cell_type": "code",
   "execution_count": 34,
   "id": "7e671bf4-2756-47cd-8d29-864da5ef0ea8",
   "metadata": {},
   "outputs": [
    {
     "data": {
      "text/plain": [
       "True"
      ]
     },
     "execution_count": 34,
     "metadata": {},
     "output_type": "execute_result"
    }
   ],
   "source": [
    "len('word') <= len('word')"
   ]
  },
  {
   "cell_type": "code",
   "execution_count": 36,
   "id": "fc507583-e01c-4874-8943-22b658120351",
   "metadata": {},
   "outputs": [
    {
     "data": {
      "text/plain": [
       "True"
      ]
     },
     "execution_count": 36,
     "metadata": {},
     "output_type": "execute_result"
    }
   ],
   "source": [
    "'or' in 'word'"
   ]
  },
  {
   "cell_type": "code",
   "execution_count": 38,
   "id": "3804a413-17ef-48ef-ab79-dd0553f73924",
   "metadata": {},
   "outputs": [
    {
     "data": {
      "text/plain": [
       "False"
      ]
     },
     "execution_count": 38,
     "metadata": {},
     "output_type": "execute_result"
    }
   ],
   "source": [
    "'nor' in 'word'"
   ]
  },
  {
   "cell_type": "code",
   "execution_count": 40,
   "id": "91dbc75b-c584-4910-8b8c-ae91b48a3d78",
   "metadata": {},
   "outputs": [
    {
     "data": {
      "text/plain": [
       "True"
      ]
     },
     "execution_count": 40,
     "metadata": {},
     "output_type": "execute_result"
    }
   ],
   "source": [
    "'nor' not in 'word'"
   ]
  },
  {
   "cell_type": "code",
   "execution_count": 42,
   "id": "d580a77a-5625-4f98-8bf0-41904619ffb9",
   "metadata": {},
   "outputs": [],
   "source": [
    "my_list = [1, 2, 3]"
   ]
  },
  {
   "cell_type": "code",
   "execution_count": 44,
   "id": "a8ac6f32-80ab-4342-a041-cb0e242bded2",
   "metadata": {},
   "outputs": [
    {
     "data": {
      "text/plain": [
       "True"
      ]
     },
     "execution_count": 44,
     "metadata": {},
     "output_type": "execute_result"
    }
   ],
   "source": [
    "2 in my_list"
   ]
  },
  {
   "cell_type": "code",
   "execution_count": 46,
   "id": "7ad01dba-5f23-41c6-aee7-f6072147ab7c",
   "metadata": {},
   "outputs": [
    {
     "data": {
      "text/plain": [
       "False"
      ]
     },
     "execution_count": 46,
     "metadata": {},
     "output_type": "execute_result"
    }
   ],
   "source": [
    "4 in my_list"
   ]
  },
  {
   "cell_type": "code",
   "execution_count": 48,
   "id": "8e989360-7266-478b-8361-72ee5be2b04d",
   "metadata": {},
   "outputs": [
    {
     "data": {
      "text/plain": [
       "False"
      ]
     },
     "execution_count": 48,
     "metadata": {},
     "output_type": "execute_result"
    }
   ],
   "source": [
    "3 in my_list and 'nor' in 'word'"
   ]
  },
  {
   "cell_type": "code",
   "execution_count": 50,
   "id": "0a7adb6d-1450-409f-a74f-735e87990919",
   "metadata": {},
   "outputs": [
    {
     "data": {
      "text/plain": [
       "True"
      ]
     },
     "execution_count": 50,
     "metadata": {},
     "output_type": "execute_result"
    }
   ],
   "source": [
    "3 in my_list or 'nor' in 'word'"
   ]
  },
  {
   "cell_type": "code",
   "execution_count": 54,
   "id": "d9d38f20-73f2-4315-86f7-e7835cdbc39f",
   "metadata": {},
   "outputs": [
    {
     "ename": "NameError",
     "evalue": "name 'word' is not defined",
     "output_type": "error",
     "traceback": [
      "\u001b[1;31m---------------------------------------------------------------------------\u001b[0m",
      "\u001b[1;31mNameError\u001b[0m                                 Traceback (most recent call last)",
      "Cell \u001b[1;32mIn[54], line 1\u001b[0m\n\u001b[1;32m----> 1\u001b[0m \u001b[38;5;241m3\u001b[39m \u001b[38;5;129;01min\u001b[39;00m my_list \u001b[38;5;129;01mand\u001b[39;00m \u001b[38;5;124m'\u001b[39m\u001b[38;5;124mnor\u001b[39m\u001b[38;5;124m'\u001b[39m \u001b[38;5;129;01min\u001b[39;00m word\n",
      "\u001b[1;31mNameError\u001b[0m: name 'word' is not defined"
     ]
    }
   ],
   "source": [
    "3 in my_list and 'nor' in word"
   ]
  },
  {
   "cell_type": "code",
   "execution_count": 56,
   "id": "204dd7ed-cdd3-4394-bda0-085f56fc2d5c",
   "metadata": {},
   "outputs": [
    {
     "data": {
      "text/plain": [
       "True"
      ]
     },
     "execution_count": 56,
     "metadata": {},
     "output_type": "execute_result"
    }
   ],
   "source": [
    "3 in my_list or 'nor' in word"
   ]
  },
  {
   "cell_type": "code",
   "execution_count": 68,
   "id": "9f24f2cc-cdf5-4e06-817f-6b1627496a5a",
   "metadata": {},
   "outputs": [
    {
     "ename": "NameError",
     "evalue": "name 'word' is not defined",
     "output_type": "error",
     "traceback": [
      "\u001b[1;31m---------------------------------------------------------------------------\u001b[0m",
      "\u001b[1;31mNameError\u001b[0m                                 Traceback (most recent call last)",
      "Cell \u001b[1;32mIn[68], line 1\u001b[0m\n\u001b[1;32m----> 1\u001b[0m \u001b[38;5;241m4\u001b[39m \u001b[38;5;129;01min\u001b[39;00m my_list \u001b[38;5;129;01mor\u001b[39;00m (\u001b[38;5;124m'\u001b[39m\u001b[38;5;124mnor\u001b[39m\u001b[38;5;124m'\u001b[39m \u001b[38;5;129;01min\u001b[39;00m word \u001b[38;5;129;01mand\u001b[39;00m \u001b[38;5;124m'\u001b[39m\u001b[38;5;124md\u001b[39m\u001b[38;5;124m'\u001b[39m \u001b[38;5;129;01min\u001b[39;00m \u001b[38;5;124m'\u001b[39m\u001b[38;5;124mword\u001b[39m\u001b[38;5;124m'\u001b[39m)\n",
      "\u001b[1;31mNameError\u001b[0m: name 'word' is not defined"
     ]
    }
   ],
   "source": [
    "4 in my_list or ('nor' in word and 'd' in 'word')"
   ]
  },
  {
   "cell_type": "code",
   "execution_count": 70,
   "id": "153d6cb3-f23d-48b5-b50a-80e8bd3cb917",
   "metadata": {},
   "outputs": [
    {
     "data": {
      "text/plain": [
       "True"
      ]
     },
     "execution_count": 70,
     "metadata": {},
     "output_type": "execute_result"
    }
   ],
   "source": [
    "4 in my_list or ('nor' in 'word' or 'd' in 'word')"
   ]
  },
  {
   "cell_type": "code",
   "execution_count": null,
   "id": "abb73820-aebf-4836-949c-705e127db3ad",
   "metadata": {},
   "outputs": [],
   "source": []
  },
  {
   "cell_type": "markdown",
   "id": "dc29650f-34b2-4e33-96f5-3f00661c79a0",
   "metadata": {},
   "source": [
    "## Assignment 1"
   ]
  },
  {
   "cell_type": "code",
   "execution_count": 74,
   "id": "9df340b1-31e5-4012-9ed7-e3fa78811730",
   "metadata": {},
   "outputs": [],
   "source": [
    "inventory_count = 5"
   ]
  },
  {
   "cell_type": "code",
   "execution_count": 76,
   "id": "383d2336-f9a9-4421-a024-6e05a703b742",
   "metadata": {},
   "outputs": [
    {
     "data": {
      "text/plain": [
       "False"
      ]
     },
     "execution_count": 76,
     "metadata": {},
     "output_type": "execute_result"
    }
   ],
   "source": [
    "#1\n",
    "inventory_count == 0"
   ]
  },
  {
   "cell_type": "code",
   "execution_count": 80,
   "id": "77e3f308-3b72-4bba-8241-e9edfa05084f",
   "metadata": {},
   "outputs": [
    {
     "data": {
      "text/plain": [
       "False"
      ]
     },
     "execution_count": 80,
     "metadata": {},
     "output_type": "execute_result"
    }
   ],
   "source": [
    "#2\n",
    "inventory_count > 5"
   ]
  },
  {
   "cell_type": "code",
   "execution_count": 84,
   "id": "1ba64981-08c8-4d62-92f3-4e63b6c76b9a",
   "metadata": {},
   "outputs": [
    {
     "data": {
      "text/plain": [
       "0.0"
      ]
     },
     "execution_count": 84,
     "metadata": {},
     "output_type": "execute_result"
    }
   ],
   "source": [
    "#3\n",
    "(inventory_count > 5) * 99.99"
   ]
  },
  {
   "cell_type": "code",
   "execution_count": 88,
   "id": "30dddb60-3c42-49e3-812b-5f83b7d4a682",
   "metadata": {},
   "outputs": [
    {
     "data": {
      "text/plain": [
       "True"
      ]
     },
     "execution_count": 88,
     "metadata": {},
     "output_type": "execute_result"
    }
   ],
   "source": [
    "price = 99.99\n",
    "inventory_count > 0 and price < 100"
   ]
  },
  {
   "cell_type": "code",
   "execution_count": 92,
   "id": "53af114c-84bb-4e66-b5ea-aae123971e11",
   "metadata": {},
   "outputs": [
    {
     "data": {
      "text/plain": [
       "False"
      ]
     },
     "execution_count": 92,
     "metadata": {},
     "output_type": "execute_result"
    }
   ],
   "source": [
    "#5\n",
    "customer_name = 'Barry'\n",
    "inventory_count = 0\n",
    "product = 'super_snowboard'\n",
    "\n",
    "inventory_count > 0 or (customer_name == 'Chris' and product == 'super_snowboard')"
   ]
  },
  {
   "cell_type": "code",
   "execution_count": 2,
   "id": "6f68368a-8408-4150-8231-13b231ad6d75",
   "metadata": {},
   "outputs": [],
   "source": [
    "customer_id = 'c0051'"
   ]
  },
  {
   "cell_type": "code",
   "execution_count": 4,
   "id": "014402ce-b5db-4b8e-a85d-4e56bbf5c848",
   "metadata": {},
   "outputs": [
    {
     "data": {
      "text/plain": [
       "51"
      ]
     },
     "execution_count": 4,
     "metadata": {},
     "output_type": "execute_result"
    }
   ],
   "source": [
    "int(customer_id.strip('c'))"
   ]
  },
  {
   "cell_type": "code",
   "execution_count": 6,
   "id": "9b5662d5-4808-46da-839c-9772a1d68972",
   "metadata": {},
   "outputs": [
    {
     "name": "stdout",
     "output_type": "stream",
     "text": [
      "You get a small prize.\n",
      "Ok, back to work!\n"
     ]
    }
   ],
   "source": [
    "if int(customer_id.strip('c')) <= 50:\n",
    "    print('You get a big prize!')\n",
    "elif int(customer_id.strip('c')) <= 100:\n",
    "    print('You get a small prize.')\n",
    "else:\n",
    "    print('Sorry, no luck for you!')\n",
    "print('Ok, back to work!')"
   ]
  },
  {
   "cell_type": "code",
   "execution_count": 8,
   "id": "a4a68e73-23c0-4104-93fa-f78fda0fa194",
   "metadata": {},
   "outputs": [],
   "source": [
    "customer_id = 'c0044'"
   ]
  },
  {
   "cell_type": "code",
   "execution_count": 10,
   "id": "da69d45e-ecf0-447a-b09f-5bf03241ecd2",
   "metadata": {},
   "outputs": [
    {
     "name": "stdout",
     "output_type": "stream",
     "text": [
      "You get a big prize!\n",
      "Ok, back to work!\n"
     ]
    }
   ],
   "source": [
    "if 50 < int(customer_id.strip('c')) <= 100:\n",
    "    print('You get a small prize.')\n",
    "elif int(customer_id.strip('c')) <= 50:\n",
    "    print('You get a big prize!')\n",
    "else:\n",
    "    print('Sorry, no luck for you!')\n",
    "print('Ok, back to work!')"
   ]
  },
  {
   "cell_type": "code",
   "execution_count": null,
   "id": "f58f0c46-1746-4e42-b0e2-26f8ec81d4e2",
   "metadata": {},
   "outputs": [],
   "source": []
  },
  {
   "cell_type": "markdown",
   "id": "2b0b96b0-5d44-4b71-bf25-2bee06337da2",
   "metadata": {},
   "source": [
    "## Assignment 1"
   ]
  },
  {
   "cell_type": "code",
   "execution_count": 14,
   "id": "435140a1-96fe-4531-abc8-78963f5bec25",
   "metadata": {},
   "outputs": [],
   "source": [
    "inventory = 3"
   ]
  },
  {
   "cell_type": "code",
   "execution_count": 16,
   "id": "4680bf77-55be-47f8-8784-de432f34b00f",
   "metadata": {},
   "outputs": [
    {
     "name": "stdout",
     "output_type": "stream",
     "text": [
      "Low Stock\n"
     ]
    }
   ],
   "source": [
    "if inventory <= 0:\n",
    "    print('OUT OF STOCK')\n",
    "elif inventory <= 5:\n",
    "    print('Low Stock')\n",
    "else:\n",
    "    print('In Stock')"
   ]
  },
  {
   "cell_type": "code",
   "execution_count": null,
   "id": "124e6e27-52b6-41b7-a24a-78ae54a82fd0",
   "metadata": {},
   "outputs": [],
   "source": []
  },
  {
   "cell_type": "markdown",
   "id": "834c9e21-d74f-47a2-a6e5-944ba4553bf9",
   "metadata": {},
   "source": [
    "## Assignment 2"
   ]
  },
  {
   "cell_type": "code",
   "execution_count": 20,
   "id": "42c805a2-e961-4524-8cb6-3555a4d2b375",
   "metadata": {},
   "outputs": [],
   "source": [
    "inventory = 0\n",
    "customer_name = 'Chris'"
   ]
  },
  {
   "cell_type": "code",
   "execution_count": 22,
   "id": "ec6b8d2b-27f4-4203-a3ee-1aa531b56179",
   "metadata": {},
   "outputs": [
    {
     "name": "stdout",
     "output_type": "stream",
     "text": [
      "You can have the display model, sir\n"
     ]
    }
   ],
   "source": [
    "if inventory <= 0:\n",
    "    if customer_name == 'Chris':\n",
    "        print('You can have the display model, sir')\n",
    "    else:\n",
    "        print('Out of stock')\n",
    "elif inventory <= 5:\n",
    "    print('Low Stock')\n",
    "else:\n",
    "    print('In Stock')"
   ]
  },
  {
   "cell_type": "code",
   "execution_count": 24,
   "id": "3391c563-e5c0-4f92-b683-3fcc464f03f7",
   "metadata": {},
   "outputs": [
    {
     "name": "stdout",
     "output_type": "stream",
     "text": [
      "You can have the display model, sir\n"
     ]
    }
   ],
   "source": [
    "if inventory <= 0 and customer_name == 'Chris':\n",
    "    print('You can have the display model, sir')\n",
    "elif inventory <= 0:\n",
    "    print('Out of stock')\n",
    "elif inventory <= 5:\n",
    "    print('Low Stock')\n",
    "else:\n",
    "    print('In Stock')"
   ]
  },
  {
   "cell_type": "code",
   "execution_count": null,
   "id": "ec34bc43-f2d6-4f5a-b158-e83dbccabaf5",
   "metadata": {},
   "outputs": [],
   "source": []
  }
 ],
 "metadata": {
  "kernelspec": {
   "display_name": "Python [conda env:base] *",
   "language": "python",
   "name": "conda-base-py"
  },
  "language_info": {
   "codemirror_mode": {
    "name": "ipython",
    "version": 3
   },
   "file_extension": ".py",
   "mimetype": "text/x-python",
   "name": "python",
   "nbconvert_exporter": "python",
   "pygments_lexer": "ipython3",
   "version": "3.12.7"
  }
 },
 "nbformat": 4,
 "nbformat_minor": 5
}
