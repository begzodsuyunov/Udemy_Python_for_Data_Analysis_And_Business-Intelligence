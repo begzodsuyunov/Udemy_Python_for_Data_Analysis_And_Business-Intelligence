{
 "cells": [
  {
   "cell_type": "markdown",
   "id": "6a817347-4c8f-4102-b05f-c3fb2124abde",
   "metadata": {},
   "source": [
    "## List Operations"
   ]
  },
  {
   "cell_type": "code",
   "execution_count": 5,
   "id": "f72e10f7-e0b4-41b7-b6b1-ca4e24bea630",
   "metadata": {},
   "outputs": [
    {
     "data": {
      "text/plain": [
       "['c0001', 'c0003', 'c0005', 'c00010', 'c00015']"
      ]
     },
     "execution_count": 5,
     "metadata": {},
     "output_type": "execute_result"
    }
   ],
   "source": [
    "customer_ids = ['c0001', 'c0003','c0005','c00010','c00015']\n",
    "\n",
    "customer_ids"
   ]
  },
  {
   "cell_type": "code",
   "execution_count": 10,
   "id": "4dbd0b7d-76e4-499e-b98d-a48a7898332d",
   "metadata": {},
   "outputs": [
    {
     "data": {
      "text/plain": [
       "True"
      ]
     },
     "execution_count": 10,
     "metadata": {},
     "output_type": "execute_result"
    }
   ],
   "source": [
    "'c0003' in customer_ids"
   ]
  },
  {
   "cell_type": "code",
   "execution_count": 12,
   "id": "54c715e2-73bd-4908-9728-a229b5bc4bf2",
   "metadata": {},
   "outputs": [
    {
     "data": {
      "text/plain": [
       "False"
      ]
     },
     "execution_count": 12,
     "metadata": {},
     "output_type": "execute_result"
    }
   ],
   "source": [
    "'c0004' in customer_ids"
   ]
  },
  {
   "cell_type": "code",
   "execution_count": 14,
   "id": "cc275fc8-4796-4cba-8611-5c0e7024ce87",
   "metadata": {},
   "outputs": [
    {
     "data": {
      "text/plain": [
       "'c0005'"
      ]
     },
     "execution_count": 14,
     "metadata": {},
     "output_type": "execute_result"
    }
   ],
   "source": [
    "customer_ids [2]"
   ]
  },
  {
   "cell_type": "code",
   "execution_count": 20,
   "id": "5afb2dff-9004-419d-9c07-50d769815078",
   "metadata": {},
   "outputs": [
    {
     "data": {
      "text/plain": [
       "5"
      ]
     },
     "execution_count": 20,
     "metadata": {},
     "output_type": "execute_result"
    }
   ],
   "source": [
    "int(customer_ids[2][-4:])"
   ]
  },
  {
   "cell_type": "code",
   "execution_count": 22,
   "id": "7f1317f2-8178-4fe5-a649-0ccaaef01ceb",
   "metadata": {},
   "outputs": [
    {
     "data": {
      "text/plain": [
       "['c0001', 'c0003']"
      ]
     },
     "execution_count": 22,
     "metadata": {},
     "output_type": "execute_result"
    }
   ],
   "source": [
    "customer_ids[:2]"
   ]
  },
  {
   "cell_type": "code",
   "execution_count": 31,
   "id": "9917ea02-c3e5-448b-83d4-a5b3178f6402",
   "metadata": {},
   "outputs": [
    {
     "data": {
      "text/plain": [
       "['Chair', 'Lamp', 'Desk']"
      ]
     },
     "execution_count": 31,
     "metadata": {},
     "output_type": "execute_result"
    }
   ],
   "source": [
    "furniture_list = [\"Couch\", \"Chair\", \"Table\", \"Lamp\", \"Desk\", \"Rug\"]\n",
    "\n",
    "office_furniture = [furniture_list[1], furniture_list[-3], furniture_list[-2]]\n",
    "office_furniture"
   ]
  },
  {
   "cell_type": "code",
   "execution_count": null,
   "id": "61d45d8f-6b9a-481c-abef-fad67cf4fda3",
   "metadata": {},
   "outputs": [],
   "source": []
  },
  {
   "cell_type": "markdown",
   "id": "6396b45a-a79d-40ac-a152-abfa3a748e2b",
   "metadata": {},
   "source": [
    "## Assignment 1"
   ]
  },
  {
   "cell_type": "code",
   "execution_count": 33,
   "id": "9f6e671a-8ef3-4561-a9b3-9441d9fdea80",
   "metadata": {},
   "outputs": [
    {
     "data": {
      "text/plain": [
       "['C00001',\n",
       " 'C00003',\n",
       " 'C00004',\n",
       " 'C00005',\n",
       " 'C00006',\n",
       " 'C00007',\n",
       " 'C00018',\n",
       " 'C00010',\n",
       " 'C00013',\n",
       " 'C00014',\n",
       " 'C00015',\n",
       " 'C00016',\n",
       " 'C00029']"
      ]
     },
     "execution_count": 33,
     "metadata": {},
     "output_type": "execute_result"
    }
   ],
   "source": [
    "customer_list = [\n",
    "    'C00001', 'C00003', 'C00004','C00005', 'C00006', \n",
    "    'C00007', 'C00018', 'C00010', 'C00013', 'C00014', \n",
    "    'C00015', 'C00016', 'C00029'\n",
    "]\n",
    "customer_list"
   ]
  },
  {
   "cell_type": "code",
   "execution_count": 45,
   "id": "50e42a98-84c2-49b1-9dde-a619e8fd4bf8",
   "metadata": {},
   "outputs": [
    {
     "name": "stdout",
     "output_type": "stream",
     "text": [
      "0.0\n"
     ]
    }
   ],
   "source": [
    "if 'C00009' in customer_list:\n",
    "    print(99.99)\n",
    "else:\n",
    "    print(0.0)"
   ]
  },
  {
   "cell_type": "code",
   "execution_count": 67,
   "id": "8bd2a165-906c-4011-b18f-29835e037c73",
   "metadata": {},
   "outputs": [
    {
     "data": {
      "text/plain": [
       "0.0"
      ]
     },
     "execution_count": 67,
     "metadata": {},
     "output_type": "execute_result"
    }
   ],
   "source": [
    "('C00009' in customer_list) * 99.99"
   ]
  },
  {
   "cell_type": "code",
   "execution_count": 53,
   "id": "6b4ea6c5-79a2-4352-981d-f2dad6cfba0e",
   "metadata": {},
   "outputs": [
    {
     "data": {
      "text/plain": [
       "['C00006', 'C00007']"
      ]
     },
     "execution_count": 53,
     "metadata": {},
     "output_type": "execute_result"
    }
   ],
   "source": [
    "fifth_sixth = customer_list[4:6]\n",
    "fifth_sixth"
   ]
  },
  {
   "cell_type": "code",
   "execution_count": 57,
   "id": "014913f4-4e23-4954-bd28-5c0d33541cfa",
   "metadata": {},
   "outputs": [
    {
     "data": {
      "text/plain": [
       "['C00001', 'C00005', 'C00018', 'C00014', 'C00029']"
      ]
     },
     "execution_count": 57,
     "metadata": {},
     "output_type": "execute_result"
    }
   ],
   "source": [
    "every_third = customer_list[::3]\n",
    "every_third"
   ]
  },
  {
   "cell_type": "code",
   "execution_count": 65,
   "id": "ddc77763-7042-4419-a836-12f018b510a3",
   "metadata": {},
   "outputs": [
    {
     "data": {
      "text/plain": [
       "['C00016', 'C00029']"
      ]
     },
     "execution_count": 65,
     "metadata": {},
     "output_type": "execute_result"
    }
   ],
   "source": [
    "last_two = customer_list[-2:]\n",
    "last_two"
   ]
  },
  {
   "cell_type": "code",
   "execution_count": null,
   "id": "0c4a0e9e-6a65-4072-9999-e9504249522d",
   "metadata": {},
   "outputs": [],
   "source": []
  },
  {
   "cell_type": "markdown",
   "id": "30bf9dc0-a874-4b5d-b419-be90b8b8ceea",
   "metadata": {},
   "source": [
    "## Modifying List"
   ]
  },
  {
   "cell_type": "markdown",
   "id": "454c6994-810a-4acd-a2cb-3f52ea1ef1b9",
   "metadata": {},
   "source": [
    "### Assignment 3"
   ]
  },
  {
   "cell_type": "code",
   "execution_count": 108,
   "id": "07304ed8-24a9-4a36-ae8e-180d4091e355",
   "metadata": {},
   "outputs": [],
   "source": [
    "customer_list = [\n",
    "    'C00001', 'C00003', 'C00004','C00005', 'C00006', \n",
    "    'C00007', 'C00008', 'C00010', 'C00013', 'C00014', \n",
    "    'C00015', 'C00016', 'C00020'\n",
    "]"
   ]
  },
  {
   "cell_type": "code",
   "execution_count": 110,
   "id": "988fda83-35a2-406f-8413-bd7b8db283fb",
   "metadata": {},
   "outputs": [],
   "source": [
    "saturday_list = [\n",
    "    'C00004', 'C00017', 'C00019', 'C00002', 'C00008',\n",
    "    'C00021', 'C00022'\n",
    "]"
   ]
  },
  {
   "cell_type": "code",
   "execution_count": 112,
   "id": "946a3b2c-fef0-4365-bc90-a740013c4e0a",
   "metadata": {},
   "outputs": [],
   "source": [
    "customer_list.append('C00009')"
   ]
  },
  {
   "cell_type": "code",
   "execution_count": 114,
   "id": "b981da16-82e1-4aeb-aad9-98617e5a9229",
   "metadata": {},
   "outputs": [],
   "source": [
    "customer_list = customer_list + saturday_list"
   ]
  },
  {
   "cell_type": "code",
   "execution_count": 116,
   "id": "f1d7953c-c6ef-40db-9ddf-88a16ee69c2c",
   "metadata": {},
   "outputs": [
    {
     "data": {
      "text/plain": [
       "['C00001',\n",
       " 'C00003',\n",
       " 'C00004',\n",
       " 'C00005',\n",
       " 'C00006',\n",
       " 'C00007',\n",
       " 'C00008',\n",
       " 'C00010',\n",
       " 'C00013',\n",
       " 'C00014',\n",
       " 'C00015',\n",
       " 'C00016',\n",
       " 'C00020',\n",
       " 'C00009',\n",
       " 'C00004',\n",
       " 'C00017',\n",
       " 'C00019',\n",
       " 'C00002',\n",
       " 'C00008',\n",
       " 'C00021',\n",
       " 'C00022']"
      ]
     },
     "execution_count": 116,
     "metadata": {},
     "output_type": "execute_result"
    }
   ],
   "source": [
    "customer_list"
   ]
  },
  {
   "cell_type": "code",
   "execution_count": null,
   "id": "3bb442c9-4cb9-41bb-900c-e83a690ab123",
   "metadata": {},
   "outputs": [],
   "source": []
  },
  {
   "cell_type": "markdown",
   "id": "0a5d461d-9f2b-4530-afa6-522777e9dff4",
   "metadata": {},
   "source": [
    "### Assignment 4"
   ]
  },
  {
   "cell_type": "code",
   "execution_count": 118,
   "id": "efca8a1b-dbf6-4e47-8d72-7092837df14f",
   "metadata": {},
   "outputs": [
    {
     "data": {
      "text/plain": [
       "['C00001',\n",
       " 'C00003',\n",
       " 'C00004',\n",
       " 'C00005',\n",
       " 'C00006',\n",
       " 'C00007',\n",
       " 'C00008',\n",
       " 'C00010',\n",
       " 'C00013',\n",
       " 'C00014',\n",
       " 'C00015',\n",
       " 'C00016',\n",
       " 'C00020',\n",
       " 'C00009']"
      ]
     },
     "execution_count": 118,
     "metadata": {},
     "output_type": "execute_result"
    }
   ],
   "source": [
    "#Part1\n",
    "del customer_list[-7:]\n",
    "customer_list"
   ]
  },
  {
   "cell_type": "code",
   "execution_count": 102,
   "id": "fcc2e84f-737e-4257-ac29-8a951e3a9adb",
   "metadata": {},
   "outputs": [
    {
     "data": {
      "text/plain": [
       "7"
      ]
     },
     "execution_count": 102,
     "metadata": {},
     "output_type": "execute_result"
    }
   ],
   "source": [
    "len(saturday_list)"
   ]
  },
  {
   "cell_type": "code",
   "execution_count": 120,
   "id": "f2702662-f2e6-47fa-8d26-7b2e9e1fd6af",
   "metadata": {},
   "outputs": [
    {
     "data": {
      "text/plain": [
       "['C00001',\n",
       " 'C00003',\n",
       " 'C00005',\n",
       " 'C00006',\n",
       " 'C00007',\n",
       " 'C00008',\n",
       " 'C00010',\n",
       " 'C00013',\n",
       " 'C00014',\n",
       " 'C00015',\n",
       " 'C00016',\n",
       " 'C00020',\n",
       " 'C00009']"
      ]
     },
     "execution_count": 120,
     "metadata": {},
     "output_type": "execute_result"
    }
   ],
   "source": [
    "#Part2\n",
    "customer_list.remove('C00004')\n",
    "customer_list"
   ]
  },
  {
   "cell_type": "code",
   "execution_count": null,
   "id": "0b2d807a-6606-4443-b743-7b922c34eaa9",
   "metadata": {},
   "outputs": [],
   "source": []
  },
  {
   "cell_type": "markdown",
   "id": "efcd1e9e-91a7-42ec-b0f7-9e8f51caedf5",
   "metadata": {},
   "source": [
    "#### Practice"
   ]
  },
  {
   "cell_type": "code",
   "execution_count": 124,
   "id": "aa275f9e-0e8d-4eed-aafc-06706054960d",
   "metadata": {},
   "outputs": [
    {
     "data": {
      "text/plain": [
       "['C00001', 'C00003', 'C00005', 'C00010']"
      ]
     },
     "execution_count": 124,
     "metadata": {},
     "output_type": "execute_result"
    }
   ],
   "source": [
    "customer_ids = ['C00001', 'C00003', 'C00005', 'C00010']\n",
    "customer_ids"
   ]
  },
  {
   "cell_type": "code",
   "execution_count": 126,
   "id": "75b6d348-3696-4b00-9321-2a25dedf62e6",
   "metadata": {},
   "outputs": [],
   "source": [
    "customer_ids[1] = 'C00004'"
   ]
  },
  {
   "cell_type": "code",
   "execution_count": 128,
   "id": "78bbf08a-cd14-423e-b0e1-108b57e659b0",
   "metadata": {},
   "outputs": [
    {
     "data": {
      "text/plain": [
       "['C00001', 'C00004', 'C00005', 'C00010']"
      ]
     },
     "execution_count": 128,
     "metadata": {},
     "output_type": "execute_result"
    }
   ],
   "source": [
    "customer_ids"
   ]
  },
  {
   "cell_type": "code",
   "execution_count": 130,
   "id": "d187a806-c0b9-4782-826e-96403fba2065",
   "metadata": {},
   "outputs": [
    {
     "ename": "IndexError",
     "evalue": "list assignment index out of range",
     "output_type": "error",
     "traceback": [
      "\u001b[1;31m---------------------------------------------------------------------------\u001b[0m",
      "\u001b[1;31mIndexError\u001b[0m                                Traceback (most recent call last)",
      "Cell \u001b[1;32mIn[130], line 1\u001b[0m\n\u001b[1;32m----> 1\u001b[0m customer_ids[\u001b[38;5;241m4\u001b[39m] \u001b[38;5;241m=\u001b[39m \u001b[38;5;124m'\u001b[39m\u001b[38;5;124mC00011\u001b[39m\u001b[38;5;124m'\u001b[39m\n",
      "\u001b[1;31mIndexError\u001b[0m: list assignment index out of range"
     ]
    }
   ],
   "source": [
    "customer_ids[4] = 'C00011'"
   ]
  },
  {
   "cell_type": "code",
   "execution_count": 132,
   "id": "33f4d24c-28ed-403f-8f1b-977670497a0c",
   "metadata": {},
   "outputs": [],
   "source": [
    "customer_ids.append('C00011')"
   ]
  },
  {
   "cell_type": "code",
   "execution_count": 134,
   "id": "93ffb09c-c431-4988-a917-bf6ef35664b1",
   "metadata": {},
   "outputs": [
    {
     "data": {
      "text/plain": [
       "['C00001', 'C00004', 'C00005', 'C00010', 'C00011']"
      ]
     },
     "execution_count": 134,
     "metadata": {},
     "output_type": "execute_result"
    }
   ],
   "source": [
    "customer_ids"
   ]
  },
  {
   "cell_type": "code",
   "execution_count": 136,
   "id": "db15f699-8fbd-4ff6-b79e-e72f3ec9175d",
   "metadata": {},
   "outputs": [
    {
     "data": {
      "text/plain": [
       "['C00001', 'C00003', 'C00004', 'C00005', 'C00010', 'C00011']"
      ]
     },
     "execution_count": 136,
     "metadata": {},
     "output_type": "execute_result"
    }
   ],
   "source": [
    "customer_ids.insert(1, 'C00003')\n",
    "customer_ids"
   ]
  },
  {
   "cell_type": "code",
   "execution_count": 138,
   "id": "c04d2b5a-69f1-440c-80c5-3d365690a718",
   "metadata": {},
   "outputs": [],
   "source": [
    "new_customer_ids = ['C00012', 'C00015']\n",
    "\n",
    "all_customers = customer_ids + new_customer_ids"
   ]
  },
  {
   "cell_type": "code",
   "execution_count": 140,
   "id": "c2c42659-5c41-4a23-b8ad-2372da8145f2",
   "metadata": {},
   "outputs": [
    {
     "data": {
      "text/plain": [
       "['C00001',\n",
       " 'C00003',\n",
       " 'C00004',\n",
       " 'C00005',\n",
       " 'C00010',\n",
       " 'C00011',\n",
       " 'C00012',\n",
       " 'C00015']"
      ]
     },
     "execution_count": 140,
     "metadata": {},
     "output_type": "execute_result"
    }
   ],
   "source": [
    "all_customers"
   ]
  },
  {
   "cell_type": "code",
   "execution_count": 142,
   "id": "15f2f305-5aee-4808-9b11-82046e8b6bd8",
   "metadata": {},
   "outputs": [
    {
     "data": {
      "text/plain": [
       "['C00001', 'C00004', 'C00005', 'C00010', 'C00011', 'C00012', 'C00015']"
      ]
     },
     "execution_count": 142,
     "metadata": {},
     "output_type": "execute_result"
    }
   ],
   "source": [
    "del all_customers[1]\n",
    "\n",
    "all_customers"
   ]
  },
  {
   "cell_type": "code",
   "execution_count": 144,
   "id": "145382df-b3aa-4b13-8446-f85285059d72",
   "metadata": {},
   "outputs": [
    {
     "data": {
      "text/plain": [
       "['C00001', 'C00004', 'C00010', 'C00011', 'C00012', 'C00015']"
      ]
     },
     "execution_count": 144,
     "metadata": {},
     "output_type": "execute_result"
    }
   ],
   "source": [
    "if 'C00001' in all_customers:\n",
    "    all_customers.remove('C00005')\n",
    "\n",
    "all_customers\n"
   ]
  },
  {
   "cell_type": "code",
   "execution_count": null,
   "id": "6bc388be-6ec0-41d6-8db7-2ede0e0f0032",
   "metadata": {},
   "outputs": [],
   "source": []
  },
  {
   "cell_type": "code",
   "execution_count": 165,
   "id": "5d6308a6-6499-4a3d-a45c-87236feee601",
   "metadata": {},
   "outputs": [],
   "source": [
    "furniture_list = [\"Couch\", \"Chair\", \"Table\", \"Lamp\", \"Desk\", \"Rug\"]\n",
    "\n",
    "furniture_list.remove('Rug')\n",
    "\n",
    "furniture_list[0] = 'Sofa'"
   ]
  },
  {
   "cell_type": "code",
   "execution_count": 167,
   "id": "e91206b7-8023-4502-ad69-cdd17344a000",
   "metadata": {},
   "outputs": [
    {
     "data": {
      "text/plain": [
       "['Sofa', 'Chair', 'Table', 'Lamp', 'Desk']"
      ]
     },
     "execution_count": 167,
     "metadata": {},
     "output_type": "execute_result"
    }
   ],
   "source": [
    "furniture_list"
   ]
  },
  {
   "cell_type": "code",
   "execution_count": null,
   "id": "85759b33-71d6-4111-a5de-3b0026857e2a",
   "metadata": {},
   "outputs": [],
   "source": []
  },
  {
   "cell_type": "markdown",
   "id": "0984af1d-1f02-461d-8223-7fd772ee02f0",
   "metadata": {},
   "source": [
    "### Methods & Functions"
   ]
  },
  {
   "cell_type": "code",
   "execution_count": 171,
   "id": "2cccfae3-0728-4f62-aec5-287965c3bbc7",
   "metadata": {},
   "outputs": [
    {
     "data": {
      "text/plain": [
       "['C00001', 'C00004', 'C00010', 'C00004', 'C00011', 'C00004']"
      ]
     },
     "execution_count": 171,
     "metadata": {},
     "output_type": "execute_result"
    }
   ],
   "source": [
    "customer_ids = ['C00001', 'C00004', 'C00010', 'C00004', 'C00011', 'C00004']\n",
    "customer_ids"
   ]
  },
  {
   "cell_type": "code",
   "execution_count": 175,
   "id": "8ec03072-8a7c-4cbc-9f49-b3d6cecefd5c",
   "metadata": {},
   "outputs": [
    {
     "data": {
      "text/plain": [
       "3"
      ]
     },
     "execution_count": 175,
     "metadata": {},
     "output_type": "execute_result"
    }
   ],
   "source": [
    "customer_ids.count('C00004')"
   ]
  },
  {
   "cell_type": "code",
   "execution_count": 177,
   "id": "f5005a18-5ca1-4a26-acfa-dc05b1054e5c",
   "metadata": {},
   "outputs": [
    {
     "data": {
      "text/plain": [
       "6"
      ]
     },
     "execution_count": 177,
     "metadata": {},
     "output_type": "execute_result"
    }
   ],
   "source": [
    "len(customer_ids)"
   ]
  },
  {
   "cell_type": "code",
   "execution_count": 179,
   "id": "ca33da0a-aee2-4a59-9937-cac06578809f",
   "metadata": {},
   "outputs": [
    {
     "data": {
      "text/plain": [
       "0.5"
      ]
     },
     "execution_count": 179,
     "metadata": {},
     "output_type": "execute_result"
    }
   ],
   "source": [
    "customer_ids.count('C00004') / len(customer_ids)"
   ]
  },
  {
   "cell_type": "code",
   "execution_count": 185,
   "id": "a5faa4c6-4827-4daf-83e8-d17a59a20424",
   "metadata": {},
   "outputs": [
    {
     "data": {
      "text/plain": [
       "['C00004']"
      ]
     },
     "execution_count": 185,
     "metadata": {},
     "output_type": "execute_result"
    }
   ],
   "source": [
    "vip_customers = []\n",
    "\n",
    "customer_id = 'C00004'\n",
    "\n",
    "if customer_ids.count(customer_id) / len(customer_ids) > 0.2:\n",
    "    vip_customers.append(customer_id)\n",
    "\n",
    "vip_customers"
   ]
  },
  {
   "cell_type": "code",
   "execution_count": 187,
   "id": "284cf6d1-a30a-41f3-99d4-2ce8706b83aa",
   "metadata": {},
   "outputs": [
    {
     "data": {
      "text/plain": [
       "['C00001', 'C00004', 'C00004', 'C00004', 'C00010', 'C00011']"
      ]
     },
     "execution_count": 187,
     "metadata": {},
     "output_type": "execute_result"
    }
   ],
   "source": [
    "customer_ids.sort()\n",
    "\n",
    "customer_ids"
   ]
  },
  {
   "cell_type": "code",
   "execution_count": 191,
   "id": "b5e0d7f1-f0c8-4cc6-b27f-ade6ef007b17",
   "metadata": {},
   "outputs": [
    {
     "data": {
      "text/plain": [
       "['C00010', 'C00011']"
      ]
     },
     "execution_count": 191,
     "metadata": {},
     "output_type": "execute_result"
    }
   ],
   "source": [
    "customer_ids[-2:]"
   ]
  },
  {
   "cell_type": "code",
   "execution_count": 193,
   "id": "9d8fca4c-e6d4-4d8b-804c-b7e1c1de65e9",
   "metadata": {},
   "outputs": [],
   "source": [
    "customer_ids.reverse()"
   ]
  },
  {
   "cell_type": "code",
   "execution_count": 195,
   "id": "3e63e538-fdfd-4cd3-b0a3-d435a14d32ed",
   "metadata": {},
   "outputs": [
    {
     "data": {
      "text/plain": [
       "['C00011', 'C00010', 'C00004', 'C00004', 'C00004', 'C00001']"
      ]
     },
     "execution_count": 195,
     "metadata": {},
     "output_type": "execute_result"
    }
   ],
   "source": [
    "customer_ids"
   ]
  },
  {
   "cell_type": "code",
   "execution_count": null,
   "id": "af03ff28-df2a-41be-858b-61bbb47e213b",
   "metadata": {},
   "outputs": [],
   "source": []
  },
  {
   "cell_type": "code",
   "execution_count": 203,
   "id": "032c681d-c6e8-4568-8b35-a3bf3529e68c",
   "metadata": {},
   "outputs": [
    {
     "name": "stdout",
     "output_type": "stream",
     "text": [
      "Enjoy a 10% discount today!\n"
     ]
    }
   ],
   "source": [
    "customer_id = 'C00011'\n",
    "\n",
    "if customer_ids.index(customer_id) < 2:\n",
    "    print('Enjoy a 10% discount today!')"
   ]
  },
  {
   "cell_type": "code",
   "execution_count": 205,
   "id": "ecd87a66-84df-418b-be81-8af3f5828068",
   "metadata": {},
   "outputs": [
    {
     "data": {
      "text/plain": [
       "['C00001', 'C00004', 'C00004', 'C00004', 'C00010', 'C00011']"
      ]
     },
     "execution_count": 205,
     "metadata": {},
     "output_type": "execute_result"
    }
   ],
   "source": [
    "new_list = sorted(customer_ids)\n",
    "\n",
    "new_list"
   ]
  },
  {
   "cell_type": "code",
   "execution_count": null,
   "id": "4b2e8d16-9ec3-4ac3-997f-ff5d231709a4",
   "metadata": {},
   "outputs": [],
   "source": []
  },
  {
   "cell_type": "markdown",
   "id": "6d7395a2-8975-4788-8786-5d0b5b6c75f0",
   "metadata": {},
   "source": [
    "#### Assignment 5"
   ]
  },
  {
   "cell_type": "code",
   "execution_count": 209,
   "id": "4479cbea-eda7-47cb-b767-d8651c657825",
   "metadata": {},
   "outputs": [],
   "source": [
    "customer_ids = [\n",
    "    'C00004', 'C00007', 'C00015', 'C00016', 'C00020',\n",
    "    'C00010', 'C00006', 'C00001', 'C00003', 'C00014',\n",
    "    'C00001', 'C00001', 'C00005', 'C00008', 'C00013',\n",
    "    'C00004', 'C00017', 'C00019', 'C00002', 'C00008',\n",
    "    'C00021', 'C00022', 'C00006', 'C00018', 'C00018',\n",
    "    'C00010', 'C00016'\n",
    "]\n",
    "\n",
    "subtotals = [\n",
    "    15.98, 899.97, 799.97, 117.96, 5.99,\n",
    "    599.99, 24.99, 1799.94, 99.99, 254.95,\n",
    "    29.98, 99.99, 25.98, 649.98, 89.99,\n",
    "    119.99, 599.99, 649.98, 24.99, 99.99,\n",
    "    99.99, 5.99, 24.99, 999.96, 99.99,\n",
    "    399.97, 89.99\n",
    "]"
   ]
  },
  {
   "cell_type": "code",
   "execution_count": 223,
   "id": "67970128-b60a-48a7-b3ba-96a56fb653b9",
   "metadata": {},
   "outputs": [
    {
     "data": {
      "text/plain": [
       "323.3877777777777"
      ]
     },
     "execution_count": 223,
     "metadata": {},
     "output_type": "execute_result"
    }
   ],
   "source": [
    "#Part 1\n",
    "sum(subtotals) / len(customer_ids)"
   ]
  },
  {
   "cell_type": "code",
   "execution_count": 229,
   "id": "803e9d68-383f-4ae0-a120-17083bd70241",
   "metadata": {},
   "outputs": [
    {
     "data": {
      "text/plain": [
       "2"
      ]
     },
     "execution_count": 229,
     "metadata": {},
     "output_type": "execute_result"
    }
   ],
   "source": [
    "#Part 2\n",
    "customer_ids.count('C00010')"
   ]
  },
  {
   "cell_type": "code",
   "execution_count": 231,
   "id": "a91fb6e2-e7a9-4c66-9d38-9b81bb1a7d96",
   "metadata": {},
   "outputs": [
    {
     "data": {
      "text/plain": [
       "5"
      ]
     },
     "execution_count": 231,
     "metadata": {},
     "output_type": "execute_result"
    }
   ],
   "source": [
    "#Part 3\n",
    "customer_index = customer_ids.index('C00010')\n",
    "\n",
    "customer_index"
   ]
  },
  {
   "cell_type": "code",
   "execution_count": 235,
   "id": "30b5c46f-7492-482f-b591-fea54710b7b2",
   "metadata": {},
   "outputs": [
    {
     "data": {
      "text/plain": [
       "599.99"
      ]
     },
     "execution_count": 235,
     "metadata": {},
     "output_type": "execute_result"
    }
   ],
   "source": [
    "#Part 4\n",
    "subtotals[customer_index]"
   ]
  },
  {
   "cell_type": "code",
   "execution_count": null,
   "id": "a46ee151-17c0-4120-9db4-4f7dd9b84ebd",
   "metadata": {},
   "outputs": [],
   "source": []
  },
  {
   "cell_type": "markdown",
   "id": "cd788ddb-de1d-4aff-a757-e3a9b2545108",
   "metadata": {},
   "source": [
    "### Nested Lists and Copying"
   ]
  },
  {
   "cell_type": "code",
   "execution_count": 268,
   "id": "3f438d08-362e-4465-b434-0a61c9eb8217",
   "metadata": {},
   "outputs": [],
   "source": [
    "items = ['skis', 'snowboards', 'goggles', 'boots']\n",
    "\n",
    "item_details = [[5, 249.99], [0, 219.99], [0, 99.99], [12, 79.99]]"
   ]
  },
  {
   "cell_type": "code",
   "execution_count": 241,
   "id": "72b7d0f9-f6dc-4799-bd55-0f3d6c7f3869",
   "metadata": {},
   "outputs": [
    {
     "data": {
      "text/plain": [
       "[0, 219.99]"
      ]
     },
     "execution_count": 241,
     "metadata": {},
     "output_type": "execute_result"
    }
   ],
   "source": [
    "item_details[1]"
   ]
  },
  {
   "cell_type": "code",
   "execution_count": 243,
   "id": "1d2dc77a-6fe7-460f-b6bf-8928018628a0",
   "metadata": {},
   "outputs": [
    {
     "data": {
      "text/plain": [
       "219.99"
      ]
     },
     "execution_count": 243,
     "metadata": {},
     "output_type": "execute_result"
    }
   ],
   "source": [
    "item_details[1][1]"
   ]
  },
  {
   "cell_type": "code",
   "execution_count": 247,
   "id": "59ab7cd9-be90-40e9-8140-a7a8827e824d",
   "metadata": {},
   "outputs": [
    {
     "data": {
      "text/plain": [
       "274.99"
      ]
     },
     "execution_count": 247,
     "metadata": {},
     "output_type": "execute_result"
    }
   ],
   "source": [
    "round(item_details[0][1] * 1.1, 2)"
   ]
  },
  {
   "cell_type": "code",
   "execution_count": 249,
   "id": "1ec82397-ef8b-4fe1-9763-cde26e800852",
   "metadata": {},
   "outputs": [
    {
     "data": {
      "text/plain": [
       "[[5, 249.99], [0, 219.99], [0, 99.99], [12, 79.99]]"
      ]
     },
     "execution_count": 249,
     "metadata": {},
     "output_type": "execute_result"
    }
   ],
   "source": [
    "#Variable method\n",
    "winter_details = item_details\n",
    "\n",
    "winter_details"
   ]
  },
  {
   "cell_type": "code",
   "execution_count": 251,
   "id": "cfc372c8-42e1-49ee-ba06-f63c0212a8ef",
   "metadata": {},
   "outputs": [
    {
     "data": {
      "text/plain": [
       "[[100, 274.99], [0, 219.99], [0, 99.99], [12, 79.99]]"
      ]
     },
     "execution_count": 251,
     "metadata": {},
     "output_type": "execute_result"
    }
   ],
   "source": [
    "winter_details[0] = [100, 274.99]\n",
    "\n",
    "winter_details"
   ]
  },
  {
   "cell_type": "code",
   "execution_count": 253,
   "id": "229c6dde-2d66-4cf4-8df2-2befe8ccde48",
   "metadata": {},
   "outputs": [
    {
     "data": {
      "text/plain": [
       "[[100, 274.99], [0, 219.99], [0, 99.99], [12, 79.99]]"
      ]
     },
     "execution_count": 253,
     "metadata": {},
     "output_type": "execute_result"
    }
   ],
   "source": [
    "item_details"
   ]
  },
  {
   "cell_type": "code",
   "execution_count": 257,
   "id": "58efd0a7-0f2c-4303-8b25-57c170b975af",
   "metadata": {},
   "outputs": [
    {
     "data": {
      "text/plain": [
       "[[5, 249.99], [0, 219.99], [0, 99.99], [12, 79.99]]"
      ]
     },
     "execution_count": 257,
     "metadata": {},
     "output_type": "execute_result"
    }
   ],
   "source": [
    "#Copy Method\n",
    "\n",
    "winter_details = item_details.copy()\n",
    "\n",
    "winter_details"
   ]
  },
  {
   "cell_type": "code",
   "execution_count": 259,
   "id": "0620a14a-e100-4912-8991-ebecbf953877",
   "metadata": {},
   "outputs": [
    {
     "data": {
      "text/plain": [
       "[[100, 274.99], [0, 219.99], [0, 99.99], [12, 79.99]]"
      ]
     },
     "execution_count": 259,
     "metadata": {},
     "output_type": "execute_result"
    }
   ],
   "source": [
    "winter_details[0] = [100, 274.99]\n",
    "\n",
    "winter_details"
   ]
  },
  {
   "cell_type": "code",
   "execution_count": 261,
   "id": "54e90d6c-7783-468c-9052-ebf1a53521c2",
   "metadata": {},
   "outputs": [
    {
     "data": {
      "text/plain": [
       "[[5, 249.99], [0, 219.99], [0, 99.99], [12, 79.99]]"
      ]
     },
     "execution_count": 261,
     "metadata": {},
     "output_type": "execute_result"
    }
   ],
   "source": [
    "item_details"
   ]
  },
  {
   "cell_type": "code",
   "execution_count": 263,
   "id": "b7af0676-8dda-4ab8-a69e-09633fcf89b1",
   "metadata": {},
   "outputs": [
    {
     "data": {
      "text/plain": [
       "[[100, 274.99], [50, 219.99], [0, 99.99], [12, 79.99]]"
      ]
     },
     "execution_count": 263,
     "metadata": {},
     "output_type": "execute_result"
    }
   ],
   "source": [
    "#the change will be saved to the original data \n",
    "#bcs we are changing one element from the list\n",
    "winter_details[1][0] = 50\n",
    "\n",
    "winter_details"
   ]
  },
  {
   "cell_type": "code",
   "execution_count": 266,
   "id": "ce8257d8-627d-4e3f-a647-8ff61888e45d",
   "metadata": {},
   "outputs": [
    {
     "data": {
      "text/plain": [
       "[[5, 249.99], [50, 219.99], [0, 99.99], [12, 79.99]]"
      ]
     },
     "execution_count": 266,
     "metadata": {},
     "output_type": "execute_result"
    }
   ],
   "source": [
    "item_details"
   ]
  },
  {
   "cell_type": "code",
   "execution_count": 270,
   "id": "ee42b6fe-30cd-4569-8698-6a254fa0e322",
   "metadata": {},
   "outputs": [
    {
     "data": {
      "text/plain": [
       "[[5, 249.99], [0, 219.99], [0, 99.99], [12, 79.99]]"
      ]
     },
     "execution_count": 270,
     "metadata": {},
     "output_type": "execute_result"
    }
   ],
   "source": [
    "#Deepcopy method\n",
    "\n",
    "from copy import deepcopy\n",
    "\n",
    "winter_details = deepcopy(item_details)\n",
    "winter_details"
   ]
  },
  {
   "cell_type": "code",
   "execution_count": 272,
   "id": "82a4b7fd-149d-4492-98f3-5854e6939a56",
   "metadata": {},
   "outputs": [
    {
     "data": {
      "text/plain": [
       "[[100, 274.99], [0, 219.99], [0, 99.99], [12, 79.99]]"
      ]
     },
     "execution_count": 272,
     "metadata": {},
     "output_type": "execute_result"
    }
   ],
   "source": [
    "winter_details[0] = [100, 274.99]\n",
    "\n",
    "winter_details"
   ]
  },
  {
   "cell_type": "code",
   "execution_count": 274,
   "id": "775f7d37-51bc-42d2-83ce-1a3c274dcea6",
   "metadata": {},
   "outputs": [
    {
     "data": {
      "text/plain": [
       "[[5, 249.99], [0, 219.99], [0, 99.99], [12, 79.99]]"
      ]
     },
     "execution_count": 274,
     "metadata": {},
     "output_type": "execute_result"
    }
   ],
   "source": [
    "item_details"
   ]
  },
  {
   "cell_type": "code",
   "execution_count": 276,
   "id": "b0061659-8a78-4d7c-a50d-130f3ac2fa7d",
   "metadata": {},
   "outputs": [
    {
     "data": {
      "text/plain": [
       "[[100, 274.99], [50, 219.99], [0, 99.99], [12, 79.99]]"
      ]
     },
     "execution_count": 276,
     "metadata": {},
     "output_type": "execute_result"
    }
   ],
   "source": [
    "winter_details[1][0] = 50\n",
    "\n",
    "winter_details"
   ]
  },
  {
   "cell_type": "code",
   "execution_count": 278,
   "id": "d3016f07-c167-416e-ace5-aecece4a9d25",
   "metadata": {},
   "outputs": [
    {
     "data": {
      "text/plain": [
       "[[5, 249.99], [0, 219.99], [0, 99.99], [12, 79.99]]"
      ]
     },
     "execution_count": 278,
     "metadata": {},
     "output_type": "execute_result"
    }
   ],
   "source": [
    "item_details"
   ]
  },
  {
   "cell_type": "code",
   "execution_count": null,
   "id": "9af193c5-d203-4cd1-ac07-5290298c0e31",
   "metadata": {},
   "outputs": [],
   "source": []
  },
  {
   "cell_type": "markdown",
   "id": "a88ba9df-6415-4c36-af55-15eda00833d7",
   "metadata": {},
   "source": [
    "#### Assignment 6"
   ]
  },
  {
   "cell_type": "code",
   "execution_count": 283,
   "id": "7ee3d72b-7b29-4797-a1d3-a7f8a7e2b434",
   "metadata": {},
   "outputs": [],
   "source": [
    "orders_c00001 = [1799.94, 29.98, 99.99]\n",
    "orders_c00004 = [15.98, 119.99]\n",
    "orders_c00006 = [24.99, 24.99]\n",
    "orders_c00008 = [649.99, 99.99]\n",
    "orders_c00010 = [599.99, 399.97]"
   ]
  },
  {
   "cell_type": "code",
   "execution_count": 285,
   "id": "58197a4b-d26d-48c7-8449-f4c46c1745e8",
   "metadata": {},
   "outputs": [
    {
     "data": {
      "text/plain": [
       "[[1799.94, 29.98, 99.99],\n",
       " [15.98, 119.99],\n",
       " [24.99, 24.99],\n",
       " [649.99, 99.99],\n",
       " [599.99, 399.97]]"
      ]
     },
     "execution_count": 285,
     "metadata": {},
     "output_type": "execute_result"
    }
   ],
   "source": [
    "vip_list = [orders_c00001, orders_c00004, orders_c00006, orders_c00008, orders_c00010]\n",
    "\n",
    "vip_list"
   ]
  },
  {
   "cell_type": "code",
   "execution_count": 293,
   "id": "68b1db83-2a34-4ca6-aabc-d06c90e44129",
   "metadata": {},
   "outputs": [
    {
     "data": {
      "text/plain": [
       "[29.98, 99.99]"
      ]
     },
     "execution_count": 293,
     "metadata": {},
     "output_type": "execute_result"
    }
   ],
   "source": [
    "vip_list[0][1:3]"
   ]
  },
  {
   "cell_type": "code",
   "execution_count": 307,
   "id": "66a2a15c-08b6-4ab6-905f-3e28a34bf28b",
   "metadata": {},
   "outputs": [
    {
     "data": {
      "text/plain": [
       "[[1799.94, 29.98, 99.99],\n",
       " [15.98, 119.99],\n",
       " [24.99, 24.99],\n",
       " [649.99, 99.99],\n",
       " [599.99, 399.97]]"
      ]
     },
     "execution_count": 307,
     "metadata": {},
     "output_type": "execute_result"
    }
   ],
   "source": [
    "revenue_adjusted_list = vip_list.copy()\n",
    "revenue_adjusted_list"
   ]
  },
  {
   "cell_type": "code",
   "execution_count": 309,
   "id": "edfce5c3-5c3e-4e8f-a978-99cb429bb5c9",
   "metadata": {},
   "outputs": [],
   "source": [
    "revenue_adjusted_list[1] = [0.0, 0.0]"
   ]
  },
  {
   "cell_type": "code",
   "execution_count": 311,
   "id": "0ec1b117-b9d8-47e5-8fc4-772457e81281",
   "metadata": {},
   "outputs": [
    {
     "data": {
      "text/plain": [
       "[[1799.94, 29.98, 99.99],\n",
       " [0.0, 0.0],\n",
       " [24.99, 24.99],\n",
       " [649.99, 99.99],\n",
       " [599.99, 399.97]]"
      ]
     },
     "execution_count": 311,
     "metadata": {},
     "output_type": "execute_result"
    }
   ],
   "source": [
    "revenue_adjusted_list"
   ]
  },
  {
   "cell_type": "code",
   "execution_count": null,
   "id": "cf614859-b56d-4255-8f78-f5d7932b43d4",
   "metadata": {},
   "outputs": [],
   "source": []
  },
  {
   "cell_type": "markdown",
   "id": "ba9739c6-92d4-4d48-899c-41b28b489c92",
   "metadata": {},
   "source": [
    "### Tuple"
   ]
  },
  {
   "cell_type": "code",
   "execution_count": 317,
   "id": "ed2bbbdc-d97d-468b-9368-3b811648a13e",
   "metadata": {},
   "outputs": [],
   "source": [
    "price_tuple = ('$3.50', '$99.99', '$149.99')"
   ]
  },
  {
   "cell_type": "code",
   "execution_count": 319,
   "id": "5cab596c-58c4-4472-b177-75141f347fc3",
   "metadata": {},
   "outputs": [
    {
     "data": {
      "text/plain": [
       "'$3.50'"
      ]
     },
     "execution_count": 319,
     "metadata": {},
     "output_type": "execute_result"
    }
   ],
   "source": [
    "price_tuple[0]"
   ]
  },
  {
   "cell_type": "code",
   "execution_count": 321,
   "id": "bfa31fea-a628-46ae-bb79-8994e62fc0e6",
   "metadata": {},
   "outputs": [
    {
     "data": {
      "text/plain": [
       "('$99.99', '$149.99')"
      ]
     },
     "execution_count": 321,
     "metadata": {},
     "output_type": "execute_result"
    }
   ],
   "source": [
    "price_tuple[1:]"
   ]
  },
  {
   "cell_type": "code",
   "execution_count": 323,
   "id": "fa603d1a-32fc-4b1e-a579-948b3610972e",
   "metadata": {},
   "outputs": [
    {
     "data": {
      "text/plain": [
       "True"
      ]
     },
     "execution_count": 323,
     "metadata": {},
     "output_type": "execute_result"
    }
   ],
   "source": [
    "'$3.50' in price_tuple"
   ]
  },
  {
   "cell_type": "code",
   "execution_count": 325,
   "id": "a2244075-dc8e-4bd9-923e-2b21318b01d8",
   "metadata": {},
   "outputs": [
    {
     "ename": "TypeError",
     "evalue": "'tuple' object does not support item assignment",
     "output_type": "error",
     "traceback": [
      "\u001b[1;31m---------------------------------------------------------------------------\u001b[0m",
      "\u001b[1;31mTypeError\u001b[0m                                 Traceback (most recent call last)",
      "Cell \u001b[1;32mIn[325], line 1\u001b[0m\n\u001b[1;32m----> 1\u001b[0m price_tuple[\u001b[38;5;241m1\u001b[39m] \u001b[38;5;241m=\u001b[39m \u001b[38;5;124m'\u001b[39m\u001b[38;5;124m$14.99\u001b[39m\u001b[38;5;124m'\u001b[39m\n",
      "\u001b[1;31mTypeError\u001b[0m: 'tuple' object does not support item assignment"
     ]
    }
   ],
   "source": [
    "price_tuple[1] = '$14.99'"
   ]
  },
  {
   "cell_type": "code",
   "execution_count": 327,
   "id": "fc23976f-aa64-4d3a-b710-37fd1e782b53",
   "metadata": {},
   "outputs": [
    {
     "ename": "AttributeError",
     "evalue": "'tuple' object has no attribute 'append'",
     "output_type": "error",
     "traceback": [
      "\u001b[1;31m---------------------------------------------------------------------------\u001b[0m",
      "\u001b[1;31mAttributeError\u001b[0m                            Traceback (most recent call last)",
      "Cell \u001b[1;32mIn[327], line 1\u001b[0m\n\u001b[1;32m----> 1\u001b[0m price_tuple\u001b[38;5;241m.\u001b[39mappend(\u001b[38;5;124m'\u001b[39m\u001b[38;5;124m$14.99\u001b[39m\u001b[38;5;124m'\u001b[39m)\n",
      "\u001b[1;31mAttributeError\u001b[0m: 'tuple' object has no attribute 'append'"
     ]
    }
   ],
   "source": [
    "price_tuple.append('$14.99')"
   ]
  },
  {
   "cell_type": "code",
   "execution_count": 329,
   "id": "45d40514-19c7-45d8-af3d-8c43fbedca4f",
   "metadata": {},
   "outputs": [
    {
     "data": {
      "text/plain": [
       "['$3.50', '$99.99', '$149.99']"
      ]
     },
     "execution_count": 329,
     "metadata": {},
     "output_type": "execute_result"
    }
   ],
   "source": [
    "list(price_tuple)"
   ]
  },
  {
   "cell_type": "code",
   "execution_count": 331,
   "id": "5a34f98f-c2ff-4efb-a151-3050f859614f",
   "metadata": {},
   "outputs": [],
   "source": [
    "a, b, c = price_tuple"
   ]
  },
  {
   "cell_type": "code",
   "execution_count": 333,
   "id": "61666a91-eb2e-46d2-96f5-5b9d87210c03",
   "metadata": {},
   "outputs": [
    {
     "data": {
      "text/plain": [
       "'$3.50'"
      ]
     },
     "execution_count": 333,
     "metadata": {},
     "output_type": "execute_result"
    }
   ],
   "source": [
    "a"
   ]
  },
  {
   "cell_type": "code",
   "execution_count": 335,
   "id": "451a08bb-23c8-4d70-9976-0b8c68299495",
   "metadata": {},
   "outputs": [
    {
     "data": {
      "text/plain": [
       "'$99.99'"
      ]
     },
     "execution_count": 335,
     "metadata": {},
     "output_type": "execute_result"
    }
   ],
   "source": [
    "b"
   ]
  },
  {
   "cell_type": "code",
   "execution_count": 339,
   "id": "4e83bd18-8a97-45f4-b040-4e2b5650ca03",
   "metadata": {},
   "outputs": [
    {
     "data": {
      "text/plain": [
       "103.49"
      ]
     },
     "execution_count": 339,
     "metadata": {},
     "output_type": "execute_result"
    }
   ],
   "source": [
    "float(a.strip('$')) + float(b.strip('$'))"
   ]
  },
  {
   "cell_type": "code",
   "execution_count": 341,
   "id": "e3fb5d63-101b-4178-b1c0-796dd4a7845a",
   "metadata": {},
   "outputs": [],
   "source": [
    "furniture_list = [\"Couch\", \"Chair\", \"Table\", \"Lamp\", \"Desk\", \"Rug\"]\n",
    "\n",
    "furniture_tuple = tuple(furniture_list)"
   ]
  },
  {
   "cell_type": "code",
   "execution_count": 343,
   "id": "bd4a2103-278a-4faf-a666-3a4f3b8e0289",
   "metadata": {},
   "outputs": [
    {
     "data": {
      "text/plain": [
       "('Couch', 'Chair', 'Table', 'Lamp', 'Desk', 'Rug')"
      ]
     },
     "execution_count": 343,
     "metadata": {},
     "output_type": "execute_result"
    }
   ],
   "source": [
    "furniture_tuple"
   ]
  },
  {
   "cell_type": "code",
   "execution_count": null,
   "id": "f2641445-afc2-42ca-94f2-b4246e375766",
   "metadata": {},
   "outputs": [],
   "source": []
  },
  {
   "cell_type": "markdown",
   "id": "9b1aa6ef-93a5-446f-83cf-8b3e0dc8fb93",
   "metadata": {},
   "source": [
    "#### Assignment 7"
   ]
  },
  {
   "cell_type": "code",
   "execution_count": 347,
   "id": "cca18b5a-908d-47fe-875f-aa99527df12e",
   "metadata": {},
   "outputs": [],
   "source": [
    "multi_order_customers = [\n",
    "    [1799.94, 29.98, 99.99],\n",
    "    [15.98, 119.99],\n",
    "    [24.99, 24.99],\n",
    "    [649.99, 99.99],\n",
    "    [599.99, 399.97]\n",
    "]"
   ]
  },
  {
   "cell_type": "code",
   "execution_count": 349,
   "id": "3634875c-1a70-402c-8e09-9f3ebb92ab1b",
   "metadata": {},
   "outputs": [],
   "source": [
    "transaction1, transaction2, transaction3 = tuple(multi_order_customers[0])"
   ]
  },
  {
   "cell_type": "code",
   "execution_count": 355,
   "id": "b0bcfa55-503e-4287-8a15-9d9673d15df2",
   "metadata": {},
   "outputs": [
    {
     "name": "stdout",
     "output_type": "stream",
     "text": [
      "144.0\n",
      "2.4\n",
      "8.0\n"
     ]
    }
   ],
   "source": [
    "print(round(transaction1 * 0.08, 2))\n",
    "print(round(transaction2 * 0.08, 2))\n",
    "print(round(transaction3 * 0.08, 2))"
   ]
  },
  {
   "cell_type": "code",
   "execution_count": null,
   "id": "e8775a41-d9d8-4a30-a5e3-01e2805ac3bb",
   "metadata": {},
   "outputs": [],
   "source": []
  },
  {
   "cell_type": "markdown",
   "id": "5e04d432-93b7-4337-b013-23b29643cb6c",
   "metadata": {},
   "source": [
    "### Range"
   ]
  },
  {
   "cell_type": "code",
   "execution_count": 359,
   "id": "cdeaef02-0e74-49c5-b401-9f6ed95d2e28",
   "metadata": {},
   "outputs": [
    {
     "data": {
      "text/plain": [
       "range(0, 100, 10)"
      ]
     },
     "execution_count": 359,
     "metadata": {},
     "output_type": "execute_result"
    }
   ],
   "source": [
    "range(0, 100, 10)"
   ]
  },
  {
   "cell_type": "code",
   "execution_count": 361,
   "id": "c9363210-84ae-41da-bd49-e7cd022007fb",
   "metadata": {},
   "outputs": [
    {
     "data": {
      "text/plain": [
       "50"
      ]
     },
     "execution_count": 361,
     "metadata": {},
     "output_type": "execute_result"
    }
   ],
   "source": [
    "range(0, 100, 10)[5]"
   ]
  },
  {
   "cell_type": "code",
   "execution_count": 363,
   "id": "d90af155-4779-4ef1-8512-5af8691ace92",
   "metadata": {},
   "outputs": [
    {
     "data": {
      "text/plain": [
       "[0, 10, 20, 30, 40, 50, 60, 70, 80, 90]"
      ]
     },
     "execution_count": 363,
     "metadata": {},
     "output_type": "execute_result"
    }
   ],
   "source": [
    "list(range(0, 100, 10))"
   ]
  },
  {
   "cell_type": "code",
   "execution_count": null,
   "id": "a1181d52-e633-4a0f-829b-41d8fea60e9e",
   "metadata": {},
   "outputs": [],
   "source": []
  },
  {
   "cell_type": "markdown",
   "id": "f92eb80e-66c8-4807-8442-e21a3fe7af94",
   "metadata": {},
   "source": [
    "#### Assignment 8"
   ]
  },
  {
   "cell_type": "code",
   "execution_count": 367,
   "id": "b9cbd502-c3a9-4704-b4e3-c1ee14c70be6",
   "metadata": {},
   "outputs": [
    {
     "name": "stdout",
     "output_type": "stream",
     "text": [
      "[2, 4, 6, 8, 10]\n"
     ]
    }
   ],
   "source": [
    "#1\n",
    "print(list(range(2, 11, 2)))"
   ]
  },
  {
   "cell_type": "code",
   "execution_count": 369,
   "id": "ae73e844-e755-465e-88e1-dc817a847d3b",
   "metadata": {},
   "outputs": [
    {
     "name": "stdout",
     "output_type": "stream",
     "text": [
      "[1, 3, 5, 7, 9]\n"
     ]
    }
   ],
   "source": [
    "#2\n",
    "print(list(range(1, 10, 2)))"
   ]
  },
  {
   "cell_type": "code",
   "execution_count": 371,
   "id": "a5ce7ebe-de94-4922-86ba-0c751662fa93",
   "metadata": {},
   "outputs": [
    {
     "name": "stdout",
     "output_type": "stream",
     "text": [
      "[7, 14, 21, 28, 35, 42, 49, 56, 63, 70, 77, 84, 91, 98]\n"
     ]
    }
   ],
   "source": [
    "#3\n",
    "print(list(range(7, 100, 7)))"
   ]
  },
  {
   "cell_type": "code",
   "execution_count": null,
   "id": "bc299c3f-bd4b-4592-a802-f731939a5a7c",
   "metadata": {},
   "outputs": [],
   "source": []
  }
 ],
 "metadata": {
  "kernelspec": {
   "display_name": "Python [conda env:base] *",
   "language": "python",
   "name": "conda-base-py"
  },
  "language_info": {
   "codemirror_mode": {
    "name": "ipython",
    "version": 3
   },
   "file_extension": ".py",
   "mimetype": "text/x-python",
   "name": "python",
   "nbconvert_exporter": "python",
   "pygments_lexer": "ipython3",
   "version": "3.12.7"
  }
 },
 "nbformat": 4,
 "nbformat_minor": 5
}
