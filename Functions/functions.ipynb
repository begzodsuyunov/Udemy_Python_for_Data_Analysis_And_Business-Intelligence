{
 "cells": [
  {
   "cell_type": "markdown",
   "id": "1b8e942a-d755-4acf-9935-4f71bbf80a9d",
   "metadata": {},
   "source": [
    "## Intro to Functions"
   ]
  },
  {
   "cell_type": "code",
   "execution_count": 3,
   "id": "766660f0-7a62-4a65-bb47-841c4258ec9f",
   "metadata": {},
   "outputs": [],
   "source": [
    "item_ratings = [\n",
    "    ['5 star', '1 star', '3 star'],\n",
    "    ['5 star', '4 star'],\n",
    "    ['4 star', '2 star'],\n",
    "    ['1 star']\n",
    "]"
   ]
  },
  {
   "cell_type": "code",
   "execution_count": 13,
   "id": "e903a27c-a6e5-4d43-a11c-4ce4b3e513d7",
   "metadata": {},
   "outputs": [],
   "source": [
    "def rating_cleaner(rating):\n",
    "    \"\"\" some description about the function\n",
    "    Create DOCSTRING!\n",
    "    \"\"\"\n",
    "    numeric_rating = int(rating[0])\n",
    "    return numeric_rating"
   ]
  },
  {
   "cell_type": "code",
   "execution_count": 15,
   "id": "ef08b8bb-d0c1-435e-a896-bb5b83766878",
   "metadata": {},
   "outputs": [
    {
     "data": {
      "text/plain": [
       "4"
      ]
     },
     "execution_count": 15,
     "metadata": {},
     "output_type": "execute_result"
    }
   ],
   "source": [
    "rating_cleaner('4 star')"
   ]
  },
  {
   "cell_type": "code",
   "execution_count": 17,
   "id": "049a158b-0530-4323-b969-d2cbae86f755",
   "metadata": {},
   "outputs": [
    {
     "name": "stdout",
     "output_type": "stream",
     "text": [
      "5\n",
      "1\n",
      "3\n",
      "5\n",
      "4\n",
      "4\n",
      "2\n",
      "1\n"
     ]
    }
   ],
   "source": [
    "for item in item_ratings:\n",
    "    for rating in item:\n",
    "        print(rating_cleaner(rating))"
   ]
  },
  {
   "cell_type": "code",
   "execution_count": 19,
   "id": "6f9ef0dd-5358-4d20-b852-2ab6b9c4b709",
   "metadata": {},
   "outputs": [
    {
     "data": {
      "text/plain": [
       "\u001b[1;31mSignature:\u001b[0m \u001b[0mrating_cleaner\u001b[0m\u001b[1;33m(\u001b[0m\u001b[0mrating\u001b[0m\u001b[1;33m)\u001b[0m\u001b[1;33m\u001b[0m\u001b[1;33m\u001b[0m\u001b[0m\n",
       "\u001b[1;31mDocstring:\u001b[0m\n",
       "some description about the function\n",
       "Create DOCSTRING!\n",
       "\u001b[1;31mFile:\u001b[0m      c:\\users\\pain\\appdata\\local\\temp\\ipykernel_5264\\2282728410.py\n",
       "\u001b[1;31mType:\u001b[0m      function"
      ]
     },
     "metadata": {},
     "output_type": "display_data"
    }
   ],
   "source": [
    "rating_cleaner?"
   ]
  },
  {
   "cell_type": "code",
   "execution_count": 31,
   "id": "7886a42a-dd70-4569-a451-55f3fdb11c6c",
   "metadata": {},
   "outputs": [
    {
     "data": {
      "text/plain": [
       "'Python'"
      ]
     },
     "execution_count": 31,
     "metadata": {},
     "output_type": "execute_result"
    }
   ],
   "source": [
    "test_sentence = \"I am learning Python\"\n",
    "\n",
    "def splitter(function_output):\n",
    "    function_output = function_output.split()[-1]\n",
    "    return function_output\n",
    "    \n",
    "splitter(test_sentence)"
   ]
  },
  {
   "cell_type": "markdown",
   "id": "91fa798b-326a-40ea-8817-abfcd43d0789",
   "metadata": {},
   "source": [
    "### Assignment 1"
   ]
  },
  {
   "cell_type": "code",
   "execution_count": 39,
   "id": "b6c91527-c280-456a-a073-db25dffd4b27",
   "metadata": {},
   "outputs": [
    {
     "data": {
      "text/plain": [
       "109.0"
      ]
     },
     "execution_count": 39,
     "metadata": {},
     "output_type": "execute_result"
    }
   ],
   "source": [
    "def tax_calculator(amount, tax):\n",
    "    total = round(amount * (1 + tax), 2)\n",
    "    return total\n",
    "\n",
    "\n",
    "tax_calculator(100, .09)"
   ]
  },
  {
   "cell_type": "code",
   "execution_count": null,
   "id": "7be8d12e-a5af-49ea-b272-a543e329d909",
   "metadata": {},
   "outputs": [],
   "source": []
  },
  {
   "cell_type": "markdown",
   "id": "abe0f809-e0f6-4294-a8ef-d8b242704093",
   "metadata": {},
   "source": [
    "## Argument Types"
   ]
  },
  {
   "cell_type": "code",
   "execution_count": 43,
   "id": "48bd365a-1e72-4d65-a9f3-50cf25ddb775",
   "metadata": {},
   "outputs": [],
   "source": [
    "website_ratings = ['5 star', '1 star', '3 star']\n",
    "forum_ratings = ['star: 5', 'star: 4', 'star: 2']"
   ]
  },
  {
   "cell_type": "code",
   "execution_count": 53,
   "id": "0bbb8a98-863f-4570-adb6-7558533e2841",
   "metadata": {},
   "outputs": [],
   "source": [
    "def rating_cleaner(rating, index):\n",
    "    numeric_rating = int(rating[index])\n",
    "    return numeric_rating"
   ]
  },
  {
   "cell_type": "code",
   "execution_count": 55,
   "id": "bd59a2d7-be80-4b7c-87f4-0c4592ed3032",
   "metadata": {},
   "outputs": [
    {
     "data": {
      "text/plain": [
       "5"
      ]
     },
     "execution_count": 55,
     "metadata": {},
     "output_type": "execute_result"
    }
   ],
   "source": [
    "rating_cleaner('5 star', 0)"
   ]
  },
  {
   "cell_type": "code",
   "execution_count": 57,
   "id": "5643f602-79ce-417e-8d5b-00144edce76c",
   "metadata": {},
   "outputs": [
    {
     "data": {
      "text/plain": [
       "5"
      ]
     },
     "execution_count": 57,
     "metadata": {},
     "output_type": "execute_result"
    }
   ],
   "source": [
    "rating_cleaner('star: 5', -1)"
   ]
  },
  {
   "cell_type": "code",
   "execution_count": 59,
   "id": "e1c3aa6f-ee1e-4c33-a51a-d6f73397346f",
   "metadata": {},
   "outputs": [
    {
     "data": {
      "text/plain": [
       "5"
      ]
     },
     "execution_count": 59,
     "metadata": {},
     "output_type": "execute_result"
    }
   ],
   "source": [
    "rating_cleaner(rating='star: 5', index=-1)"
   ]
  },
  {
   "cell_type": "code",
   "execution_count": 61,
   "id": "c5f202ae-8ea3-42f3-b668-4050a8c27e57",
   "metadata": {},
   "outputs": [
    {
     "data": {
      "text/plain": [
       "5"
      ]
     },
     "execution_count": 61,
     "metadata": {},
     "output_type": "execute_result"
    }
   ],
   "source": [
    "rating_cleaner(index=-1, rating='star: 5')"
   ]
  },
  {
   "cell_type": "code",
   "execution_count": 67,
   "id": "8b20fb4c-3c7c-4e9d-9fc6-c67821f0223a",
   "metadata": {},
   "outputs": [],
   "source": [
    "def rating_cleaner(*ratings, index=0):\n",
    "    for rating in ratings:\n",
    "        numeric_rating = int(rating[index])\n",
    "        print(numeric_rating)\n",
    "    "
   ]
  },
  {
   "cell_type": "code",
   "execution_count": 75,
   "id": "aeebee5c-a554-452b-b26b-4dd06b674950",
   "metadata": {},
   "outputs": [
    {
     "name": "stdout",
     "output_type": "stream",
     "text": [
      "5\n",
      "1\n",
      "3\n"
     ]
    }
   ],
   "source": [
    "rating_cleaner(*website_ratings)"
   ]
  },
  {
   "cell_type": "code",
   "execution_count": 79,
   "id": "6223acd2-f9e4-4d60-b781-f59b2d0e2c3d",
   "metadata": {},
   "outputs": [
    {
     "name": "stdout",
     "output_type": "stream",
     "text": [
      "5\n",
      "4\n",
      "2\n"
     ]
    }
   ],
   "source": [
    "rating_cleaner(*forum_ratings, index=-1)"
   ]
  },
  {
   "cell_type": "markdown",
   "id": "621eb2cf-536a-4923-88c6-9dff5a3904b3",
   "metadata": {},
   "source": [
    "## Return Values"
   ]
  },
  {
   "cell_type": "code",
   "execution_count": 81,
   "id": "206a4220-73b0-47bf-a9f1-91247d53d150",
   "metadata": {},
   "outputs": [],
   "source": [
    "website_ratings = ['5 star', '1 star', '3 star']"
   ]
  },
  {
   "cell_type": "code",
   "execution_count": 92,
   "id": "327e3126-4498-4489-b476-6985aabece00",
   "metadata": {},
   "outputs": [],
   "source": [
    "def rating_cleaner(rating):\n",
    "    numeric_rating = int(rating[0])\n",
    "    return rating, numeric_rating"
   ]
  },
  {
   "cell_type": "code",
   "execution_count": 94,
   "id": "24132568-70bb-4de8-9d1c-1b24411cb7a5",
   "metadata": {},
   "outputs": [
    {
     "data": {
      "text/plain": [
       "('5 star', 5)"
      ]
     },
     "execution_count": 94,
     "metadata": {},
     "output_type": "execute_result"
    }
   ],
   "source": [
    "rating_cleaner(website_ratings[0])"
   ]
  },
  {
   "cell_type": "code",
   "execution_count": 96,
   "id": "9905fe9a-77e9-45c5-8932-857cd69928b4",
   "metadata": {},
   "outputs": [],
   "source": [
    "def rating_cleaner(rating):\n",
    "    numeric_rating = int(rating[0])\n",
    "    return [rating, numeric_rating]"
   ]
  },
  {
   "cell_type": "code",
   "execution_count": 98,
   "id": "7bc5637b-8b51-442c-91c5-e130d3c2280d",
   "metadata": {},
   "outputs": [
    {
     "data": {
      "text/plain": [
       "['5 star', 5]"
      ]
     },
     "execution_count": 98,
     "metadata": {},
     "output_type": "execute_result"
    }
   ],
   "source": [
    "rating_cleaner(website_ratings[0])"
   ]
  },
  {
   "cell_type": "code",
   "execution_count": 104,
   "id": "69ee2b80-0687-4831-bb2e-2377b9a67d48",
   "metadata": {},
   "outputs": [],
   "source": [
    "def rating_cleaner(rating):\n",
    "    numeric_rating = int(rating[0])\n",
    "    return {rating: numeric_rating}"
   ]
  },
  {
   "cell_type": "code",
   "execution_count": 106,
   "id": "607e75f9-1d42-4807-98b6-fcd9940f85c7",
   "metadata": {},
   "outputs": [
    {
     "data": {
      "text/plain": [
       "{'5 star': 5}"
      ]
     },
     "execution_count": 106,
     "metadata": {},
     "output_type": "execute_result"
    }
   ],
   "source": [
    "rating_cleaner(website_ratings[0])"
   ]
  },
  {
   "cell_type": "code",
   "execution_count": 108,
   "id": "d2aa0966-814f-4f5f-b922-31d11271752b",
   "metadata": {},
   "outputs": [],
   "source": [
    "def rating_cleaner(rating):\n",
    "    numeric_rating = int(rating[0])\n",
    "    return rating, numeric_rating"
   ]
  },
  {
   "cell_type": "code",
   "execution_count": 112,
   "id": "e89ac594-dd9d-476b-af0d-b523e9c5c57d",
   "metadata": {},
   "outputs": [],
   "source": [
    "rating, numeric_rating = rating_cleaner(website_ratings[0])"
   ]
  },
  {
   "cell_type": "code",
   "execution_count": 114,
   "id": "6e7cce64-32d8-44dc-a45e-753a95305e61",
   "metadata": {},
   "outputs": [
    {
     "data": {
      "text/plain": [
       "'5 star'"
      ]
     },
     "execution_count": 114,
     "metadata": {},
     "output_type": "execute_result"
    }
   ],
   "source": [
    "rating"
   ]
  },
  {
   "cell_type": "code",
   "execution_count": 116,
   "id": "dd935638-8f7a-40f0-ad01-ae2afa54e488",
   "metadata": {},
   "outputs": [
    {
     "data": {
      "text/plain": [
       "5"
      ]
     },
     "execution_count": 116,
     "metadata": {},
     "output_type": "execute_result"
    }
   ],
   "source": [
    "numeric_rating"
   ]
  },
  {
   "cell_type": "code",
   "execution_count": null,
   "id": "ba3df49d-122d-475a-b0fd-c92dd0305f0f",
   "metadata": {},
   "outputs": [],
   "source": []
  },
  {
   "cell_type": "markdown",
   "id": "5a7557ce-9d3a-44f1-9e63-9e379cfe0edf",
   "metadata": {},
   "source": [
    "## Variable Scope"
   ]
  },
  {
   "cell_type": "code",
   "execution_count": 122,
   "id": "38fa1100-fa16-4bed-8090-e17e309585c9",
   "metadata": {},
   "outputs": [],
   "source": [
    "website_ratings = ['5 star', '1 star', '3 star']"
   ]
  },
  {
   "cell_type": "code",
   "execution_count": 139,
   "id": "8b6bf33f-a6b1-41b6-8d37-833c1ec12f46",
   "metadata": {},
   "outputs": [],
   "source": [
    "def rating_cleaner(rating):\n",
    "    global num_rating\n",
    "    num_rating = int(rating[0])\n",
    "    return numeric_rating"
   ]
  },
  {
   "cell_type": "code",
   "execution_count": 141,
   "id": "e990ae80-6d19-4e65-b299-87be2166c239",
   "metadata": {},
   "outputs": [
    {
     "data": {
      "text/plain": [
       "5"
      ]
     },
     "execution_count": 141,
     "metadata": {},
     "output_type": "execute_result"
    }
   ],
   "source": [
    "rating_cleaner(website_ratings[0])"
   ]
  },
  {
   "cell_type": "code",
   "execution_count": 143,
   "id": "4c1c38cc-e2d1-4337-8c52-562de2e64685",
   "metadata": {},
   "outputs": [
    {
     "data": {
      "text/plain": [
       "5"
      ]
     },
     "execution_count": 143,
     "metadata": {},
     "output_type": "execute_result"
    }
   ],
   "source": [
    "num_rating"
   ]
  },
  {
   "cell_type": "code",
   "execution_count": 153,
   "id": "8566838d-c8e9-445d-99a9-9b2a3e24b849",
   "metadata": {},
   "outputs": [],
   "source": [
    "def rating_cleaner(rating):\n",
    "    num_rating = int(rating[0])\n",
    "    return num_rating"
   ]
  },
  {
   "cell_type": "code",
   "execution_count": 155,
   "id": "f68982be-534d-453d-9b24-32e2f87c0998",
   "metadata": {},
   "outputs": [],
   "source": [
    "num_rating = rating_cleaner(website_ratings[0])"
   ]
  },
  {
   "cell_type": "code",
   "execution_count": 157,
   "id": "bca3d3a8-81e8-437c-a865-c7226ac1e7a1",
   "metadata": {},
   "outputs": [
    {
     "data": {
      "text/plain": [
       "5"
      ]
     },
     "execution_count": 157,
     "metadata": {},
     "output_type": "execute_result"
    }
   ],
   "source": [
    "num_rating"
   ]
  },
  {
   "cell_type": "code",
   "execution_count": null,
   "id": "32f7e5db-6e6e-46ac-aaba-071e5a12912f",
   "metadata": {},
   "outputs": [],
   "source": []
  },
  {
   "cell_type": "markdown",
   "id": "d0c0c5ee-7561-4e4f-8d3f-516bac3e7af0",
   "metadata": {},
   "source": [
    "## Modules"
   ]
  },
  {
   "cell_type": "code",
   "execution_count": 175,
   "id": "37ed64a8-734b-4226-aa34-b23d0bb93671",
   "metadata": {},
   "outputs": [
    {
     "name": "stdout",
     "output_type": "stream",
     "text": [
      "Writing rating_cleaner.py\n"
     ]
    }
   ],
   "source": [
    "%%writefile rating_cleaner.py\n",
    "\n",
    "def rating_cleaner(rating):\n",
    "    \"\"\"\n",
    "    Some function desc here\n",
    "    \"\"\"\n",
    "    num_rating = int(rating[0])\n",
    "    return num_rating\n",
    "\n",
    "\n",
    "def rating_list_cleaner(rating_list):\n",
    "    \"\"\"\n",
    "    Some function desc here\n",
    "    \"\"\"\n",
    "    numeric_list = []\n",
    "    for rating in rating_list:\n",
    "        num_rating = rating_cleaner(rating)\n",
    "        numeric_list.append(num_rating)\n",
    "    return numeric_list"
   ]
  },
  {
   "cell_type": "markdown",
   "id": "8d70e5cc-4902-432e-a9c6-9d22190744e9",
   "metadata": {},
   "source": [
    "### Importing above Function"
   ]
  },
  {
   "cell_type": "code",
   "execution_count": 19,
   "id": "2c7f2cb0-3362-4e13-a7af-8d11a6459974",
   "metadata": {},
   "outputs": [],
   "source": [
    "import rating_cleaner as r"
   ]
  },
  {
   "cell_type": "code",
   "execution_count": 21,
   "id": "d921f8c7-1015-4913-86ec-6bd5117d1ee3",
   "metadata": {},
   "outputs": [],
   "source": [
    "website_ratings = ['5 star', '1 star', '3 star']"
   ]
  },
  {
   "cell_type": "code",
   "execution_count": 23,
   "id": "d4333e9b-9253-4c57-b732-9589a4c084b7",
   "metadata": {},
   "outputs": [
    {
     "data": {
      "text/plain": [
       "5"
      ]
     },
     "execution_count": 23,
     "metadata": {},
     "output_type": "execute_result"
    }
   ],
   "source": [
    "r.rating_cleaner(website_ratings[0])"
   ]
  },
  {
   "cell_type": "code",
   "execution_count": 25,
   "id": "3538a205-a145-47ee-8aec-670450481128",
   "metadata": {},
   "outputs": [
    {
     "data": {
      "text/plain": [
       "[5, 1, 3]"
      ]
     },
     "execution_count": 25,
     "metadata": {},
     "output_type": "execute_result"
    }
   ],
   "source": [
    "r.rating_list_cleaner(website_ratings)"
   ]
  },
  {
   "cell_type": "code",
   "execution_count": null,
   "id": "06d45c94-acf3-4470-ac69-58b5f8d36f1a",
   "metadata": {},
   "outputs": [],
   "source": []
  },
  {
   "cell_type": "code",
   "execution_count": 27,
   "id": "5eb07443-7550-451c-82a6-054cb8b00158",
   "metadata": {},
   "outputs": [],
   "source": [
    "from rating_cleaner import rating_list_cleaner"
   ]
  },
  {
   "cell_type": "code",
   "execution_count": 29,
   "id": "8f0700b2-8ea7-4a0b-95fd-53feb6bcee73",
   "metadata": {},
   "outputs": [
    {
     "data": {
      "text/plain": [
       "[5, 1, 3]"
      ]
     },
     "execution_count": 29,
     "metadata": {},
     "output_type": "execute_result"
    }
   ],
   "source": [
    "rating_list_cleaner(website_ratings)"
   ]
  },
  {
   "cell_type": "code",
   "execution_count": null,
   "id": "79548416-cc8d-4acf-bc68-c79e1e6ea2eb",
   "metadata": {},
   "outputs": [],
   "source": []
  },
  {
   "cell_type": "markdown",
   "id": "a9bfbf65-577d-4daf-ae5f-3ecc22e1e920",
   "metadata": {},
   "source": [
    "### Assignment 3"
   ]
  },
  {
   "cell_type": "code",
   "execution_count": 5,
   "id": "84aec561-b03b-40e0-a9ed-ec6fc43b4dc7",
   "metadata": {},
   "outputs": [
    {
     "name": "stdout",
     "output_type": "stream",
     "text": [
      "Overwriting tax_calculator.py\n"
     ]
    }
   ],
   "source": [
    "%%writefile tax_calculator.py\n",
    "\n",
    "def tax_calculator(amount, tax = 0.06):\n",
    "    tax_total = round(amount * tax, 2)\n",
    "    total = round(amount  + tax_total, 2)\n",
    "    return [amount, tax_total, total]"
   ]
  },
  {
   "cell_type": "code",
   "execution_count": 43,
   "id": "bac9fbbd-631a-4c12-b195-b731235ff8f7",
   "metadata": {},
   "outputs": [
    {
     "data": {
      "text/plain": [
       "[100, 0.09, 109.0]"
      ]
     },
     "execution_count": 43,
     "metadata": {},
     "output_type": "execute_result"
    }
   ],
   "source": [
    "tax_calculator(100, .09)"
   ]
  },
  {
   "cell_type": "code",
   "execution_count": null,
   "id": "f52ee930-79c9-40df-9394-c54581e1cc8e",
   "metadata": {},
   "outputs": [],
   "source": []
  },
  {
   "cell_type": "markdown",
   "id": "40cb648b-cc92-4574-8155-6976f86775a5",
   "metadata": {},
   "source": [
    "### Assignment 4"
   ]
  },
  {
   "cell_type": "code",
   "execution_count": 1,
   "id": "4b49bc4a-fd2a-4393-b93a-6ecd04c6534c",
   "metadata": {},
   "outputs": [],
   "source": [
    "import tax_calculator as formula"
   ]
  },
  {
   "cell_type": "code",
   "execution_count": 3,
   "id": "1eb947dd-c02e-4546-8281-493b33e44e82",
   "metadata": {},
   "outputs": [
    {
     "data": {
      "text/plain": [
       "[[15.98, 0.96, 16.94],\n",
       " [899.97, 54.0, 953.97],\n",
       " [799.97, 48.0, 847.97],\n",
       " [117.96, 7.08, 125.04],\n",
       " [5.99, 0.36, 6.35],\n",
       " [599.99, 36.0, 635.99]]"
      ]
     },
     "execution_count": 3,
     "metadata": {},
     "output_type": "execute_result"
    }
   ],
   "source": [
    "subtotals = [15.98, 899.97, 799.97, 117.96, 5.99, 599.99]\n",
    "\n",
    "full_transactions = []\n",
    "\n",
    "for subtotal in subtotals:\n",
    "    calc = formula.tax_calculator(subtotal)\n",
    "    full_transactions.append(calc)\n",
    "    \n",
    "full_transactions"
   ]
  },
  {
   "cell_type": "code",
   "execution_count": 9,
   "id": "5c7146c6-2fb3-45c4-99de-41aa02885fc9",
   "metadata": {},
   "outputs": [
    {
     "data": {
      "text/plain": [
       "{'C00004': [15.98, 0.96, 16.94],\n",
       " 'C00007': [899.97, 54.0, 953.97],\n",
       " 'C00015': [799.97, 48.0, 847.97],\n",
       " 'C00016': [117.96, 7.08, 125.04],\n",
       " 'C00020': [5.99, 0.36, 6.35],\n",
       " 'C00010': [599.99, 36.0, 635.99]}"
      ]
     },
     "execution_count": 9,
     "metadata": {},
     "output_type": "execute_result"
    }
   ],
   "source": [
    "customer_ids = ['C00004', 'C00007', 'C00015', 'C00016', 'C00020', 'C00010']\n",
    "\n",
    "customer_dict = dict(zip(customer_ids, full_transactions))\n",
    "\n",
    "customer_dict"
   ]
  },
  {
   "cell_type": "code",
   "execution_count": null,
   "id": "f6865865-afbd-4a9b-b43f-b17e00efdb46",
   "metadata": {},
   "outputs": [],
   "source": []
  },
  {
   "cell_type": "markdown",
   "id": "ed06f70f-af71-49de-9d2b-6cb7e2365e84",
   "metadata": {},
   "source": [
    "## Installing Packages & External Function"
   ]
  },
  {
   "cell_type": "code",
   "execution_count": 15,
   "id": "f52ba079-eb75-4b05-b64e-17a226c7f7bb",
   "metadata": {},
   "outputs": [],
   "source": [
    "import numpy as np"
   ]
  },
  {
   "cell_type": "code",
   "execution_count": 17,
   "id": "8a94caa8-ccd8-438a-b066-f04ff261a32b",
   "metadata": {},
   "outputs": [],
   "source": [
    "subtotals = [15.98, 899.97, 799.97, 117.96, 5.99, 599.99]"
   ]
  },
  {
   "cell_type": "code",
   "execution_count": 19,
   "id": "8f059327-eca9-4794-934c-300f0171795c",
   "metadata": {},
   "outputs": [
    {
     "data": {
      "text/plain": [
       "406.6433333333334"
      ]
     },
     "execution_count": 19,
     "metadata": {},
     "output_type": "execute_result"
    }
   ],
   "source": [
    "np.mean(subtotals)"
   ]
  },
  {
   "cell_type": "code",
   "execution_count": 7,
   "id": "aece2f20-46dc-45dd-a499-bdf3b1e7ec90",
   "metadata": {},
   "outputs": [
    {
     "name": "stdout",
     "output_type": "stream",
     "text": [
      "Channels:\n",
      " - defaults\n",
      "Platform: win-64\n",
      "Collecting package metadata (repodata.json): ...working... done\n",
      "Solving environment: ...working... done\n",
      "\n",
      "## Package Plan ##\n",
      "\n",
      "  environment location: C:\\Users\\Pain\\anaconda3\n",
      "\n",
      "  added / updated specs:\n",
      "    - matplotlib\n",
      "\n",
      "\n",
      "The following packages will be downloaded:\n",
      "\n",
      "    package                    |            build\n",
      "    ---------------------------|-----------------\n",
      "    fonttools-4.55.3           |  py312h827c3e9_0         2.6 MB\n",
      "    kiwisolver-1.4.8           |  py312h5da7b33_0          63 KB\n",
      "    pyparsing-3.2.0            |  py312haa95532_0         472 KB\n",
      "    unicodedata2-15.1.0        |  py312h827c3e9_1         525 KB\n",
      "    ------------------------------------------------------------\n",
      "                                           Total:         3.6 MB\n",
      "\n",
      "The following NEW packages will be INSTALLED:\n",
      "\n",
      "  cycler             pkgs/main/noarch::cycler-0.11.0-pyhd3eb1b0_0 \n",
      "  fonttools          pkgs/main/win-64::fonttools-4.55.3-py312h827c3e9_0 \n",
      "  kiwisolver         pkgs/main/win-64::kiwisolver-1.4.8-py312h5da7b33_0 \n",
      "  matplotlib         pkgs/main/win-64::matplotlib-3.10.0-py312haa95532_0 \n",
      "  matplotlib-base    pkgs/main/win-64::matplotlib-base-3.10.0-py312he19b0ae_0 \n",
      "  pyparsing          pkgs/main/win-64::pyparsing-3.2.0-py312haa95532_0 \n",
      "  unicodedata2       pkgs/main/win-64::unicodedata2-15.1.0-py312h827c3e9_1 \n",
      "\n",
      "\n",
      "\n",
      "Downloading and Extracting Packages: ...working...\n",
      "fonttools-4.55.3     | 2.6 MB    |            |   0% \n",
      "\n",
      "unicodedata2-15.1.0  | 525 KB    |            |   0% \u001b[A\n",
      "\n",
      "\n",
      "pyparsing-3.2.0      | 472 KB    |            |   0% \u001b[A\u001b[A\n",
      "\n",
      "\n",
      "\n",
      "kiwisolver-1.4.8     | 63 KB     |            |   0% \u001b[A\u001b[A\u001b[A\n",
      "fonttools-4.55.3     | 2.6 MB    |            |   1% \n",
      "\n",
      "\n",
      "pyparsing-3.2.0      | 472 KB    | 3          |   3% \u001b[A\u001b[A\n",
      "\n",
      "\n",
      "\n",
      "kiwisolver-1.4.8     | 63 KB     | ##5        |  25% \u001b[A\u001b[A\u001b[A\n",
      "\n",
      "unicodedata2-15.1.0  | 525 KB    | 3          |   3% \u001b[A\n",
      "\n",
      "\n",
      "\n",
      "kiwisolver-1.4.8     | 63 KB     | ########## | 100% \u001b[A\u001b[A\u001b[A\n",
      "fonttools-4.55.3     | 2.6 MB    | 7          |   7% \n",
      "\n",
      "\n",
      "\n",
      "kiwisolver-1.4.8     | 63 KB     | ########## | 100% \u001b[A\u001b[A\u001b[A\n",
      "\n",
      "\n",
      "\n",
      "kiwisolver-1.4.8     | 63 KB     | ########## | 100% \u001b[A\u001b[A\u001b[A\n",
      "\n",
      "\n",
      "pyparsing-3.2.0      | 472 KB    | ####       |  41% \u001b[A\u001b[A\n",
      "\n",
      "unicodedata2-15.1.0  | 525 KB    | ###6       |  37% \u001b[A\n",
      "fonttools-4.55.3     | 2.6 MB    | #8         |  19% \n",
      "\n",
      "\n",
      "pyparsing-3.2.0      | 472 KB    | ########1  |  81% \u001b[A\u001b[A\n",
      "\n",
      "\n",
      "pyparsing-3.2.0      | 472 KB    | ########## | 100% \u001b[A\u001b[A\n",
      "\n",
      "unicodedata2-15.1.0  | 525 KB    | #######6   |  76% \u001b[A\n",
      "\n",
      "unicodedata2-15.1.0  | 525 KB    | ########## | 100% \u001b[A\n",
      "fonttools-4.55.3     | 2.6 MB    | ###1       |  32% \n",
      "\n",
      "unicodedata2-15.1.0  | 525 KB    | ########## | 100% \u001b[A\n",
      "fonttools-4.55.3     | 2.6 MB    | ####6      |  47% \n",
      "fonttools-4.55.3     | 2.6 MB    | #######8   |  79% \n",
      "\n",
      "\n",
      "pyparsing-3.2.0      | 472 KB    | ########## | 100% \u001b[A\u001b[A\n",
      "fonttools-4.55.3     | 2.6 MB    | ########## | 100% \n",
      "fonttools-4.55.3     | 2.6 MB    | ########## | 100% \n",
      "fonttools-4.55.3     | 2.6 MB    | ########## | 100% \n",
      "                                                     \n",
      "\n",
      "\n",
      "                                                     \u001b[A\n",
      "\n",
      "\n",
      "                                                     \u001b[A\u001b[A\n",
      "\n",
      "\n",
      "\n",
      "                                                     \u001b[A\u001b[A\u001b[A done\n",
      "Preparing transaction: done\n",
      "Verifying transaction: done\n",
      "Executing transaction: done\n"
     ]
    }
   ],
   "source": [
    "#import sys\n",
    "#!conda install --yes --prefix {sys.prefix} matplotlib"
   ]
  },
  {
   "cell_type": "code",
   "execution_count": 21,
   "id": "d500bf37-2740-441a-be0e-4f3b256b2caa",
   "metadata": {},
   "outputs": [],
   "source": [
    "import matplotlib.pyplot as plt"
   ]
  },
  {
   "cell_type": "code",
   "execution_count": 23,
   "id": "4f4c8ce3-7277-4a0b-b1db-331eeb402324",
   "metadata": {},
   "outputs": [
    {
     "data": {
      "text/plain": [
       "[<matplotlib.lines.Line2D at 0x19fa4d30830>]"
      ]
     },
     "execution_count": 23,
     "metadata": {},
     "output_type": "execute_result"
    },
    {
     "data": {
      "image/png": "[encoded data removed]",
      "text/plain": [
       "<Figure size 640x480 with 1 Axes>"
      ]
     },
     "metadata": {},
     "output_type": "display_data"
    }
   ],
   "source": [
    "plt.plot(subtotals)"
   ]
  },
  {
   "cell_type": "code",
   "execution_count": null,
   "id": "f88047d8-7893-46bc-93fa-1a9f4ae98c5f",
   "metadata": {},
   "outputs": [],
   "source": []
  },
  {
   "cell_type": "markdown",
   "id": "20c9be7a-afa8-4049-963e-90f6dd39fc6d",
   "metadata": {},
   "source": [
    "## MAP Function"
   ]
  },
  {
   "cell_type": "code",
   "execution_count": 30,
   "id": "89aaba93-c63a-4322-b876-cbc8a0d1aa3c",
   "metadata": {},
   "outputs": [
    {
     "data": {
      "text/plain": [
       "['Python!', 'Pizza!', 'Me!', 'course!']"
      ]
     },
     "execution_count": 30,
     "metadata": {},
     "output_type": "execute_result"
    }
   ],
   "source": [
    "def last_word(sentence):\n",
    "    words = sentence.split()\n",
    "    return words[-1]\n",
    "    \n",
    "sentences = [\"I Love Python!\", \"I Love Pizza!\", \"Pizza Loves Me!\", \"I Just want to finish this course!\"]\n",
    "\n",
    "list(map(last_word, sentences))"
   ]
  },
  {
   "cell_type": "markdown",
   "id": "0b3f65ef-34a9-45f6-8df3-8376ca0fbb9d",
   "metadata": {},
   "source": [
    "### Assignment 5"
   ]
  },
  {
   "cell_type": "code",
   "execution_count": 35,
   "id": "c16766cd-769e-423f-b8b8-2d34e6568703",
   "metadata": {},
   "outputs": [],
   "source": [
    "subtotals = [1799.94, 99.99, 254.95, 29.98, 99.99]"
   ]
  },
  {
   "cell_type": "code",
   "execution_count": 37,
   "id": "3a4a3efd-76e4-4350-8aee-ca3f73c4e889",
   "metadata": {},
   "outputs": [],
   "source": [
    "import tax_calculator as formula"
   ]
  },
  {
   "cell_type": "code",
   "execution_count": 41,
   "id": "c6c38fdd-81bb-45ae-abfa-039eb5185c78",
   "metadata": {},
   "outputs": [
    {
     "data": {
      "text/plain": [
       "[[1799.94, 108.0, 1907.94],\n",
       " [99.99, 6.0, 105.99],\n",
       " [254.95, 15.3, 270.25],\n",
       " [29.98, 1.8, 31.78],\n",
       " [99.99, 6.0, 105.99]]"
      ]
     },
     "execution_count": 41,
     "metadata": {},
     "output_type": "execute_result"
    }
   ],
   "source": [
    "list(map(formula.tax_calculator, subtotals))"
   ]
  },
  {
   "cell_type": "code",
   "execution_count": null,
   "id": "d6754a97-bccf-4486-a811-aa30b205c141",
   "metadata": {},
   "outputs": [],
   "source": []
  },
  {
   "cell_type": "markdown",
   "id": "96b80acc-ed28-452b-bffb-8c92b524698e",
   "metadata": {},
   "source": [
    "## Lambda Functions"
   ]
  },
  {
   "cell_type": "code",
   "execution_count": 45,
   "id": "f162b9c2-9f04-4272-a338-b388e9e28b17",
   "metadata": {},
   "outputs": [],
   "source": [
    "customer_ids = [\"C00001\", \"C00002\", \"C00005\", \"C11111\", ]"
   ]
  },
  {
   "cell_type": "code",
   "execution_count": 47,
   "id": "fbe8a7c5-7119-41fe-8985-ef60ef94d602",
   "metadata": {},
   "outputs": [
    {
     "data": {
      "text/plain": [
       "<map at 0x19fa4edc790>"
      ]
     },
     "execution_count": 47,
     "metadata": {},
     "output_type": "execute_result"
    }
   ],
   "source": [
    "map(lambda x: int(x[1:]), customer_ids)"
   ]
  },
  {
   "cell_type": "code",
   "execution_count": 68,
   "id": "3d706fea-5481-498b-bb1d-1baff4ad10b5",
   "metadata": {},
   "outputs": [
    {
     "data": {
      "text/plain": [
       "[1, 2, 5, 11111]"
      ]
     },
     "execution_count": 68,
     "metadata": {},
     "output_type": "execute_result"
    }
   ],
   "source": [
    "list(map(lambda x: int(x[1:]), customer_ids))"
   ]
  },
  {
   "cell_type": "code",
   "execution_count": null,
   "id": "280c083d-9ab1-4730-910e-bfe6046e24cd",
   "metadata": {},
   "outputs": [],
   "source": []
  },
  {
   "cell_type": "code",
   "execution_count": 66,
   "id": "0fafe621-144d-4e8f-a2d4-51a4433a67b4",
   "metadata": {},
   "outputs": [
    {
     "data": {
      "text/plain": [
       "['Python!', 'Pizza!', 'Me!', 'course!']"
      ]
     },
     "execution_count": 66,
     "metadata": {},
     "output_type": "execute_result"
    }
   ],
   "source": [
    "sentences = [\"I Love Python!\", \"I Love Pizza!\", \"Pizza Loves Me!\", \"I Just want to finish this course!\"]\n",
    "\n",
    "result = list(map(lambda x: x.split()[-1], sentences))\n",
    "result"
   ]
  },
  {
   "cell_type": "code",
   "execution_count": null,
   "id": "5d8a7402-5428-4c90-9998-e5e60a0b7df1",
   "metadata": {},
   "outputs": [],
   "source": []
  },
  {
   "cell_type": "markdown",
   "id": "f0ada66d-1ab1-4e51-b78f-160949f2ce3a",
   "metadata": {},
   "source": [
    "### Assignment 6"
   ]
  },
  {
   "cell_type": "code",
   "execution_count": 73,
   "id": "7de1ce42-cfa0-4841-8d95-efaf655b00bd",
   "metadata": {},
   "outputs": [],
   "source": [
    "subtotals = [15.98, 899.97, 799.97, 117.96, 5.99, 599.99]"
   ]
  },
  {
   "cell_type": "code",
   "execution_count": 81,
   "id": "430da855-db6b-418c-8b88-101cbe7b1117",
   "metadata": {},
   "outputs": [
    {
     "data": {
      "text/plain": [
       "[15.98, 809.97, 719.97, 117.96, 5.99, 539.99]"
      ]
     },
     "execution_count": 81,
     "metadata": {},
     "output_type": "execute_result"
    }
   ],
   "source": [
    "discounted_totals = list(map(lambda subtotal: round(subtotal * .9, 2) if subtotal > 500 else subtotal, subtotals))\n",
    "\n",
    "discounted_totals"
   ]
  },
  {
   "cell_type": "code",
   "execution_count": null,
   "id": "014d61f7-dd37-473c-932c-362870583c03",
   "metadata": {},
   "outputs": [],
   "source": []
  },
  {
   "cell_type": "markdown",
   "id": "2dae3c1f-c223-45b1-b66b-f1f9304f30d0",
   "metadata": {},
   "source": [
    "##  List Comprehension"
   ]
  },
  {
   "cell_type": "code",
   "execution_count": 85,
   "id": "367beec5-d0b3-4069-9614-63347a4ee568",
   "metadata": {},
   "outputs": [],
   "source": [
    "import numpy as np"
   ]
  },
  {
   "cell_type": "code",
   "execution_count": 87,
   "id": "92c3fee5-4910-40c1-8096-03b373d0856f",
   "metadata": {},
   "outputs": [],
   "source": [
    "ratings = ['5 star', '1 star', '3 star', '4 star', '3 star', '5 star']"
   ]
  },
  {
   "cell_type": "code",
   "execution_count": 97,
   "id": "ff0b939d-7ffc-4a61-bb17-4a07c0a1a741",
   "metadata": {},
   "outputs": [],
   "source": [
    "numeric_rating = [int(rating[0]) for rating in ratings]"
   ]
  },
  {
   "cell_type": "code",
   "execution_count": 99,
   "id": "6fefa112-27e2-4927-9816-73a684a4e794",
   "metadata": {},
   "outputs": [
    {
     "data": {
      "text/plain": [
       "3.5"
      ]
     },
     "execution_count": 99,
     "metadata": {},
     "output_type": "execute_result"
    }
   ],
   "source": [
    "np.mean(numeric_rating)"
   ]
  },
  {
   "cell_type": "code",
   "execution_count": 101,
   "id": "0f5eec0e-7759-4105-a04f-b29fae73edae",
   "metadata": {},
   "outputs": [],
   "source": [
    "numeric_rating = [int(rating[0]) for rating in ratings if int(rating[0]) < 4]"
   ]
  },
  {
   "cell_type": "code",
   "execution_count": 103,
   "id": "c62930bd-62a5-4ae5-81d2-f013e765788c",
   "metadata": {},
   "outputs": [
    {
     "data": {
      "text/plain": [
       "2.3333333333333335"
      ]
     },
     "execution_count": 103,
     "metadata": {},
     "output_type": "execute_result"
    }
   ],
   "source": [
    "np.mean(numeric_rating)"
   ]
  },
  {
   "cell_type": "code",
   "execution_count": null,
   "id": "fb5d44e5-348d-463a-a607-d61993f41bdb",
   "metadata": {},
   "outputs": [],
   "source": []
  },
  {
   "cell_type": "code",
   "execution_count": 110,
   "id": "c973250b-f60d-44dd-925f-851b8ad4ddca",
   "metadata": {},
   "outputs": [
    {
     "data": {
      "text/plain": [
       "['Python!', 'Pizza!', 'Me!', 'course!']"
      ]
     },
     "execution_count": 110,
     "metadata": {},
     "output_type": "execute_result"
    }
   ],
   "source": [
    "sentences_list = [\"I Love Python!\", \"I Love Pizza!\", \"Pizza Loves Me!\", \"I Just want to finish this course!\"]\n",
    "\n",
    "last_words = [sentence.split()[-1] for sentence in sentences_list]\n",
    "last_words"
   ]
  },
  {
   "cell_type": "code",
   "execution_count": null,
   "id": "f6596f7c-2693-438a-9f1b-4276fe224dec",
   "metadata": {},
   "outputs": [],
   "source": []
  },
  {
   "cell_type": "markdown",
   "id": "89941d02-5534-4d18-80e1-a2428bc95bbc",
   "metadata": {},
   "source": [
    "###  Assignment 7"
   ]
  },
  {
   "cell_type": "code",
   "execution_count": 114,
   "id": "0ec60aed-db61-4232-b8cc-fa211ef6ed51",
   "metadata": {},
   "outputs": [],
   "source": [
    "# Data for dictionary - run this cell and the followwing to create it\n",
    "\n",
    "item_ids = [\n",
    "    10001, 10002, 10003, 10004, 10005, \n",
    "    10006, 10007, 10008, 10009\n",
    "]\n",
    "\n",
    "item_names = [\n",
    "    \"Coffee\", \"Beanie\", \"Gloves\", \"Sweatshirt\", \"Helmet\",\n",
    "    \"Snow Pants\", \"Coat\", \"Ski Poles\", \"Ski Boots\"\n",
    "]\n",
    "\n",
    "euro_prices = [\n",
    "    5.27, 8.79, 17.59, 21.99, 87.99, \n",
    "    70.39, 105.59, 87.99, 175.99\n",
    "]\n",
    "\n",
    "item_category = [\n",
    "    \"beverage\", \"clothing\", \"clothing\", \"clothing\", \"safety\",\n",
    "    \"clothing\", \"clothing\", \"hardware\", \"hardware\",\n",
    "]\n",
    "\n",
    "sizes = [\n",
    "    [\"250mL\"],\n",
    "    [\"Child\", \"Adult\"],\n",
    "    [\"Child\", \"Adult\"],\n",
    "    [\"XS\", \"S\", \"M\", \"L\", \"XL\", \"XXL\"],\n",
    "    [\"Child\", \"Adult\"],\n",
    "    [\"XS\", \"S\", \"M\", \"L\", \"XL\", \"XXL\"],\n",
    "    [\"S\", \"M\", \"L\"],\n",
    "    [\"S\", \"M\", \"L\"],\n",
    "    [5, 6, 7, 8, 9, 10, 11],\n",
    "    [\"S\", \"M\", \"L\"],\n",
    "    [5, 6, 7, 8, 9, 10, 11],\n",
    "    [\"NA\"],\n",
    "    [\"S\", \"M\", \"L\", \"Powder\"],\n",
    "]"
   ]
  },
  {
   "cell_type": "code",
   "execution_count": 116,
   "id": "00b7acd7-806f-4a83-93fb-70d29d2fbda9",
   "metadata": {},
   "outputs": [
    {
     "data": {
      "text/plain": [
       "{10001: ['Coffee', 5.27, 'beverage', ['250mL']],\n",
       " 10002: ['Beanie', 8.79, 'clothing', ['Child', 'Adult']],\n",
       " 10003: ['Gloves', 17.59, 'clothing', ['Child', 'Adult']],\n",
       " 10004: ['Sweatshirt', 21.99, 'clothing', ['XS', 'S', 'M', 'L', 'XL', 'XXL']],\n",
       " 10005: ['Helmet', 87.99, 'safety', ['Child', 'Adult']],\n",
       " 10006: ['Snow Pants', 70.39, 'clothing', ['XS', 'S', 'M', 'L', 'XL', 'XXL']],\n",
       " 10007: ['Coat', 105.59, 'clothing', ['S', 'M', 'L']],\n",
       " 10008: ['Ski Poles', 87.99, 'hardware', ['S', 'M', 'L']],\n",
       " 10009: ['Ski Boots', 175.99, 'hardware', [5, 6, 7, 8, 9, 10, 11]]}"
      ]
     },
     "execution_count": 116,
     "metadata": {},
     "output_type": "execute_result"
    }
   ],
   "source": [
    "# This is a dictionary comprehension\n",
    "# We'll see an example after this assignment!\n",
    "\n",
    "euro_data = {\n",
    "    item_id: [name, price, category, sizes]\n",
    "    for item_id, name, price, category, sizes in zip(\n",
    "        item_ids, item_names, euro_prices, item_category, sizes\n",
    "    )\n",
    "}\n",
    "\n",
    "euro_data"
   ]
  },
  {
   "cell_type": "code",
   "execution_count": 126,
   "id": "50e7adf6-5988-4dac-b59f-1750b6d5fd60",
   "metadata": {},
   "outputs": [
    {
     "data": {
      "text/plain": [
       "[5.27, 8.79, 17.59, 21.99, 87.99, 70.39, 105.59, 87.99, 175.99]"
      ]
     },
     "execution_count": 126,
     "metadata": {},
     "output_type": "execute_result"
    }
   ],
   "source": [
    "amount = [data[1] for data in euro_data.values()]\n",
    "amount"
   ]
  },
  {
   "cell_type": "code",
   "execution_count": 128,
   "id": "da0bfa61-97fb-4a25-850c-891186061a02",
   "metadata": {},
   "outputs": [
    {
     "data": {
      "text/plain": [
       "581.59"
      ]
     },
     "execution_count": 128,
     "metadata": {},
     "output_type": "execute_result"
    }
   ],
   "source": [
    "sum(amount)"
   ]
  },
  {
   "cell_type": "code",
   "execution_count": null,
   "id": "b36d1c77-5960-4601-80ad-363e51fabdb0",
   "metadata": {},
   "outputs": [],
   "source": []
  },
  {
   "cell_type": "markdown",
   "id": "5ec5da9b-2397-4770-8d4e-8154f4c73d52",
   "metadata": {},
   "source": [
    "## Dictionary Compehension"
   ]
  },
  {
   "cell_type": "code",
   "execution_count": 132,
   "id": "b4765a1e-82fb-40ec-94aa-21cae039935b",
   "metadata": {},
   "outputs": [],
   "source": [
    "import numpy as np"
   ]
  },
  {
   "cell_type": "code",
   "execution_count": 134,
   "id": "f40aaa0a-47d2-4adc-b4c1-a66f4580d6aa",
   "metadata": {},
   "outputs": [],
   "source": [
    "items = ['skis', 'snowboards', 'goggles', 'boots']\n",
    "\n",
    "ratings = [[4, 5], [3, 5], [4, 2], [1, 3]]"
   ]
  },
  {
   "cell_type": "code",
   "execution_count": 136,
   "id": "6de9642c-341e-4bbc-89df-b23d6cf2514f",
   "metadata": {},
   "outputs": [
    {
     "data": {
      "text/plain": [
       "{'skis': [4, 5], 'snowboards': [3, 5], 'goggles': [4, 2], 'boots': [1, 3]}"
      ]
     },
     "execution_count": 136,
     "metadata": {},
     "output_type": "execute_result"
    }
   ],
   "source": [
    "{item: rating for item, rating in zip(items, ratings)}"
   ]
  },
  {
   "cell_type": "code",
   "execution_count": 138,
   "id": "02a1f16d-05fb-40a7-a7dc-ab5fc508028b",
   "metadata": {},
   "outputs": [
    {
     "data": {
      "text/plain": [
       "{'skis': 4.5, 'snowboards': 4.0, 'goggles': 3.0, 'boots': 2.0}"
      ]
     },
     "execution_count": 138,
     "metadata": {},
     "output_type": "execute_result"
    }
   ],
   "source": [
    "{item: np.mean(rating) for item, rating in zip(items, ratings)}"
   ]
  },
  {
   "cell_type": "code",
   "execution_count": 142,
   "id": "d4a7ef1a-b036-4570-bb36-7a0794012237",
   "metadata": {},
   "outputs": [
    {
     "data": {
      "text/plain": [
       "{'skis': 4.5, 'snowboards': 4.0}"
      ]
     },
     "execution_count": 142,
     "metadata": {},
     "output_type": "execute_result"
    }
   ],
   "source": [
    "{item: np.mean(rating) \n",
    " for item, rating in zip(items, ratings) \n",
    " if np.mean(rating) >= 4}"
   ]
  },
  {
   "cell_type": "code",
   "execution_count": 152,
   "id": "f43b35ae-c909-4c6c-82aa-bd5844e70709",
   "metadata": {},
   "outputs": [
    {
     "data": {
      "text/plain": [
       "{'Apple': 1.58, 'Banana': 1.98, 'Orange': 2.98, 'Coconut': 6.98}"
      ]
     },
     "execution_count": 152,
     "metadata": {},
     "output_type": "execute_result"
    }
   ],
   "source": [
    "price_dict = {\"Apple\": .79, \"Banana\": .99, \"Orange\": 1.49, \"Coconut\": 3.49}\n",
    "\n",
    "doubled_dict = {item: round(price * 2, 2) \n",
    " for item, price in price_dict.items()\n",
    "}\n",
    "\n",
    "doubled_dict"
   ]
  },
  {
   "cell_type": "code",
   "execution_count": null,
   "id": "2802d061-6e6a-4c7f-b398-139482d39373",
   "metadata": {},
   "outputs": [],
   "source": []
  },
  {
   "cell_type": "markdown",
   "id": "9c214586-c5c9-4a04-bb0d-b90f70d65f6b",
   "metadata": {},
   "source": [
    "###  Assignment 8"
   ]
  },
  {
   "cell_type": "code",
   "execution_count": 168,
   "id": "5fe6c7c2-ab7e-4806-8228-f409e2584579",
   "metadata": {},
   "outputs": [],
   "source": [
    "from tax_calculator import tax_calculator\n",
    "\n",
    "customer_ids = ['C00004', 'C00007', 'C00015', 'C00016', 'C00020', 'C00010']\n",
    "\n",
    "subtotals = [15.98, 899.97, 799.97, 117.96, 5.99, 599.99]\n",
    "\n",
    "def transaction_dict_creator(customer_ids, subtotals, tax_rate):\n",
    "    customer_dict = {\n",
    "       customer: tax_calculator(value, tax_rate) for customer, value in zip(customer_ids, subtotals)\n",
    "   }\n",
    "    return customer_dict"
   ]
  },
  {
   "cell_type": "code",
   "execution_count": 170,
   "id": "5b299559-65cf-4a95-8a9d-e4e4474ee201",
   "metadata": {},
   "outputs": [
    {
     "data": {
      "text/plain": [
       "{'C00004': [15.98, 1.28, 17.26],\n",
       " 'C00007': [899.97, 72.0, 971.97],\n",
       " 'C00015': [799.97, 64.0, 863.97],\n",
       " 'C00016': [117.96, 9.44, 127.4],\n",
       " 'C00020': [5.99, 0.48, 6.47],\n",
       " 'C00010': [599.99, 48.0, 647.99]}"
      ]
     },
     "execution_count": 170,
     "metadata": {},
     "output_type": "execute_result"
    }
   ],
   "source": [
    "transaction_dict_creator(customer_ids, subtotals, .08)"
   ]
  },
  {
   "cell_type": "code",
   "execution_count": null,
   "id": "adaff408-5ac5-420a-9344-e8b8673cf684",
   "metadata": {},
   "outputs": [],
   "source": []
  }
 ],
 "metadata": {
  "kernelspec": {
   "display_name": "Python [conda env:base] *",
   "language": "python",
   "name": "conda-base-py"
  },
  "language_info": {
   "codemirror_mode": {
    "name": "ipython",
    "version": 3
   },
   "file_extension": ".py",
   "mimetype": "text/x-python",
   "name": "python",
   "nbconvert_exporter": "python",
   "pygments_lexer": "ipython3",
   "version": "3.12.7"
  }
 },
 "nbformat": 4,
 "nbformat_minor": 5
}
