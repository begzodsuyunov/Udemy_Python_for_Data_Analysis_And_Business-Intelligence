{
 "cells": [
  {
   "cell_type": "markdown",
   "id": "83d6f3e7-9b8e-4449-b6a4-6ed67d6fb9d6",
   "metadata": {},
   "source": [
    "## Openpyxl package"
   ]
  },
  {
   "cell_type": "code",
   "execution_count": 5,
   "id": "addfcfc9-8a65-44b8-a456-9e793d0798e6",
   "metadata": {},
   "outputs": [
    {
     "name": "stdout",
     "output_type": "stream",
     "text": [
      "Collecting openpyxl\n",
      "  Downloading openpyxl-3.1.5-py2.py3-none-any.whl.metadata (2.5 kB)\n",
      "Collecting et-xmlfile (from openpyxl)\n",
      "  Downloading et_xmlfile-2.0.0-py3-none-any.whl.metadata (2.7 kB)\n",
      "Downloading openpyxl-3.1.5-py2.py3-none-any.whl (250 kB)\n",
      "Downloading et_xmlfile-2.0.0-py3-none-any.whl (18 kB)\n",
      "Installing collected packages: et-xmlfile, openpyxl\n",
      "Successfully installed et-xmlfile-2.0.0 openpyxl-3.1.5\n"
     ]
    }
   ],
   "source": [
    "!pip install openpyxl\n"
   ]
  },
  {
   "cell_type": "code",
   "execution_count": 7,
   "id": "f19e83b0-aeb0-47f4-bab0-1abf1c29f546",
   "metadata": {},
   "outputs": [],
   "source": [
    "import openpyxl as xl"
   ]
  },
  {
   "cell_type": "code",
   "execution_count": 9,
   "id": "5abcb2e8-26c4-45d5-b5dc-3a2ac42c5059",
   "metadata": {},
   "outputs": [],
   "source": [
    "wb = xl.load_workbook(filename='maven_ski_shop_data.xlsx')"
   ]
  },
  {
   "cell_type": "code",
   "execution_count": 13,
   "id": "1354f985-889d-4f90-b526-34b8b9e07067",
   "metadata": {},
   "outputs": [
    {
     "data": {
      "text/plain": [
       "'Quantity_in_stock'"
      ]
     },
     "execution_count": 13,
     "metadata": {},
     "output_type": "execute_result"
    }
   ],
   "source": [
    "wb['Inventory_Levels']['B1'].value"
   ]
  },
  {
   "cell_type": "code",
   "execution_count": 15,
   "id": "4ff0a935-7bc8-4ec6-a1ab-dd7f7f1f1b7b",
   "metadata": {},
   "outputs": [],
   "source": [
    "inventory = wb['Inventory_Levels']"
   ]
  },
  {
   "cell_type": "code",
   "execution_count": 17,
   "id": "0546cd34-d012-485e-b14a-7af9e350f45a",
   "metadata": {},
   "outputs": [
    {
     "data": {
      "text/plain": [
       "'Quantity_in_stock'"
      ]
     },
     "execution_count": 17,
     "metadata": {},
     "output_type": "execute_result"
    }
   ],
   "source": [
    "inventory['B1'].value"
   ]
  },
  {
   "cell_type": "code",
   "execution_count": 25,
   "id": "1611be23-68d2-4460-a187-4b0ec149e9ed",
   "metadata": {},
   "outputs": [
    {
     "data": {
      "text/plain": [
       "100"
      ]
     },
     "execution_count": 25,
     "metadata": {},
     "output_type": "execute_result"
    }
   ],
   "source": [
    "inventory['B2'].value"
   ]
  },
  {
   "cell_type": "code",
   "execution_count": 27,
   "id": "2c48a22d-f567-4579-91b8-69fd98b2e3d6",
   "metadata": {},
   "outputs": [
    {
     "name": "stdout",
     "output_type": "stream",
     "text": [
      "Healthy Stock\n"
     ]
    }
   ],
   "source": [
    "if inventory['B2'].value < 5:\n",
    "    print('Low Stock')\n",
    "else:\n",
    "    print('Healthy Stock')"
   ]
  },
  {
   "cell_type": "code",
   "execution_count": null,
   "id": "a8166631-5dfd-4499-b3a2-052cdf2cda55",
   "metadata": {},
   "outputs": [],
   "source": []
  },
  {
   "cell_type": "markdown",
   "id": "2c4fb44f-6e54-41df-84d7-a31ac2463dad",
   "metadata": {},
   "source": [
    "### Assignment 1"
   ]
  },
  {
   "cell_type": "code",
   "execution_count": 31,
   "id": "9f1e1a88-5a53-4674-8330-6cd6088ac4d1",
   "metadata": {},
   "outputs": [],
   "source": [
    "import openpyxl as xl"
   ]
  },
  {
   "cell_type": "code",
   "execution_count": 33,
   "id": "d11e0aab-303b-40ea-b22c-3816a087ade0",
   "metadata": {},
   "outputs": [],
   "source": [
    "wb = xl.load_workbook(filename='maven_ski_shop_data.xlsx')"
   ]
  },
  {
   "cell_type": "code",
   "execution_count": 35,
   "id": "139054e7-a33d-4339-bc59-b7b151c20b67",
   "metadata": {},
   "outputs": [],
   "source": [
    "inventory = wb['Orders_Info']"
   ]
  },
  {
   "cell_type": "code",
   "execution_count": 45,
   "id": "c93bf87c-a70d-4fcb-995f-80f520e6188e",
   "metadata": {},
   "outputs": [
    {
     "data": {
      "text/plain": [
       "99.99"
      ]
     },
     "execution_count": 45,
     "metadata": {},
     "output_type": "execute_result"
    }
   ],
   "source": [
    "val = inventory['D10'].value\n",
    "val"
   ]
  },
  {
   "cell_type": "code",
   "execution_count": 41,
   "id": "b3389263-4600-4daa-94c4-19f461bc99a0",
   "metadata": {},
   "outputs": [],
   "source": [
    "import tax_calculator as formula"
   ]
  },
  {
   "cell_type": "code",
   "execution_count": 49,
   "id": "8d599111-9ece-4423-8113-13cafa3ccd0e",
   "metadata": {},
   "outputs": [
    {
     "data": {
      "text/plain": [
       "[99.99, 8.0, 107.99]"
      ]
     },
     "execution_count": 49,
     "metadata": {},
     "output_type": "execute_result"
    }
   ],
   "source": [
    "formula.tax_calculator(val, .08)"
   ]
  },
  {
   "cell_type": "code",
   "execution_count": 52,
   "id": "ce421836-15fc-4cd7-8840-eb0a672263de",
   "metadata": {},
   "outputs": [],
   "source": [
    "amount, tax, after_tax = formula.tax_calculator(val, .08)"
   ]
  },
  {
   "cell_type": "code",
   "execution_count": 54,
   "id": "b14c72ae-eeee-494b-acc2-9637eec86095",
   "metadata": {},
   "outputs": [
    {
     "name": "stdout",
     "output_type": "stream",
     "text": [
      "Sales Tax: $8.0\n",
      "Total Tax: $107.99\n"
     ]
    }
   ],
   "source": [
    "print(f'Sales Tax: ${tax}')\n",
    "print(f'Total Tax: ${after_tax}')"
   ]
  },
  {
   "cell_type": "code",
   "execution_count": null,
   "id": "01e5f361-9f22-4923-8589-6438778dc6d0",
   "metadata": {},
   "outputs": [],
   "source": []
  },
  {
   "cell_type": "markdown",
   "id": "c1d0b430-38cc-42e9-a96b-9f0c603fa679",
   "metadata": {},
   "source": [
    "## Determining sheet ranges"
   ]
  },
  {
   "cell_type": "code",
   "execution_count": 58,
   "id": "b4a361ba-ffcb-413c-872a-a6974ea9f7db",
   "metadata": {},
   "outputs": [],
   "source": [
    "import openpyxl as xl"
   ]
  },
  {
   "cell_type": "code",
   "execution_count": 60,
   "id": "77c29fa6-ca14-4dff-81ce-1ed5b50cdd5b",
   "metadata": {},
   "outputs": [],
   "source": [
    "wb = xl.load_workbook(filename='maven_ski_shop_data.xlsx')"
   ]
  },
  {
   "cell_type": "code",
   "execution_count": 62,
   "id": "34a794a2-925b-434a-a47b-059cb84ec2f5",
   "metadata": {},
   "outputs": [],
   "source": [
    "inventory = wb['Inventory_Levels']"
   ]
  },
  {
   "cell_type": "code",
   "execution_count": 66,
   "id": "23ba3c87-481a-4b4c-8ebb-8027f2b7b977",
   "metadata": {},
   "outputs": [
    {
     "name": "stdout",
     "output_type": "stream",
     "text": [
      "1 Quantity_in_stock\n",
      "2 100\n",
      "3 15\n",
      "4 10\n",
      "5 25\n",
      "6 8\n",
      "7 6\n",
      "8 0\n",
      "9 0\n",
      "10 1\n",
      "11 5\n",
      "12 0\n",
      "13 4\n"
     ]
    }
   ],
   "source": [
    "for i, cell in enumerate(inventory['B'], start=1):\n",
    "    print(i, cell.value)"
   ]
  },
  {
   "cell_type": "code",
   "execution_count": 68,
   "id": "72c911fe-04e3-449b-8245-dbc072a69030",
   "metadata": {},
   "outputs": [],
   "source": [
    "for i, cell in enumerate(inventory['B'], start=1):\n",
    "    if i == 1:\n",
    "        inventory[f'C{i}'] = 'Inventory Status'\n",
    "    elif cell.value > 5:\n",
    "        inventory[f'C{i}'] = 'Healthy Stock'\n",
    "    elif cell.value > 0:\n",
    "        inventory[f'C{i}'] = 'Low Stock'\n",
    "    else:\n",
    "        inventory[f'C{i}'] = 'Out of Stock'\n"
   ]
  },
  {
   "cell_type": "code",
   "execution_count": 70,
   "id": "74f33c49-1855-438c-a290-20f63cbf144a",
   "metadata": {},
   "outputs": [],
   "source": [
    "wb.save('maven_ski_shop_inventory_fix.xlsx')"
   ]
  },
  {
   "cell_type": "code",
   "execution_count": null,
   "id": "44bbf616-3aad-45b3-b4b9-f8a14a08d494",
   "metadata": {},
   "outputs": [],
   "source": []
  },
  {
   "cell_type": "markdown",
   "id": "7eea74aa-89c8-4e45-91cd-1c84d8a946a7",
   "metadata": {},
   "source": [
    "### Assignment 3"
   ]
  },
  {
   "cell_type": "code",
   "execution_count": 106,
   "id": "a3140ad9-5238-4f5b-ac35-33e93c4b55cf",
   "metadata": {},
   "outputs": [],
   "source": [
    "import openpyxl as xl\n",
    "\n",
    "wb = xl.load_workbook(filename='maven_ski_shop_data.xlsx')\n",
    "\n",
    "items = wb['Item_Info']"
   ]
  },
  {
   "cell_type": "code",
   "execution_count": 108,
   "id": "8900602a-f0d4-4827-9c36-dcd42c2de58b",
   "metadata": {},
   "outputs": [],
   "source": [
    "pound_exchange_rate = .76\n",
    "yen_exchange_rate = 123"
   ]
  },
  {
   "cell_type": "code",
   "execution_count": 110,
   "id": "2caa6bf6-0056-40fa-b238-9935cd7d1b93",
   "metadata": {},
   "outputs": [],
   "source": [
    "def currency_converter(price, exchange_rate):\n",
    "    return round(price * exchange_rate, 2)"
   ]
  },
  {
   "cell_type": "code",
   "execution_count": 112,
   "id": "4c38bcff-fe94-4e80-9f29-3ee5cd36691a",
   "metadata": {},
   "outputs": [],
   "source": [
    "inventory = wb['Item_Info']"
   ]
  },
  {
   "cell_type": "code",
   "execution_count": 114,
   "id": "55a5a89a-81bf-4731-bc87-e9599ce832a5",
   "metadata": {},
   "outputs": [
    {
     "name": "stdout",
     "output_type": "stream",
     "text": [
      "1 Euro Price\n",
      "2 5.27\n",
      "3 8.79\n",
      "4 17.59\n",
      "5 21.99\n",
      "6 87.99\n",
      "7 70.39\n",
      "8 105.59\n",
      "9 87.99\n",
      "10 175.99\n",
      "11 527.99\n",
      "12 114.39\n",
      "13 131.99\n",
      "14 439.99\n"
     ]
    }
   ],
   "source": [
    "for i, cell in enumerate(inventory['F'], start=1):\n",
    "    print(i, cell.value)"
   ]
  },
  {
   "cell_type": "code",
   "execution_count": 133,
   "id": "f19659a2-c93d-464d-b66f-6077531bc4ff",
   "metadata": {},
   "outputs": [],
   "source": [
    "for i, cell in enumerate(inventory['C'], start=1):\n",
    "    if i == 1:\n",
    "        inventory[f'G{i}'] = 'GBP Price'\n",
    "    else:\n",
    "        inventory[f'G{i}'] = currency_converter(cell.value, pound_exchange_rate)\n"
   ]
  },
  {
   "cell_type": "code",
   "execution_count": 143,
   "id": "6e8b986c-c192-4f17-9b95-9bc8ef221818",
   "metadata": {},
   "outputs": [],
   "source": [
    "for i, cell in enumerate(inventory['C'], start=1):\n",
    "    if i == 1:\n",
    "        inventory[f'H{i}'] = 'JPY Price'\n",
    "    else:\n",
    "        inventory[f'H{i}'] = currency_converter(cell.value, yen_exchange_rate)\n"
   ]
  },
  {
   "cell_type": "code",
   "execution_count": 148,
   "id": "0d9f3b66-417e-4d54-845a-50d2336ec0eb",
   "metadata": {},
   "outputs": [],
   "source": [
    "wb.save('maven_data_new_pricing.xlsx')"
   ]
  },
  {
   "cell_type": "code",
   "execution_count": null,
   "id": "ab808d60-eee5-45f3-bec6-f8675f47439c",
   "metadata": {},
   "outputs": [],
   "source": []
  }
 ],
 "metadata": {
  "kernelspec": {
   "display_name": "Python [conda env:base] *",
   "language": "python",
   "name": "conda-base-py"
  },
  "language_info": {
   "codemirror_mode": {
    "name": "ipython",
    "version": 3
   },
   "file_extension": ".py",
   "mimetype": "text/x-python",
   "name": "python",
   "nbconvert_exporter": "python",
   "pygments_lexer": "ipython3",
   "version": "3.12.7"
  }
 },
 "nbformat": 4,
 "nbformat_minor": 5
}
