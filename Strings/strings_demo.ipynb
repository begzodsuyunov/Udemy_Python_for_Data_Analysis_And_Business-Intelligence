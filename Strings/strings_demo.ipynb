{
 "cells": [
  {
   "cell_type": "code",
   "execution_count": 4,
   "id": "3eb36278-f636-4345-b2ba-b39654efd35a",
   "metadata": {},
   "outputs": [
    {
     "name": "stdout",
     "output_type": "stream",
     "text": [
      "Mega Blockbuster\n"
     ]
    }
   ],
   "source": [
    "movie = 'Mega Blockbuster'\n",
    "\n",
    "print(movie)"
   ]
  },
  {
   "cell_type": "code",
   "execution_count": 6,
   "id": "44ab0836-c2c1-47d8-94eb-cfdfbe098342",
   "metadata": {},
   "outputs": [
    {
     "name": "stdout",
     "output_type": "stream",
     "text": [
      "It's a Mega Blockbuster\n"
     ]
    }
   ],
   "source": [
    "movie = 'It\\'s a Mega Blockbuster'\n",
    "\n",
    "print(movie)"
   ]
  },
  {
   "cell_type": "code",
   "execution_count": 8,
   "id": "5b554800-2a82-4950-85df-aa29ead08a98",
   "metadata": {},
   "outputs": [
    {
     "name": "stdout",
     "output_type": "stream",
     "text": [
      "It's a Mega Blockbuster\n"
     ]
    }
   ],
   "source": [
    "movie = \"It's a Mega Blockbuster\"\n",
    "\n",
    "print(movie)"
   ]
  },
  {
   "cell_type": "code",
   "execution_count": 10,
   "id": "b53ae2eb-b5a3-4a7e-9647-b2640eb0be28",
   "metadata": {},
   "outputs": [
    {
     "name": "stdout",
     "output_type": "stream",
     "text": [
      "\"Mega\" Blockbuster\n"
     ]
    }
   ],
   "source": [
    "movie = '\"Mega\" Blockbuster'\n",
    "\n",
    "print(movie)"
   ]
  },
  {
   "cell_type": "code",
   "execution_count": 12,
   "id": "897122e4-2fe4-4ee5-91e2-1626f53a90ac",
   "metadata": {},
   "outputs": [
    {
     "name": "stdout",
     "output_type": "stream",
     "text": [
      "It's a \"Mega\" Blockbuster\n"
     ]
    }
   ],
   "source": [
    "movie = '''It's a \"Mega\" Blockbuster'''\n",
    "\n",
    "print(movie)"
   ]
  },
  {
   "cell_type": "code",
   "execution_count": 16,
   "id": "9379e6e7-18fc-4474-a174-cf77921b9141",
   "metadata": {},
   "outputs": [
    {
     "name": "stdout",
     "output_type": "stream",
     "text": [
      "It's a \"Mega\" Blockbuster was a very good \n",
      "movie and I want to \n",
      "see it again so bad \n"
     ]
    }
   ],
   "source": [
    "movie = '''It's a \"Mega\" Blockbuster was a very good \n",
    "movie and I want to \n",
    "see it again so bad '''\n",
    "\n",
    "print(movie)"
   ]
  },
  {
   "cell_type": "code",
   "execution_count": 22,
   "id": "6dc73e4b-1c41-48cf-8dd9-b3c99bb1d76a",
   "metadata": {},
   "outputs": [
    {
     "name": "stdout",
     "output_type": "stream",
     "text": [
      "Mega Blockbuster was very good\n"
     ]
    }
   ],
   "source": [
    "movie = 'Mega Blockbuster'\n",
    "review = 'Was very good'\n",
    "\n",
    "print(movie + ' ' + review.lower())"
   ]
  },
  {
   "cell_type": "code",
   "execution_count": 24,
   "id": "53438e67-1de5-4f51-be92-2f20e7969dec",
   "metadata": {},
   "outputs": [
    {
     "data": {
      "text/plain": [
       "'Mega BlockbusterMega BlockbusterMega BlockbusterMega Blockbuster'"
      ]
     },
     "execution_count": 24,
     "metadata": {},
     "output_type": "execute_result"
    }
   ],
   "source": [
    "movie * 4"
   ]
  },
  {
   "cell_type": "code",
   "execution_count": 26,
   "id": "d4c227f1-5442-4eee-98b6-a29a93181a69",
   "metadata": {},
   "outputs": [
    {
     "data": {
      "text/plain": [
       "'Mega Blockbuster Mega Blockbuster Mega Blockbuster Mega Blockbuster '"
      ]
     },
     "execution_count": 26,
     "metadata": {},
     "output_type": "execute_result"
    }
   ],
   "source": [
    "(movie + ' ') * 4"
   ]
  },
  {
   "cell_type": "code",
   "execution_count": 29,
   "id": "395ef56f-f5cf-4e21-94c3-ca5b493a07ca",
   "metadata": {},
   "outputs": [
    {
     "name": "stdout",
     "output_type": "stream",
     "text": [
      "Let's go to the park\n"
     ]
    }
   ],
   "source": [
    "sentence = \"Let's go to the\"\n",
    "location = 'park'\n",
    "\n",
    "print(sentence + ' ' + location)"
   ]
  },
  {
   "cell_type": "code",
   "execution_count": 37,
   "id": "ba03c1b6-40c5-42c5-a112-8333438857f9",
   "metadata": {},
   "outputs": [
    {
     "data": {
      "text/plain": [
       "'I'"
      ]
     },
     "execution_count": 37,
     "metadata": {},
     "output_type": "execute_result"
    }
   ],
   "source": [
    "movie = '''It's a \"Mega\" Blockbuster'''\n",
    "\n",
    "movie[0]"
   ]
  },
  {
   "cell_type": "code",
   "execution_count": 39,
   "id": "da3cd585-1e34-468a-a9c5-ffcf42c309d8",
   "metadata": {},
   "outputs": [
    {
     "data": {
      "text/plain": [
       "'s'"
      ]
     },
     "execution_count": 39,
     "metadata": {},
     "output_type": "execute_result"
    }
   ],
   "source": [
    "movie[3]"
   ]
  },
  {
   "cell_type": "code",
   "execution_count": 41,
   "id": "86ec4256-57ab-49b0-b57e-d4be962441fe",
   "metadata": {},
   "outputs": [
    {
     "data": {
      "text/plain": [
       "'r'"
      ]
     },
     "execution_count": 41,
     "metadata": {},
     "output_type": "execute_result"
    }
   ],
   "source": [
    "movie[-1]"
   ]
  },
  {
   "cell_type": "code",
   "execution_count": null,
   "id": "e8c9ac12-405e-421a-8d41-a1b1ff270be3",
   "metadata": {},
   "outputs": [],
   "source": [
    "\n"
   ]
  },
  {
   "cell_type": "markdown",
   "id": "8841368d-0b84-4fbb-8e26-9878f68c1442",
   "metadata": {},
   "source": [
    "## Assignment 1"
   ]
  },
  {
   "cell_type": "code",
   "execution_count": 45,
   "id": "61536f4c-c2ed-4d8b-b151-d13c3abae620",
   "metadata": {},
   "outputs": [],
   "source": [
    "text1 = '          Your friend Mark'\n",
    "text2 = 'was'\n",
    "text3 = 'having'\n",
    "text4 = 'a great day'\n",
    "text5 = 'on the mountain'"
   ]
  },
  {
   "cell_type": "code",
   "execution_count": 53,
   "id": "b97a4b5f-ec2d-4a4a-8677-b5b7627a389b",
   "metadata": {},
   "outputs": [
    {
     "name": "stdout",
     "output_type": "stream",
     "text": [
      "The secret password is Maven\n"
     ]
    }
   ],
   "source": [
    "# Your code goes here - combine the letters in to a word and assign to the variable 'maven'\n",
    "maven = text1[-4] + text2[1] + text3[2] + text4[4] + text5[-1]\n",
    "\n",
    "print('The secret password is ' + maven)"
   ]
  },
  {
   "cell_type": "code",
   "execution_count": null,
   "id": "a271ff28-c60b-48aa-a613-39a6e4c2beca",
   "metadata": {},
   "outputs": [],
   "source": []
  },
  {
   "cell_type": "markdown",
   "id": "fef7b032-74b7-44b1-b6e5-b4ee03321cf0",
   "metadata": {},
   "source": [
    "### String clicing"
   ]
  },
  {
   "cell_type": "code",
   "execution_count": 59,
   "id": "50a301a9-fe35-4a29-8102-be30d0ad02cf",
   "metadata": {},
   "outputs": [],
   "source": [
    "movie = \"It's a Mega Blockbuster\"\n"
   ]
  },
  {
   "cell_type": "code",
   "execution_count": 61,
   "id": "5e748bc8-994e-47b9-a6b4-81e28eae4e9d",
   "metadata": {},
   "outputs": [
    {
     "data": {
      "text/plain": [
       "\"It's\""
      ]
     },
     "execution_count": 61,
     "metadata": {},
     "output_type": "execute_result"
    }
   ],
   "source": [
    "movie[:4]"
   ]
  },
  {
   "cell_type": "code",
   "execution_count": 63,
   "id": "316bc9f1-ac47-48f4-8ff5-d951988a95f2",
   "metadata": {},
   "outputs": [
    {
     "data": {
      "text/plain": [
       "' a Mega Blockbuster'"
      ]
     },
     "execution_count": 63,
     "metadata": {},
     "output_type": "execute_result"
    }
   ],
   "source": [
    "movie[4:]"
   ]
  },
  {
   "cell_type": "code",
   "execution_count": 65,
   "id": "1c829da7-229d-41ed-b770-ba098a38010a",
   "metadata": {},
   "outputs": [
    {
     "data": {
      "text/plain": [
       "'a Mega Blockbuster'"
      ]
     },
     "execution_count": 65,
     "metadata": {},
     "output_type": "execute_result"
    }
   ],
   "source": [
    "movie[5:]"
   ]
  },
  {
   "cell_type": "code",
   "execution_count": 67,
   "id": "2b34fb46-3d7d-498d-a219-f62aa6b2f57d",
   "metadata": {},
   "outputs": [
    {
     "data": {
      "text/plain": [
       "\"I'  eaBokutr\""
      ]
     },
     "execution_count": 67,
     "metadata": {},
     "output_type": "execute_result"
    }
   ],
   "source": [
    "movie[::2]"
   ]
  },
  {
   "cell_type": "code",
   "execution_count": 69,
   "id": "748981ed-1dba-42ec-ad23-28a6bbbc4124",
   "metadata": {},
   "outputs": [
    {
     "data": {
      "text/plain": [
       "\"retsubkcolB ageM a s'tI\""
      ]
     },
     "execution_count": 69,
     "metadata": {},
     "output_type": "execute_result"
    }
   ],
   "source": [
    "movie[::-1]"
   ]
  },
  {
   "cell_type": "code",
   "execution_count": 74,
   "id": "73150462-295f-487b-a592-8342af9804f5",
   "metadata": {},
   "outputs": [
    {
     "data": {
      "text/plain": [
       "'buster'"
      ]
     },
     "execution_count": 74,
     "metadata": {},
     "output_type": "execute_result"
    }
   ],
   "source": [
    "movie[-6:]"
   ]
  },
  {
   "cell_type": "code",
   "execution_count": null,
   "id": "95df77a3-e261-488a-bb95-4462879715ae",
   "metadata": {},
   "outputs": [],
   "source": []
  },
  {
   "cell_type": "code",
   "execution_count": 77,
   "id": "59649b88-2e09-4ba6-ae4d-8e53edd6f43b",
   "metadata": {},
   "outputs": [
    {
     "data": {
      "text/plain": [
       "'park'"
      ]
     },
     "execution_count": 77,
     "metadata": {},
     "output_type": "execute_result"
    }
   ],
   "source": [
    "a = \"Let's go to the park\"\n",
    "\n",
    "a[-4:]"
   ]
  },
  {
   "cell_type": "code",
   "execution_count": null,
   "id": "459a7d4d-3377-4c34-bb42-3b10388bad8a",
   "metadata": {},
   "outputs": [],
   "source": []
  },
  {
   "cell_type": "markdown",
   "id": "32ca7515-4a93-423a-9d46-d08c34c30b57",
   "metadata": {},
   "source": [
    "## Assignment 2"
   ]
  },
  {
   "cell_type": "code",
   "execution_count": 81,
   "id": "85e4ea95-b549-4a9f-bc1d-2eff56f3598c",
   "metadata": {},
   "outputs": [],
   "source": [
    "testimonial = '''I love skiing. It's my favorite hobby.\n",
    "Some people say, \"It's not a hobby, it's life.\"\n",
    "'''"
   ]
  },
  {
   "cell_type": "code",
   "execution_count": 109,
   "id": "0d336c83-c7d2-4f90-88b3-27906e251321",
   "metadata": {},
   "outputs": [
    {
     "name": "stdout",
     "output_type": "stream",
     "text": [
      "I love skiing. It's my life.\n"
     ]
    }
   ],
   "source": [
    "#First Draft\n",
    "short_testimonial = testimonial[0:23] + testimonial[-7:-2]\n",
    "print(short_testimonial)"
   ]
  },
  {
   "cell_type": "code",
   "execution_count": 121,
   "id": "53a664d8-ded0-4444-a7ad-6e32e510cede",
   "metadata": {},
   "outputs": [
    {
     "name": "stdout",
     "output_type": "stream",
     "text": [
      "I love my life!\n"
     ]
    }
   ],
   "source": [
    "#Second Draft\n",
    "happy_customer = short_testimonial[:7] + short_testimonial[-8:-1] + '!' \n",
    "print(happy_customer)"
   ]
  },
  {
   "cell_type": "code",
   "execution_count": null,
   "id": "7ad5084c-0107-47b6-9cf2-ffac2afcf65e",
   "metadata": {},
   "outputs": [],
   "source": []
  },
  {
   "cell_type": "markdown",
   "id": "f77a9346-f90a-4759-addf-e2ba9aa7d5cf",
   "metadata": {},
   "source": [
    "## Assignment 3 String Length"
   ]
  },
  {
   "cell_type": "code",
   "execution_count": 125,
   "id": "3b295253-a930-4921-9a94-1e3bbb69aaa4",
   "metadata": {},
   "outputs": [],
   "source": [
    "alphabet = 'abcdefghijklmnopqrstuvwxyz'\n",
    "message1 = 'Hello World!'\n",
    "message2 = ''\n",
    "message3 = 'It snowed a lot today'\n",
    "message4 = 'eeee'\n",
    "message5 = 'I love snow!!'"
   ]
  },
  {
   "cell_type": "code",
   "execution_count": 139,
   "id": "ccaacb3d-525a-40f1-9520-442dbeddf3e2",
   "metadata": {},
   "outputs": [
    {
     "data": {
      "text/plain": [
       "'maven'"
      ]
     },
     "execution_count": 139,
     "metadata": {},
     "output_type": "execute_result"
    }
   ],
   "source": [
    "password = alphabet[len(message1)] + alphabet[len(message2)] + alphabet[len(message3)] + alphabet[len(message4)] + alphabet[len(message5)]\n",
    "password"
   ]
  },
  {
   "cell_type": "code",
   "execution_count": null,
   "id": "f31a8d8c-f999-4a8e-9510-7ab95a2a0b86",
   "metadata": {},
   "outputs": [],
   "source": []
  },
  {
   "cell_type": "markdown",
   "id": "d2c1e51f-b499-42ff-aaf5-04f853d9b543",
   "metadata": {},
   "source": [
    "### String Methods"
   ]
  },
  {
   "cell_type": "code",
   "execution_count": 147,
   "id": "74e80297-1d09-43c3-99ef-5db51b1e8bb8",
   "metadata": {},
   "outputs": [],
   "source": [
    "movie = \"It's a Mega Blockbuster!\""
   ]
  },
  {
   "cell_type": "code",
   "execution_count": 149,
   "id": "7804f1d6-fa31-4db7-a9f2-f6c927971a1e",
   "metadata": {},
   "outputs": [
    {
     "data": {
      "text/plain": [
       "\"IT'S A MEGA BLOCKBUSTER!\""
      ]
     },
     "execution_count": 149,
     "metadata": {},
     "output_type": "execute_result"
    }
   ],
   "source": [
    "movie.upper()"
   ]
  },
  {
   "cell_type": "code",
   "execution_count": 151,
   "id": "43852ec8-3379-46ec-bdf4-a1019fd61134",
   "metadata": {},
   "outputs": [
    {
     "data": {
      "text/plain": [
       "\"it's a mega blockbuster!\""
      ]
     },
     "execution_count": 151,
     "metadata": {},
     "output_type": "execute_result"
    }
   ],
   "source": [
    "movie.lower()"
   ]
  },
  {
   "cell_type": "code",
   "execution_count": 153,
   "id": "d1764dce-928e-49f7-bc4a-f74efec0608c",
   "metadata": {},
   "outputs": [
    {
     "data": {
      "text/plain": [
       "\"It's a Mega Blockbuster\""
      ]
     },
     "execution_count": 153,
     "metadata": {},
     "output_type": "execute_result"
    }
   ],
   "source": [
    "movie.strip('!')"
   ]
  },
  {
   "cell_type": "code",
   "execution_count": 155,
   "id": "b65036dd-847b-406b-b79b-0fe31b15b168",
   "metadata": {},
   "outputs": [
    {
     "data": {
      "text/plain": [
       "\"It's a Mega Blockbuster\""
      ]
     },
     "execution_count": 155,
     "metadata": {},
     "output_type": "execute_result"
    }
   ],
   "source": [
    "movie.rstrip('!')"
   ]
  },
  {
   "cell_type": "code",
   "execution_count": 157,
   "id": "659b1708-7206-4879-b960-82887332fb1c",
   "metadata": {},
   "outputs": [
    {
     "data": {
      "text/plain": [
       "\"It's a Mega Blockbuster!\""
      ]
     },
     "execution_count": 157,
     "metadata": {},
     "output_type": "execute_result"
    }
   ],
   "source": [
    "movie.lstrip('!')"
   ]
  },
  {
   "cell_type": "code",
   "execution_count": 159,
   "id": "f71242fb-9b75-42d2-ae5e-6b92cf2216bb",
   "metadata": {},
   "outputs": [
    {
     "data": {
      "text/plain": [
       "\"It's a Mega Blockbuster.\""
      ]
     },
     "execution_count": 159,
     "metadata": {},
     "output_type": "execute_result"
    }
   ],
   "source": [
    "movie.replace('!', '.')"
   ]
  },
  {
   "cell_type": "code",
   "execution_count": 161,
   "id": "da66fdee-e5b4-4e87-b9f2-950bd6734f50",
   "metadata": {},
   "outputs": [
    {
     "data": {
      "text/plain": [
       "[\"It's\", 'a', 'Mega', 'Blockbuster!']"
      ]
     },
     "execution_count": 161,
     "metadata": {},
     "output_type": "execute_result"
    }
   ],
   "source": [
    "movie.split()"
   ]
  },
  {
   "cell_type": "code",
   "execution_count": 165,
   "id": "14a330b3-7955-46c6-be09-59509d248f8c",
   "metadata": {},
   "outputs": [
    {
     "data": {
      "text/plain": [
       "['It', 's a Mega Blockbuster!']"
      ]
     },
     "execution_count": 165,
     "metadata": {},
     "output_type": "execute_result"
    }
   ],
   "source": [
    "movie.split(\"'\")"
   ]
  },
  {
   "cell_type": "code",
   "execution_count": 169,
   "id": "17fcfae4-ade8-4a24-b1cd-56d956d9d816",
   "metadata": {},
   "outputs": [
    {
     "data": {
      "text/plain": [
       "[\"It's\", 'a', 'Mega', 'Blockbuster!']"
      ]
     },
     "execution_count": 169,
     "metadata": {},
     "output_type": "execute_result"
    }
   ],
   "source": [
    "word_list = movie.split()\n",
    "\n",
    "word_list"
   ]
  },
  {
   "cell_type": "code",
   "execution_count": 171,
   "id": "fc697999-7096-4d7e-a944-bcd9adb68863",
   "metadata": {},
   "outputs": [
    {
     "data": {
      "text/plain": [
       "\"It's a Mega Blockbuster!\""
      ]
     },
     "execution_count": 171,
     "metadata": {},
     "output_type": "execute_result"
    }
   ],
   "source": [
    "' '.join(word_list)"
   ]
  },
  {
   "cell_type": "code",
   "execution_count": 185,
   "id": "adeca8f0-10c6-4407-bb82-a6549c3b583e",
   "metadata": {},
   "outputs": [
    {
     "data": {
      "text/plain": [
       "'its a mega blockbuster'"
      ]
     },
     "execution_count": 185,
     "metadata": {},
     "output_type": "execute_result"
    }
   ],
   "source": [
    "movie.lower().replace(\"'\", '').rstrip('!')"
   ]
  },
  {
   "cell_type": "code",
   "execution_count": 187,
   "id": "d56ee233-9fd7-4eed-b7a5-9e64cb9fb267",
   "metadata": {},
   "outputs": [],
   "source": [
    "text1 = '          Your friend Mark'\n",
    "text2 = 'was'\n",
    "text3 = 'having'\n",
    "text4 = 'a great day'\n",
    "text5 = 'on the mountain'"
   ]
  },
  {
   "cell_type": "code",
   "execution_count": 197,
   "id": "a15213f6-086d-4bd0-9f78-9b3f1c81dddb",
   "metadata": {},
   "outputs": [
    {
     "data": {
      "text/plain": [
       "'          Your friend Mark was having a great day on the mountain'"
      ]
     },
     "execution_count": 197,
     "metadata": {},
     "output_type": "execute_result"
    }
   ],
   "source": [
    "full_text = ' '.join([text1, text2, text3, text4, text5])\n",
    "\n",
    "full_text"
   ]
  },
  {
   "cell_type": "code",
   "execution_count": 199,
   "id": "0ec49dae-52bf-4546-9838-07f34c677aa6",
   "metadata": {},
   "outputs": [
    {
     "data": {
      "text/plain": [
       "'your friend mark was having a great day on the mountain'"
      ]
     },
     "execution_count": 199,
     "metadata": {},
     "output_type": "execute_result"
    }
   ],
   "source": [
    "fixed_text = full_text.lower().strip()\n",
    "\n",
    "fixed_text"
   ]
  },
  {
   "cell_type": "code",
   "execution_count": 201,
   "id": "fa7bb61e-643d-4f6e-ac66-e0e6d4f882db",
   "metadata": {},
   "outputs": [
    {
     "data": {
      "text/plain": [
       "'your friend mark was having a great day at the ski shop'"
      ]
     },
     "execution_count": 201,
     "metadata": {},
     "output_type": "execute_result"
    }
   ],
   "source": [
    "new_text = fixed_text.replace('on the mountain', 'at the ski shop')\n",
    "\n",
    "new_text"
   ]
  },
  {
   "cell_type": "code",
   "execution_count": 211,
   "id": "01846124-9569-4206-973f-e54219ec5a26",
   "metadata": {},
   "outputs": [
    {
     "data": {
      "text/plain": [
       "12"
      ]
     },
     "execution_count": 211,
     "metadata": {},
     "output_type": "execute_result"
    }
   ],
   "source": [
    "word_count = len(new_text.split())\n",
    "\n",
    "word_count"
   ]
  },
  {
   "cell_type": "code",
   "execution_count": null,
   "id": "bbdee7d8-2def-4da7-a7d1-1e24cdc5ffb5",
   "metadata": {},
   "outputs": [],
   "source": []
  },
  {
   "cell_type": "markdown",
   "id": "541238cf-082d-4cd5-a177-f0ff82543570",
   "metadata": {},
   "source": [
    "## f-string"
   ]
  },
  {
   "cell_type": "code",
   "execution_count": 214,
   "id": "05aaf59e-b14b-421f-b66a-7525bf8091b9",
   "metadata": {},
   "outputs": [],
   "source": [
    "movie = 'A Mega Blockbuster II'"
   ]
  },
  {
   "cell_type": "code",
   "execution_count": 218,
   "id": "3867b30e-8972-4644-bea2-bc9d88a4d99f",
   "metadata": {},
   "outputs": [
    {
     "name": "stdout",
     "output_type": "stream",
     "text": [
      "My favorite movie is: A MEGA BLOCKBUSTER II!\n"
     ]
    }
   ],
   "source": [
    "print(f'My favorite movie is: {movie.upper()}!')"
   ]
  },
  {
   "cell_type": "code",
   "execution_count": null,
   "id": "7709fbfe-06d2-46b4-92b3-ff66352daf96",
   "metadata": {},
   "outputs": [],
   "source": []
  },
  {
   "cell_type": "markdown",
   "id": "9c41f065-86d3-459e-ae8e-abbd810eeefd",
   "metadata": {},
   "source": [
    "## Assignment 3"
   ]
  },
  {
   "cell_type": "code",
   "execution_count": 228,
   "id": "3becd5c4-09f2-4d9a-a301-8490e7b4b3cd",
   "metadata": {},
   "outputs": [
    {
     "name": "stdout",
     "output_type": "stream",
     "text": [
      "The snowboard costs $499.99.\n"
     ]
    }
   ],
   "source": [
    "price = 499.99\n",
    "product = 'snowboard'\n",
    "\n",
    "# your print statement here\n",
    "print(f'The {product} costs ${price}.')"
   ]
  },
  {
   "cell_type": "code",
   "execution_count": 230,
   "id": "d61d986e-d447-40d3-ba03-9313f7466c70",
   "metadata": {},
   "outputs": [
    {
     "name": "stdout",
     "output_type": "stream",
     "text": [
      "The scarf costs $19.99.\n"
     ]
    }
   ],
   "source": [
    "price = 19.99\n",
    "product = 'scarf'\n",
    "\n",
    "# exact copy of print statement in first cell \n",
    "print(f'The {product} costs ${price}.')"
   ]
  },
  {
   "cell_type": "code",
   "execution_count": null,
   "id": "4268479b-d87e-4b91-8b1c-508d032129c5",
   "metadata": {},
   "outputs": [],
   "source": []
  }
 ],
 "metadata": {
  "kernelspec": {
   "display_name": "Python [conda env:base] *",
   "language": "python",
   "name": "conda-base-py"
  },
  "language_info": {
   "codemirror_mode": {
    "name": "ipython",
    "version": 3
   },
   "file_extension": ".py",
   "mimetype": "text/x-python",
   "name": "python",
   "nbconvert_exporter": "python",
   "pygments_lexer": "ipython3",
   "version": "3.12.7"
  }
 },
 "nbformat": 4,
 "nbformat_minor": 5
}
