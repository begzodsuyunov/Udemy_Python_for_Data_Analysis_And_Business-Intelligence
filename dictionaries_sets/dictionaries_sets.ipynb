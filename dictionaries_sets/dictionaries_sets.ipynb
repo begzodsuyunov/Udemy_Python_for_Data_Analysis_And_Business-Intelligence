{
 "cells": [
  {
   "cell_type": "markdown",
   "id": "cc35270a-95d2-4850-819e-55bb289a3689",
   "metadata": {},
   "source": [
    "## Dictionary Operations"
   ]
  },
  {
   "cell_type": "code",
   "execution_count": 3,
   "id": "512f6eab-c39f-4bd7-ba4b-75a8ba780589",
   "metadata": {},
   "outputs": [],
   "source": [
    "item_prices = {\n",
    "    'skis': 249.99,\n",
    "    'snowboard': 219.99,\n",
    "    'goggles': 99.99,\n",
    "    'boots': [79.99, 89.99]\n",
    "}"
   ]
  },
  {
   "cell_type": "code",
   "execution_count": 5,
   "id": "40896b6f-d2d6-4586-bc25-013c525e4356",
   "metadata": {},
   "outputs": [
    {
     "data": {
      "text/plain": [
       "249.99"
      ]
     },
     "execution_count": 5,
     "metadata": {},
     "output_type": "execute_result"
    }
   ],
   "source": [
    "item_prices['skis']"
   ]
  },
  {
   "cell_type": "code",
   "execution_count": 7,
   "id": "38fb439c-88b4-4420-8ce0-dd2c8cebdf9a",
   "metadata": {},
   "outputs": [
    {
     "data": {
      "text/plain": [
       "{'skis': 249.99,\n",
       " 'snowboard': 219.99,\n",
       " 'goggles': 99.99,\n",
       " 'boots': [79.99, 89.99]}"
      ]
     },
     "execution_count": 7,
     "metadata": {},
     "output_type": "execute_result"
    }
   ],
   "source": [
    "item_prices"
   ]
  },
  {
   "cell_type": "code",
   "execution_count": 9,
   "id": "7a41aa7b-705a-464a-890f-4139b6d39888",
   "metadata": {},
   "outputs": [
    {
     "data": {
      "text/plain": [
       "89.99"
      ]
     },
     "execution_count": 9,
     "metadata": {},
     "output_type": "execute_result"
    }
   ],
   "source": [
    "item_prices['boots'][1]"
   ]
  },
  {
   "cell_type": "code",
   "execution_count": 11,
   "id": "06f832df-cf6a-4d7b-a5d6-c1d19dd92847",
   "metadata": {},
   "outputs": [
    {
     "ename": "KeyError",
     "evalue": "'hat'",
     "output_type": "error",
     "traceback": [
      "\u001b[1;31m---------------------------------------------------------------------------\u001b[0m",
      "\u001b[1;31mKeyError\u001b[0m                                  Traceback (most recent call last)",
      "Cell \u001b[1;32mIn[11], line 1\u001b[0m\n\u001b[1;32m----> 1\u001b[0m item_prices[\u001b[38;5;124m'\u001b[39m\u001b[38;5;124mhat\u001b[39m\u001b[38;5;124m'\u001b[39m]\n",
      "\u001b[1;31mKeyError\u001b[0m: 'hat'"
     ]
    }
   ],
   "source": [
    "item_prices['hat']"
   ]
  },
  {
   "cell_type": "code",
   "execution_count": 13,
   "id": "3672a313-e925-425e-b71c-9c858ce0ac7e",
   "metadata": {},
   "outputs": [
    {
     "ename": "KeyError",
     "evalue": "1",
     "output_type": "error",
     "traceback": [
      "\u001b[1;31m---------------------------------------------------------------------------\u001b[0m",
      "\u001b[1;31mKeyError\u001b[0m                                  Traceback (most recent call last)",
      "Cell \u001b[1;32mIn[13], line 1\u001b[0m\n\u001b[1;32m----> 1\u001b[0m item_prices[\u001b[38;5;241m1\u001b[39m]\n",
      "\u001b[1;31mKeyError\u001b[0m: 1"
     ]
    }
   ],
   "source": [
    "item_prices[1]"
   ]
  },
  {
   "cell_type": "code",
   "execution_count": 15,
   "id": "e0be6d7d-3ea7-474f-ba6c-a8bf3e842f64",
   "metadata": {},
   "outputs": [
    {
     "data": {
      "text/plain": [
       "True"
      ]
     },
     "execution_count": 15,
     "metadata": {},
     "output_type": "execute_result"
    }
   ],
   "source": [
    "'skis' in item_prices"
   ]
  },
  {
   "cell_type": "code",
   "execution_count": 17,
   "id": "2d8a59fc-a85e-45d5-a526-5f831fd7b24b",
   "metadata": {},
   "outputs": [
    {
     "name": "stdout",
     "output_type": "stream",
     "text": [
      "skis\n",
      "snowboard\n",
      "goggles\n",
      "boots\n"
     ]
    }
   ],
   "source": [
    "for item in item_prices:\n",
    "    print(item)"
   ]
  },
  {
   "cell_type": "code",
   "execution_count": 19,
   "id": "953e04db-e6b6-463e-8dd3-0138d9fe1dd4",
   "metadata": {},
   "outputs": [],
   "source": [
    "item_prices['skis'] = round(item_prices['skis'] * 1.1, 2)"
   ]
  },
  {
   "cell_type": "code",
   "execution_count": 21,
   "id": "1553fc2f-f5dd-4638-be97-43a2aaf32a5e",
   "metadata": {},
   "outputs": [
    {
     "data": {
      "text/plain": [
       "{'skis': 274.99,\n",
       " 'snowboard': 219.99,\n",
       " 'goggles': 99.99,\n",
       " 'boots': [79.99, 89.99]}"
      ]
     },
     "execution_count": 21,
     "metadata": {},
     "output_type": "execute_result"
    }
   ],
   "source": [
    "item_prices"
   ]
  },
  {
   "cell_type": "code",
   "execution_count": 23,
   "id": "61522648-38b8-44ed-a34a-b3edb49397f0",
   "metadata": {},
   "outputs": [],
   "source": [
    "item_prices['hat'] = 14.99"
   ]
  },
  {
   "cell_type": "code",
   "execution_count": 25,
   "id": "377dc7f3-5840-4fb2-b2eb-8601f52206b5",
   "metadata": {},
   "outputs": [
    {
     "data": {
      "text/plain": [
       "{'skis': 274.99,\n",
       " 'snowboard': 219.99,\n",
       " 'goggles': 99.99,\n",
       " 'boots': [79.99, 89.99],\n",
       " 'hat': 14.99}"
      ]
     },
     "execution_count": 25,
     "metadata": {},
     "output_type": "execute_result"
    }
   ],
   "source": [
    "item_prices"
   ]
  },
  {
   "cell_type": "code",
   "execution_count": 27,
   "id": "c8dd216d-940a-4d13-83a6-8f7bd600a4af",
   "metadata": {},
   "outputs": [],
   "source": [
    "new_items = ['coffee', 'helmet']\n",
    "new_prices = [5.99, 99.99]"
   ]
  },
  {
   "cell_type": "code",
   "execution_count": 29,
   "id": "2fcc5515-66c6-4364-b875-1b4b8853f156",
   "metadata": {},
   "outputs": [
    {
     "data": {
      "text/plain": [
       "{'skis': 274.99,\n",
       " 'snowboard': 219.99,\n",
       " 'goggles': 99.99,\n",
       " 'boots': [79.99, 89.99],\n",
       " 'hat': 14.99,\n",
       " 'coffee': 5.99,\n",
       " 'helmet': 99.99}"
      ]
     },
     "execution_count": 29,
     "metadata": {},
     "output_type": "execute_result"
    }
   ],
   "source": [
    "for i, item in enumerate(new_items):\n",
    "    item_prices[item] = new_prices[i]\n",
    "\n",
    "item_prices"
   ]
  },
  {
   "cell_type": "code",
   "execution_count": 31,
   "id": "67940fde-11d2-4ada-8d65-e2db2e3bb256",
   "metadata": {},
   "outputs": [],
   "source": [
    "del item_prices['coffee']"
   ]
  },
  {
   "cell_type": "code",
   "execution_count": 33,
   "id": "651d39c3-3560-4e88-a7e6-183048327028",
   "metadata": {},
   "outputs": [
    {
     "data": {
      "text/plain": [
       "{'skis': 274.99,\n",
       " 'snowboard': 219.99,\n",
       " 'goggles': 99.99,\n",
       " 'boots': [79.99, 89.99],\n",
       " 'hat': 14.99,\n",
       " 'helmet': 99.99}"
      ]
     },
     "execution_count": 33,
     "metadata": {},
     "output_type": "execute_result"
    }
   ],
   "source": [
    "item_prices"
   ]
  },
  {
   "cell_type": "code",
   "execution_count": 35,
   "id": "498f9f41-0be5-4418-9202-e32ad5ae5be3",
   "metadata": {},
   "outputs": [],
   "source": [
    "del item_prices['boots'][1]"
   ]
  },
  {
   "cell_type": "code",
   "execution_count": 37,
   "id": "f1c896c8-961b-46a2-a6c5-ec5794ade94d",
   "metadata": {},
   "outputs": [
    {
     "data": {
      "text/plain": [
       "{'skis': 274.99,\n",
       " 'snowboard': 219.99,\n",
       " 'goggles': 99.99,\n",
       " 'boots': [79.99],\n",
       " 'hat': 14.99,\n",
       " 'helmet': 99.99}"
      ]
     },
     "execution_count": 37,
     "metadata": {},
     "output_type": "execute_result"
    }
   ],
   "source": [
    "item_prices"
   ]
  },
  {
   "cell_type": "markdown",
   "id": "7b35e526-9c87-4b4b-99b6-a3bd38c255b2",
   "metadata": {},
   "source": [
    "### Assignment 1"
   ]
  },
  {
   "cell_type": "code",
   "execution_count": 42,
   "id": "113cfec4-5acd-4def-a8a8-44c8e37b93de",
   "metadata": {},
   "outputs": [],
   "source": [
    "snacks = {\n",
    "    'Sally': 'Popcorn',\n",
    "    'Ricard': 'Chocolate Ice Cream',\n",
    "    'Stuart': 'Apple Pie',\n",
    "    'Jerry': 'Raisins',\n",
    "    'Sierra': 'Peanut Butter Cookies'\n",
    "}"
   ]
  },
  {
   "cell_type": "code",
   "execution_count": 44,
   "id": "6ed93f2e-eed7-462b-bb7b-016b7db0d98d",
   "metadata": {},
   "outputs": [
    {
     "data": {
      "text/plain": [
       "'Apple Pie'"
      ]
     },
     "execution_count": 44,
     "metadata": {},
     "output_type": "execute_result"
    }
   ],
   "source": [
    "snacks['Stuart']"
   ]
  },
  {
   "cell_type": "code",
   "execution_count": 46,
   "id": "26166f7f-587c-4059-8787-73e1b761bf10",
   "metadata": {},
   "outputs": [],
   "source": [
    "snacks['Alfie'] = 'Cheese and Crackers'"
   ]
  },
  {
   "cell_type": "code",
   "execution_count": 48,
   "id": "86623933-8fb8-4483-9045-ee14a2b52031",
   "metadata": {},
   "outputs": [],
   "source": [
    "snacks['Jerry'] = 'Fig Bars'"
   ]
  },
  {
   "cell_type": "code",
   "execution_count": 50,
   "id": "915f223b-d86d-4b70-98dd-d97d38bcaad0",
   "metadata": {},
   "outputs": [],
   "source": [
    "del snacks['Sierra']"
   ]
  },
  {
   "cell_type": "code",
   "execution_count": 52,
   "id": "432af583-b922-479f-8086-1c9fc6f20c5f",
   "metadata": {},
   "outputs": [
    {
     "data": {
      "text/plain": [
       "{'Sally': 'Popcorn',\n",
       " 'Ricard': 'Chocolate Ice Cream',\n",
       " 'Stuart': 'Apple Pie',\n",
       " 'Jerry': 'Fig Bars',\n",
       " 'Alfie': 'Cheese and Crackers'}"
      ]
     },
     "execution_count": 52,
     "metadata": {},
     "output_type": "execute_result"
    }
   ],
   "source": [
    "snacks"
   ]
  },
  {
   "cell_type": "markdown",
   "id": "fdc30478-998a-400b-a5ee-1b84467ee3d7",
   "metadata": {},
   "source": [
    "### Assignment 2"
   ]
  },
  {
   "cell_type": "code",
   "execution_count": 55,
   "id": "63c916f5-3084-4983-8275-508d7314cec0",
   "metadata": {},
   "outputs": [],
   "source": [
    "items = ['skis', 'snowboard', 'goggles', 'boots']\n",
    "inventory = [10, 0, 0, 7] "
   ]
  },
  {
   "cell_type": "code",
   "execution_count": 57,
   "id": "b5158d14-9b95-4656-896c-a454ccbc42ba",
   "metadata": {},
   "outputs": [
    {
     "data": {
      "text/plain": [
       "{'skis': 'in stock',\n",
       " 'snowboard': 'sold out',\n",
       " 'goggles': 'sold out',\n",
       " 'boots': 'in stock'}"
      ]
     },
     "execution_count": 57,
     "metadata": {},
     "output_type": "execute_result"
    }
   ],
   "source": [
    "inventory_status = {}\n",
    "\n",
    "for i, item in enumerate(items):\n",
    "    if inventory[i] == 0:\n",
    "        inventory_status[item] = 'sold out'\n",
    "    else:\n",
    "        inventory_status[item] = 'in stock'\n",
    "        \n",
    "inventory_status"
   ]
  },
  {
   "cell_type": "code",
   "execution_count": null,
   "id": "204435be-d32d-4181-8b7c-95066cbd4bc5",
   "metadata": {},
   "outputs": [],
   "source": []
  },
  {
   "cell_type": "markdown",
   "id": "7ca79a49-ae8c-408b-b702-2189ba6d206a",
   "metadata": {},
   "source": [
    "## Keys & Values methods"
   ]
  },
  {
   "cell_type": "code",
   "execution_count": 61,
   "id": "b35210e4-7a4e-4284-8f69-cc033deaa71f",
   "metadata": {},
   "outputs": [],
   "source": [
    "customer_sales = {\n",
    "    'C00001': [224.99, 87.36],\n",
    "    'C00004': [125.56],\n",
    "    'C00014': [99.99, 104.26, 23.57],\n",
    "    'C00015': [82.65, 56.88, 201.82, 519.55]\n",
    "}"
   ]
  },
  {
   "cell_type": "code",
   "execution_count": 63,
   "id": "7183bc80-b485-44e9-bb9d-d8562d68b2bc",
   "metadata": {},
   "outputs": [
    {
     "data": {
      "text/plain": [
       "['C00001', 'C00004', 'C00014', 'C00015']"
      ]
     },
     "execution_count": 63,
     "metadata": {},
     "output_type": "execute_result"
    }
   ],
   "source": [
    "customer_ids = list(customer_sales.keys())\n",
    "customer_ids"
   ]
  },
  {
   "cell_type": "code",
   "execution_count": 65,
   "id": "2fa29f16-4b90-4ea8-879f-56af89191e8e",
   "metadata": {},
   "outputs": [
    {
     "data": {
      "text/plain": [
       "[[224.99, 87.36],\n",
       " [125.56],\n",
       " [99.99, 104.26, 23.57],\n",
       " [82.65, 56.88, 201.82, 519.55]]"
      ]
     },
     "execution_count": 65,
     "metadata": {},
     "output_type": "execute_result"
    }
   ],
   "source": [
    "list(customer_sales.values())"
   ]
  },
  {
   "cell_type": "code",
   "execution_count": 67,
   "id": "497b36ee-344a-44fa-9d83-341ac1b95e76",
   "metadata": {},
   "outputs": [
    {
     "name": "stdout",
     "output_type": "stream",
     "text": [
      "312.35\n",
      "125.56\n",
      "227.82\n",
      "860.9\n"
     ]
    }
   ],
   "source": [
    "for sales in customer_sales.values():\n",
    "    print(sum(sales))"
   ]
  },
  {
   "cell_type": "code",
   "execution_count": 69,
   "id": "5dfe576e-0202-43ab-9396-5637e8dc26e4",
   "metadata": {},
   "outputs": [
    {
     "data": {
      "text/plain": [
       "{'C00001': 312.35, 'C00004': 125.56, 'C00014': 227.82, 'C00015': 860.9}"
      ]
     },
     "execution_count": 69,
     "metadata": {},
     "output_type": "execute_result"
    }
   ],
   "source": [
    "total_sales = {}\n",
    "\n",
    "for customer_id, sales in customer_sales.items():\n",
    "    total_sales[customer_id] = sum(sales)\n",
    "\n",
    "total_sales"
   ]
  },
  {
   "cell_type": "code",
   "execution_count": 71,
   "id": "f102f505-d11c-401b-9dc9-215df984df13",
   "metadata": {},
   "outputs": [
    {
     "name": "stdout",
     "output_type": "stream",
     "text": [
      "[224.99, 87.36]\n"
     ]
    },
    {
     "ename": "KeyError",
     "evalue": "'C00003'",
     "output_type": "error",
     "traceback": [
      "\u001b[1;31m---------------------------------------------------------------------------\u001b[0m",
      "\u001b[1;31mKeyError\u001b[0m                                  Traceback (most recent call last)",
      "Cell \u001b[1;32mIn[71], line 4\u001b[0m\n\u001b[0;32m      1\u001b[0m vip_customers \u001b[38;5;241m=\u001b[39m [\u001b[38;5;124m'\u001b[39m\u001b[38;5;124mC00001\u001b[39m\u001b[38;5;124m'\u001b[39m, \u001b[38;5;124m'\u001b[39m\u001b[38;5;124mC00003\u001b[39m\u001b[38;5;124m'\u001b[39m, \u001b[38;5;124m'\u001b[39m\u001b[38;5;124mC00014\u001b[39m\u001b[38;5;124m'\u001b[39m]\n\u001b[0;32m      3\u001b[0m \u001b[38;5;28;01mfor\u001b[39;00m customer \u001b[38;5;129;01min\u001b[39;00m vip_customers:\n\u001b[1;32m----> 4\u001b[0m     \u001b[38;5;28mprint\u001b[39m(customer_sales[customer])\n",
      "\u001b[1;31mKeyError\u001b[0m: 'C00003'"
     ]
    }
   ],
   "source": [
    "vip_customers = ['C00001', 'C00003', 'C00014']\n",
    "\n",
    "for customer in vip_customers:\n",
    "    print(customer_sales[customer])"
   ]
  },
  {
   "cell_type": "code",
   "execution_count": 75,
   "id": "254d5f1a-5a4b-45bd-ada1-0caa9c772172",
   "metadata": {},
   "outputs": [
    {
     "name": "stdout",
     "output_type": "stream",
     "text": [
      "[224.99, 87.36]\n",
      "No longer VIP\n",
      "[99.99, 104.26, 23.57]\n"
     ]
    }
   ],
   "source": [
    "for customer in vip_customers:\n",
    "    print(customer_sales.get(customer, 'No longer VIP'))"
   ]
  },
  {
   "cell_type": "code",
   "execution_count": 77,
   "id": "a4335bfb-6a73-4bfe-9d7c-2918119c688f",
   "metadata": {},
   "outputs": [
    {
     "data": {
      "text/plain": [
       "{'C00001': [224.99, 87.36],\n",
       " 'C00004': [125.56],\n",
       " 'C00014': [99.99, 104.26, 23.57],\n",
       " 'C00015': [82.65, 56.88, 201.82, 519.55],\n",
       " 'C00005': [105.44],\n",
       " 'C0002': [28.99]}"
      ]
     },
     "execution_count": 77,
     "metadata": {},
     "output_type": "execute_result"
    }
   ],
   "source": [
    "new_customers = {'C00005': [105.44], 'C0002': [28.99]}\n",
    "\n",
    "customer_sales.update(new_customers)\n",
    "\n",
    "customer_sales"
   ]
  },
  {
   "cell_type": "code",
   "execution_count": null,
   "id": "24edf2ab-4e4b-4d61-904c-0ba2146e6bd8",
   "metadata": {},
   "outputs": [],
   "source": []
  },
  {
   "cell_type": "markdown",
   "id": "1eeaa19c-cb6a-4050-adac-d328c2ffdd62",
   "metadata": {},
   "source": [
    "#### Assignment 3"
   ]
  },
  {
   "cell_type": "code",
   "execution_count": 81,
   "id": "51163651-1463-4123-bff5-bedaab9d5c50",
   "metadata": {},
   "outputs": [],
   "source": [
    "item_dict = {\n",
    "    10001: ('Coffee', 5.99, 'beverage', ['250mL']),\n",
    "    10002: ('Beanie', 9.99, 'clothing', ['Child', 'Adult']),\n",
    "    10003: ('Gloves', 19.99, 'clothing', ['Child', 'Adult']),\n",
    "    10004: ('Sweatshirt', 24.99, 'clothing', ['XS', 'S', 'M', 'L', 'XL', 'XXL']),\n",
    "    10005: ('Helmet', 99.99, 'safety', ['Child', 'Adult']),\n",
    "    10006: ('Snow Pants', 79.99, 'clothing', ['XS', 'S', 'M', 'L', 'XL', 'XXL']),\n",
    "    10007: ('Coat', 119.99, 'clothing', ['S', 'M', 'L']),\n",
    "    10008: ('Ski Poles', 99.99, 'hardware', ['S', 'M', 'L']),\n",
    "    10009: ('Ski Boots', 199.99, 'hardware', [5, 6, 7, 8, 9, 10, 11])\n",
    "}"
   ]
  },
  {
   "cell_type": "code",
   "execution_count": 83,
   "id": "79102ca9-8012-4bf7-a3d7-6b74ffddfd64",
   "metadata": {},
   "outputs": [],
   "source": [
    "size_counts = {}"
   ]
  },
  {
   "cell_type": "code",
   "execution_count": 99,
   "id": "e2fb73e3-cff6-44b5-9eff-d00521547c1f",
   "metadata": {},
   "outputs": [
    {
     "name": "stdout",
     "output_type": "stream",
     "text": [
      "{10001: 1, 10002: 2, 10003: 2, 10004: 6, 10005: 2, 10006: 6, 10007: 3, 10008: 3, 10009: 7}\n"
     ]
    }
   ],
   "source": [
    "for k, v in item_dict.items():\n",
    "    size_counts[k] = len(v[3])\n",
    "\n",
    "print(size_counts)"
   ]
  },
  {
   "cell_type": "code",
   "execution_count": 103,
   "id": "bf44c68e-8b83-4f03-82f7-e4c5ac8610f8",
   "metadata": {},
   "outputs": [],
   "source": [
    "new_size_counts =  {\n",
    "    10010: 4,\n",
    "    10011: 7\n",
    "}"
   ]
  },
  {
   "cell_type": "code",
   "execution_count": 105,
   "id": "40499382-19ad-4789-93cd-5983bd3c80a0",
   "metadata": {},
   "outputs": [],
   "source": [
    "size_counts.update(new_size_counts)"
   ]
  },
  {
   "cell_type": "code",
   "execution_count": 107,
   "id": "fcb94bfc-2912-4c4c-9efa-451ef620f868",
   "metadata": {},
   "outputs": [
    {
     "data": {
      "text/plain": [
       "{10001: 1,\n",
       " 10002: 2,\n",
       " 10003: 2,\n",
       " 10004: 6,\n",
       " 10005: 2,\n",
       " 10006: 6,\n",
       " 10007: 3,\n",
       " 10008: 3,\n",
       " 10009: 7,\n",
       " 10010: 4,\n",
       " 10011: 7}"
      ]
     },
     "execution_count": 107,
     "metadata": {},
     "output_type": "execute_result"
    }
   ],
   "source": [
    "size_counts"
   ]
  },
  {
   "cell_type": "code",
   "execution_count": 121,
   "id": "2ddf699e-3ff7-49d2-8fc4-f57ff301e674",
   "metadata": {},
   "outputs": [
    {
     "data": {
      "text/plain": [
       "[5.27, 8.79, 17.59, 21.99, 87.99, 70.39, 105.59, 87.99, 175.99]"
      ]
     },
     "execution_count": 121,
     "metadata": {},
     "output_type": "execute_result"
    }
   ],
   "source": [
    "euro_prices = []\n",
    "exchange_rate = .88\n",
    "\n",
    "for v in item_dict.values():\n",
    "    euro_prices.append(round(v[1] * exchange_rate, 2))\n",
    "    \n",
    "euro_prices"
   ]
  },
  {
   "cell_type": "code",
   "execution_count": null,
   "id": "5379496c-86ac-45b2-886f-6ac5ff112ea0",
   "metadata": {},
   "outputs": [],
   "source": []
  },
  {
   "cell_type": "markdown",
   "id": "7a2c0552-c9b4-46c2-af7b-c124f725391d",
   "metadata": {},
   "source": [
    "## Zip function"
   ]
  },
  {
   "cell_type": "code",
   "execution_count": 127,
   "id": "4e944986-c864-45de-8ea4-d765dee87d49",
   "metadata": {},
   "outputs": [
    {
     "data": {
      "text/plain": [
       "{'Apple': 0.79, 'Banana': 0.99, 'Orange': 1.49, 'Coconout': 3.49}"
      ]
     },
     "execution_count": 127,
     "metadata": {},
     "output_type": "execute_result"
    }
   ],
   "source": [
    "items = [\"Apple\", \"Banana\", \"Orange\", 'Coconout']\n",
    "prices = [.79, .99, 1.49, 3.49]\n",
    "\n",
    "dictionary = dict(zip(items, prices))\n",
    "dictionary"
   ]
  },
  {
   "cell_type": "code",
   "execution_count": 137,
   "id": "666478b4-db38-4779-978f-e2f1b53e6209",
   "metadata": {},
   "outputs": [
    {
     "name": "stdout",
     "output_type": "stream",
     "text": [
      "{'Apple': 0.79, 'Banana': 0.99, 'Orange': 1.49, 'Coconout': 3.49}\n"
     ]
    }
   ],
   "source": [
    "print(dictionary)"
   ]
  },
  {
   "cell_type": "code",
   "execution_count": null,
   "id": "8b4717f8-6e9a-47ae-9406-20becc4c247d",
   "metadata": {},
   "outputs": [],
   "source": []
  },
  {
   "cell_type": "markdown",
   "id": "5d1955f1-729b-4810-a535-73ad621eb500",
   "metadata": {},
   "source": [
    "### Assignment 4"
   ]
  },
  {
   "cell_type": "code",
   "execution_count": 141,
   "id": "d91c4754-f6c1-49b7-8122-479ee1be836a",
   "metadata": {},
   "outputs": [],
   "source": [
    "# Data for dictionary \n",
    "\n",
    "item_ids = [\n",
    "    10001, 10002, 10003, 10004, 10005, \n",
    "    10006, 10007, 10008, 10009\n",
    "]\n",
    "\n",
    "item_names = [\n",
    "    \"Coffee\", \"Beanie\", \"Gloves\", \"Sweatshirt\", \"Helmet\",\n",
    "    \"Snow Pants\", \"Coat\", \"Ski Poles\", \"Ski Boots\"\n",
    "]\n",
    "\n",
    "euro_prices = [\n",
    "    5.27, 8.79, 17.59, 21.99, 87.99, \n",
    "    70.39, 105.59, 87.99, 175.99\n",
    "]\n",
    "\n",
    "item_category = [\n",
    "    \"beverage\", \"clothing\", \"clothing\", \"clothing\", \"safety\",\n",
    "    \"clothing\", \"clothing\", \"hardware\", \"hardware\",\n",
    "]\n",
    "\n",
    "sizes = [\n",
    "    [\"250mL\"],\n",
    "    [\"Child\", \"Adult\"],\n",
    "    [\"Child\", \"Adult\"],\n",
    "    [\"XS\", \"S\", \"M\", \"L\", \"XL\", \"XXL\"],\n",
    "    [\"Child\", \"Adult\"],\n",
    "    [\"XS\", \"S\", \"M\", \"L\", \"XL\", \"XXL\"],\n",
    "    [\"S\", \"M\", \"L\"],\n",
    "    [\"S\", \"M\", \"L\"],\n",
    "    [5, 6, 7, 8, 9, 10, 11],\n",
    "]"
   ]
  },
  {
   "cell_type": "code",
   "execution_count": 143,
   "id": "81a50e03-4ddb-4341-b1c0-3d7c38f06032",
   "metadata": {},
   "outputs": [],
   "source": [
    "euro_items = dict(zip(item_ids, zip(item_names, euro_prices, item_category, sizes)))"
   ]
  },
  {
   "cell_type": "code",
   "execution_count": 145,
   "id": "3c23c1b4-6910-4ed0-a3ee-026fc080e084",
   "metadata": {},
   "outputs": [
    {
     "data": {
      "text/plain": [
       "{10001: ('Coffee', 5.27, 'beverage', ['250mL']),\n",
       " 10002: ('Beanie', 8.79, 'clothing', ['Child', 'Adult']),\n",
       " 10003: ('Gloves', 17.59, 'clothing', ['Child', 'Adult']),\n",
       " 10004: ('Sweatshirt', 21.99, 'clothing', ['XS', 'S', 'M', 'L', 'XL', 'XXL']),\n",
       " 10005: ('Helmet', 87.99, 'safety', ['Child', 'Adult']),\n",
       " 10006: ('Snow Pants', 70.39, 'clothing', ['XS', 'S', 'M', 'L', 'XL', 'XXL']),\n",
       " 10007: ('Coat', 105.59, 'clothing', ['S', 'M', 'L']),\n",
       " 10008: ('Ski Poles', 87.99, 'hardware', ['S', 'M', 'L']),\n",
       " 10009: ('Ski Boots', 175.99, 'hardware', [5, 6, 7, 8, 9, 10, 11])}"
      ]
     },
     "execution_count": 145,
     "metadata": {},
     "output_type": "execute_result"
    }
   ],
   "source": [
    "euro_items"
   ]
  },
  {
   "cell_type": "code",
   "execution_count": null,
   "id": "9bd95157-de98-4a8c-9bfb-597b46e01000",
   "metadata": {},
   "outputs": [],
   "source": []
  },
  {
   "cell_type": "markdown",
   "id": "e88747b8-1778-4582-a405-1928b097e589",
   "metadata": {},
   "source": [
    "## Nested Dictionaries"
   ]
  },
  {
   "cell_type": "code",
   "execution_count": 149,
   "id": "3fec1f33-46d3-4f32-97d6-36aaa46ae4ec",
   "metadata": {},
   "outputs": [],
   "source": [
    "economic_data = {\n",
    "    \"India\": {\n",
    "        \"Uttar Pradesh\": {\"population\": 241, \"gdp\": 220},\n",
    "        \"Rajastan\": {\"population\": 200, \"gdp\": 130},\n",
    "    },\n",
    "    \"China\": {\n",
    "        \"Guangdong\": {\"population\": 126, \"gdp\": 1960},\n",
    "        \"Fujian\": {\"populatoin\":42, \"gdp\": 757},\n",
    "    },\n",
    "}"
   ]
  },
  {
   "cell_type": "code",
   "execution_count": 151,
   "id": "3d0fbe51-c040-4c0a-8418-5fd37b917ca6",
   "metadata": {},
   "outputs": [
    {
     "data": {
      "text/plain": [
       "{'Uttar Pradesh': {'population': 241, 'gdp': 220},\n",
       " 'Rajastan': {'population': 200, 'gdp': 130}}"
      ]
     },
     "execution_count": 151,
     "metadata": {},
     "output_type": "execute_result"
    }
   ],
   "source": [
    "economic_data[\"India\"]"
   ]
  },
  {
   "cell_type": "code",
   "execution_count": 157,
   "id": "2db93c5f-cd9e-4290-bf6b-3e6ceeea7e6f",
   "metadata": {},
   "outputs": [
    {
     "data": {
      "text/plain": [
       "200"
      ]
     },
     "execution_count": 157,
     "metadata": {},
     "output_type": "execute_result"
    }
   ],
   "source": [
    "economic_data[\"India\"][\"Rajastan\"]['population']"
   ]
  },
  {
   "cell_type": "code",
   "execution_count": 163,
   "id": "9aaaa91f-c176-47e4-9d24-46fec546f402",
   "metadata": {},
   "outputs": [
    {
     "data": {
      "text/plain": [
       "[241, 200]"
      ]
     },
     "execution_count": 163,
     "metadata": {},
     "output_type": "execute_result"
    }
   ],
   "source": [
    "population = []\n",
    "\n",
    "for state in economic_data[\"India\"].values():\n",
    "    population.append(state[\"population\"])\n",
    "\n",
    "population"
   ]
  },
  {
   "cell_type": "code",
   "execution_count": 185,
   "id": "b4174dd4-8a1d-42c6-8c40-79ebc2a51b8f",
   "metadata": {},
   "outputs": [
    {
     "name": "stdout",
     "output_type": "stream",
     "text": [
      "1.49\n"
     ]
    }
   ],
   "source": [
    "product_info = {\n",
    "    \"Apple\": {\"price\": 1.49, \"type\": \"fruit\", \"Inventory\": 100}, \n",
    "    \"Soda\": {\"price\": .99, \"Type\": \"beverage\", \"inventory\": 22}\n",
    "}\n",
    "\n",
    "\n",
    "print(product_info['Apple']['price'])\n",
    "\n"
   ]
  },
  {
   "cell_type": "markdown",
   "id": "fad7c6e2-830a-4735-8f2c-a5534fd046c5",
   "metadata": {},
   "source": [
    "### Assignment 5"
   ]
  },
  {
   "cell_type": "code",
   "execution_count": 188,
   "id": "411348f5-7560-493d-8613-4400408f0236",
   "metadata": {},
   "outputs": [],
   "source": [
    "item_ids = [\n",
    "    10001, 10002, 10003, 10004, 10005, \n",
    "    10006, 10007, 10008, 10009\n",
    "]\n",
    "\n",
    "item_names = [\n",
    "    \"Coffee\", \"Beanie\", \"Gloves\", \"Sweatshirt\", \"Helmet\",\n",
    "    \"Snow Pants\", \"Coat\", \"Ski Poles\", \"Ski Boots\"\n",
    "]\n",
    "\n",
    "euro_prices = [\n",
    "    5.27, 8.79, 17.59, 21.99, 87.99, \n",
    "    70.39, 105.59, 87.99, 175.99\n",
    "]\n",
    "\n",
    "item_category = [\n",
    "    \"beverage\", \"clothing\", \"clothing\", \"clothing\", \"safety\",\n",
    "    \"clothing\", \"clothing\", \"hardware\", \"hardware\",\n",
    "]\n",
    "\n",
    "sizes = [\n",
    "    [\"250mL\"],\n",
    "    [\"Child\", \"Adult\"],\n",
    "    [\"Child\", \"Adult\"],\n",
    "    [\"XS\", \"S\", \"M\", \"L\", \"XL\", \"XXL\"],\n",
    "    [\"Child\", \"Adult\"],\n",
    "    [\"XS\", \"S\", \"M\", \"L\", \"XL\", \"XXL\"],\n",
    "    [\"S\", \"M\", \"L\"],\n",
    "    [\"S\", \"M\", \"L\"],\n",
    "    [5, 6, 7, 8, 9, 10, 11],\n",
    "    [\"S\", \"M\", \"L\"],\n",
    "    [5, 6, 7, 8, 9, 10, 11],\n",
    "    [\"NA\"],\n",
    "    [\"S\", \"M\", \"L\", \"Powder\"],\n",
    "]"
   ]
  },
  {
   "cell_type": "code",
   "execution_count": 190,
   "id": "a94ee08e-37d9-4ab0-b36d-800e373fa6d8",
   "metadata": {},
   "outputs": [
    {
     "data": {
      "text/plain": [
       "{10001: {'name': 'Coffee',\n",
       "  'price': 5.27,\n",
       "  'category': 'beverage',\n",
       "  'sizes': ['250mL']},\n",
       " 10002: {'name': 'Beanie',\n",
       "  'price': 8.79,\n",
       "  'category': 'clothing',\n",
       "  'sizes': ['Child', 'Adult']},\n",
       " 10003: {'name': 'Gloves',\n",
       "  'price': 17.59,\n",
       "  'category': 'clothing',\n",
       "  'sizes': ['Child', 'Adult']},\n",
       " 10004: {'name': 'Sweatshirt',\n",
       "  'price': 21.99,\n",
       "  'category': 'clothing',\n",
       "  'sizes': ['XS', 'S', 'M', 'L', 'XL', 'XXL']},\n",
       " 10005: {'name': 'Helmet',\n",
       "  'price': 87.99,\n",
       "  'category': 'safety',\n",
       "  'sizes': ['Child', 'Adult']},\n",
       " 10006: {'name': 'Snow Pants',\n",
       "  'price': 70.39,\n",
       "  'category': 'clothing',\n",
       "  'sizes': ['XS', 'S', 'M', 'L', 'XL', 'XXL']},\n",
       " 10007: {'name': 'Coat',\n",
       "  'price': 105.59,\n",
       "  'category': 'clothing',\n",
       "  'sizes': ['S', 'M', 'L']},\n",
       " 10008: {'name': 'Ski Poles',\n",
       "  'price': 87.99,\n",
       "  'category': 'hardware',\n",
       "  'sizes': ['S', 'M', 'L']},\n",
       " 10009: {'name': 'Ski Boots',\n",
       "  'price': 175.99,\n",
       "  'category': 'hardware',\n",
       "  'sizes': [5, 6, 7, 8, 9, 10, 11]}}"
      ]
     },
     "execution_count": 190,
     "metadata": {},
     "output_type": "execute_result"
    }
   ],
   "source": [
    "# Note: this is a dictionary comprension - we will learn this syntax in the next section\n",
    "\n",
    "euro_data = {\n",
    "    item_id: {\"name\": name, \"price\": price, \"category\": category, \"sizes\": sizes}\n",
    "    for item_id, name, price, category, sizes in zip(\n",
    "        item_ids, item_names, euro_prices, item_category, sizes\n",
    "    )\n",
    "}\n",
    "\n",
    "euro_data"
   ]
  },
  {
   "cell_type": "code",
   "execution_count": 194,
   "id": "7651fb9e-ac48-41d8-bd2a-9087f54a8583",
   "metadata": {},
   "outputs": [
    {
     "data": {
      "text/plain": [
       "175.99"
      ]
     },
     "execution_count": 194,
     "metadata": {},
     "output_type": "execute_result"
    }
   ],
   "source": [
    "euro_data.get(10009)['price']"
   ]
  },
  {
   "cell_type": "code",
   "execution_count": 198,
   "id": "3ceca359-b2f5-4924-8df9-350132ba21bb",
   "metadata": {},
   "outputs": [],
   "source": [
    "boot_sizes = [37, 38, 39.5, 40.5, 41.5, 43.5, 44.5, 46.5]"
   ]
  },
  {
   "cell_type": "code",
   "execution_count": 204,
   "id": "30a0a23d-e9e1-4e85-92c1-ea960c12f1f3",
   "metadata": {},
   "outputs": [],
   "source": [
    "euro_data[10009]['sizes'] = boot_sizes"
   ]
  },
  {
   "cell_type": "code",
   "execution_count": 206,
   "id": "19a06f14-2d46-4fea-baf9-133668fdf862",
   "metadata": {},
   "outputs": [
    {
     "data": {
      "text/plain": [
       "{'Coffee': ['250mL'],\n",
       " 'Beanie': ['Child', 'Adult'],\n",
       " 'Gloves': ['Child', 'Adult'],\n",
       " 'Sweatshirt': ['XS', 'S', 'M', 'L', 'XL', 'XXL'],\n",
       " 'Helmet': ['Child', 'Adult'],\n",
       " 'Snow Pants': ['XS', 'S', 'M', 'L', 'XL', 'XXL'],\n",
       " 'Coat': ['S', 'M', 'L'],\n",
       " 'Ski Poles': ['S', 'M', 'L'],\n",
       " 'Ski Boots': [37, 38, 39.5, 40.5, 41.5, 43.5, 44.5, 46.5]}"
      ]
     },
     "execution_count": 206,
     "metadata": {},
     "output_type": "execute_result"
    }
   ],
   "source": [
    "product_sizes = {}\n",
    "\n",
    "for product_details in euro_data.values():\n",
    "    product_sizes[product_details['name']] = product_details['sizes']\n",
    "\n",
    "product_sizes"
   ]
  },
  {
   "cell_type": "code",
   "execution_count": null,
   "id": "251797b0-e11e-45bb-9f4a-4f24edb4b59c",
   "metadata": {},
   "outputs": [],
   "source": []
  },
  {
   "cell_type": "markdown",
   "id": "008263e1-a879-4fcf-adeb-28fe73021412",
   "metadata": {},
   "source": [
    "## Sets"
   ]
  },
  {
   "cell_type": "code",
   "execution_count": 210,
   "id": "f4a086eb-8d2a-46d4-8b7a-6630d247117d",
   "metadata": {},
   "outputs": [],
   "source": [
    "transaction1 = ['snowboard', 'helmet', 'boots', 'hat', 'sweater', 'sweater']\n",
    "transaction2 = ['helmet', 'boots', 'skis', 'keychain', 'coffee', 'hat']\n",
    "transaction3 = ['snowboard', 'helmet', 'boots', 'skis poles']"
   ]
  },
  {
   "cell_type": "code",
   "execution_count": 212,
   "id": "f8fbaeeb-87b4-47b8-9559-2deddafee19b",
   "metadata": {},
   "outputs": [
    {
     "data": {
      "text/plain": [
       "2"
      ]
     },
     "execution_count": 212,
     "metadata": {},
     "output_type": "execute_result"
    }
   ],
   "source": [
    "transaction1.count('sweater')"
   ]
  },
  {
   "cell_type": "code",
   "execution_count": 214,
   "id": "fe505df3-6617-49fe-8acc-ed63c9729e59",
   "metadata": {},
   "outputs": [
    {
     "data": {
      "text/plain": [
       "{'boots', 'hat', 'helmet', 'snowboard', 'sweater'}"
      ]
     },
     "execution_count": 214,
     "metadata": {},
     "output_type": "execute_result"
    }
   ],
   "source": [
    "set(transaction1)"
   ]
  },
  {
   "cell_type": "code",
   "execution_count": 216,
   "id": "d3cf98f0-0f4e-4280-8e7a-3a5ef641e0e6",
   "metadata": {},
   "outputs": [
    {
     "data": {
      "text/plain": [
       "5"
      ]
     },
     "execution_count": 216,
     "metadata": {},
     "output_type": "execute_result"
    }
   ],
   "source": [
    "len(set(transaction1))"
   ]
  },
  {
   "cell_type": "code",
   "execution_count": 218,
   "id": "65d01ddc-ac09-4575-98b0-9ba697430933",
   "metadata": {},
   "outputs": [
    {
     "data": {
      "text/plain": [
       "True"
      ]
     },
     "execution_count": 218,
     "metadata": {},
     "output_type": "execute_result"
    }
   ],
   "source": [
    "'boots' in set(transaction1)"
   ]
  },
  {
   "cell_type": "code",
   "execution_count": 220,
   "id": "162c902e-5a97-444d-bf51-c3d6c2cbfec1",
   "metadata": {},
   "outputs": [
    {
     "data": {
      "text/plain": [
       "{'boots',\n",
       " 'coffee',\n",
       " 'hat',\n",
       " 'helmet',\n",
       " 'keychain',\n",
       " 'skis',\n",
       " 'skis poles',\n",
       " 'snowboard',\n",
       " 'sweater'}"
      ]
     },
     "execution_count": 220,
     "metadata": {},
     "output_type": "execute_result"
    }
   ],
   "source": [
    "set(transaction1 + transaction2 + transaction3)  "
   ]
  },
  {
   "cell_type": "code",
   "execution_count": 222,
   "id": "379d1bb0-48f8-496e-ab10-59ee8d8a90f0",
   "metadata": {},
   "outputs": [
    {
     "data": {
      "text/plain": [
       "9"
      ]
     },
     "execution_count": 222,
     "metadata": {},
     "output_type": "execute_result"
    }
   ],
   "source": [
    "len(set(transaction1 + transaction2 + transaction3)  )"
   ]
  },
  {
   "cell_type": "code",
   "execution_count": null,
   "id": "cf52fe4b-5d4f-4d80-a786-7ffe12786e2e",
   "metadata": {},
   "outputs": [],
   "source": []
  },
  {
   "cell_type": "markdown",
   "id": "9bfe3686-10f1-4698-b396-20edce1b4395",
   "metadata": {},
   "source": [
    "### Assignment 6"
   ]
  },
  {
   "cell_type": "code",
   "execution_count": 254,
   "id": "f1708583-2b8d-4234-87f5-8ad032bc9487",
   "metadata": {},
   "outputs": [],
   "source": [
    "item_ids = [\n",
    "    10001, 10002, 10003, 10004, 10005, \n",
    "    10006, 10007, 10008, 10009\n",
    "]\n",
    "\n",
    "item_names = [\n",
    "    \"Coffee\", \"Beanie\", \"Gloves\", \"Sweatshirt\", \"Helmet\",\n",
    "    \"Snow Pants\", \"Coat\", \"Ski Poles\", \"Ski Boots\"\n",
    "]\n",
    "\n",
    "euro_prices = [\n",
    "    5.27, 8.79, 17.59, 21.99, 87.99, \n",
    "    70.39, 105.59, 87.99, 175.99\n",
    "]\n",
    "\n",
    "item_category = [\n",
    "    \"beverage\", \"clothing\", \"clothing\", \"clothing\", \"safety\",\n",
    "    \"clothing\", \"clothing\", \"hardware\", \"hardware\",\n",
    "]\n",
    "\n",
    "sizes = [\n",
    "    [\"250mL\"],\n",
    "    [\"Child\", \"Adult\"],\n",
    "    [\"Child\", \"Adult\"],\n",
    "    [\"XS\", \"S\", \"M\", \"L\", \"XL\", \"XXL\"],\n",
    "    [\"Child\", \"Adult\"],\n",
    "    [\"XS\", \"S\", \"M\", \"L\", \"XL\", \"XXL\"],\n",
    "    [\"S\", \"M\", \"L\"],\n",
    "    [\"S\", \"M\", \"L\"],\n",
    "    [5, 6, 7, 8, 9, 10, 11],\n",
    "    [\"S\", \"M\", \"L\"],\n",
    "    [5, 6, 7, 8, 9, 10, 11],\n",
    "    [\"NA\"],\n",
    "    [\"S\", \"M\", \"L\", \"Powder\"],\n",
    "]"
   ]
  },
  {
   "cell_type": "code",
   "execution_count": 256,
   "id": "61f5e7cf-e3c1-4b14-a27c-0c1989077e87",
   "metadata": {},
   "outputs": [
    {
     "data": {
      "text/plain": [
       "{10001: ('Coffee', 5.27, 'beverage', ['250mL']),\n",
       " 10002: ('Beanie', 8.79, 'clothing', ['Child', 'Adult']),\n",
       " 10003: ('Gloves', 17.59, 'clothing', ['Child', 'Adult']),\n",
       " 10004: ('Sweatshirt', 21.99, 'clothing', ['XS', 'S', 'M', 'L', 'XL', 'XXL']),\n",
       " 10005: ('Helmet', 87.99, 'safety', ['Child', 'Adult']),\n",
       " 10006: ('Snow Pants', 70.39, 'clothing', ['XS', 'S', 'M', 'L', 'XL', 'XXL']),\n",
       " 10007: ('Coat', 105.59, 'clothing', ['S', 'M', 'L']),\n",
       " 10008: ('Ski Poles', 87.99, 'hardware', ['S', 'M', 'L']),\n",
       " 10009: ('Ski Boots', 175.99, 'hardware', [5, 6, 7, 8, 9, 10, 11])}"
      ]
     },
     "execution_count": 256,
     "metadata": {},
     "output_type": "execute_result"
    }
   ],
   "source": [
    "euro_items = dict(zip(item_ids, zip(item_names, euro_prices, item_category, sizes)))\n",
    "euro_items"
   ]
  },
  {
   "cell_type": "code",
   "execution_count": 278,
   "id": "7d1635f5-1c29-441e-bce5-483a84302f2a",
   "metadata": {},
   "outputs": [],
   "source": [
    "product_sizes = []\n",
    "\n",
    "for k, v in euro_data.items():\n",
    "    product_sizes.append(v['category'])\n",
    "\n",
    "unique_cat = set(product_sizes)"
   ]
  },
  {
   "cell_type": "code",
   "execution_count": 280,
   "id": "176981b9-feb3-4fd4-8e65-c9d67ed5c4f3",
   "metadata": {},
   "outputs": [
    {
     "data": {
      "text/plain": [
       "4"
      ]
     },
     "execution_count": 280,
     "metadata": {},
     "output_type": "execute_result"
    }
   ],
   "source": [
    "len(unique_cat)"
   ]
  },
  {
   "cell_type": "code",
   "execution_count": 282,
   "id": "150af7ce-b3b1-4a92-954c-1d287685326c",
   "metadata": {},
   "outputs": [
    {
     "data": {
      "text/plain": [
       "False"
      ]
     },
     "execution_count": 282,
     "metadata": {},
     "output_type": "execute_result"
    }
   ],
   "source": [
    "'outdoor' in unique_cat"
   ]
  },
  {
   "cell_type": "code",
   "execution_count": null,
   "id": "49697834-e9cb-4db8-bcb3-92fb98ea0bd1",
   "metadata": {},
   "outputs": [],
   "source": []
  },
  {
   "cell_type": "markdown",
   "id": "cef4b113-bfb4-4386-a5ba-b44e1e3dfc16",
   "metadata": {},
   "source": [
    "## Set Operations"
   ]
  },
  {
   "cell_type": "code",
   "execution_count": 286,
   "id": "c297a692-07c9-460d-a598-71fda619858a",
   "metadata": {},
   "outputs": [],
   "source": [
    "transaction1 = ['snowboard', 'helmet', 'boots', 'hat', 'sweater', 'sweater']\n",
    "transaction2 = ['helmet', 'boots', 'skis', 'keychain', 'coffee', 'hat']\n",
    "transaction3 = ['snowboard', 'helmet', 'boots', 'skis poles']"
   ]
  },
  {
   "cell_type": "code",
   "execution_count": 288,
   "id": "9eb7c3ab-5451-4061-8ae7-d2df5a7c3709",
   "metadata": {},
   "outputs": [],
   "source": [
    "transaction1_set = set(transaction1)\n",
    "transaction2_set = set(transaction2)\n",
    "transaction3_set = set(transaction3)"
   ]
  },
  {
   "cell_type": "code",
   "execution_count": 290,
   "id": "88cec4fb-7cf7-4534-85b4-40f659273d26",
   "metadata": {},
   "outputs": [
    {
     "data": {
      "text/plain": [
       "{'boots', 'hat', 'helmet', 'skis poles', 'snowboard', 'sweater'}"
      ]
     },
     "execution_count": 290,
     "metadata": {},
     "output_type": "execute_result"
    }
   ],
   "source": [
    "non_sale_set = transaction1_set.union(transaction3_set)\n",
    "\n",
    "non_sale_set"
   ]
  },
  {
   "cell_type": "code",
   "execution_count": 292,
   "id": "37d07d05-11e7-4a97-a8cf-610a1a4e602e",
   "metadata": {},
   "outputs": [
    {
     "data": {
      "text/plain": [
       "{'boots', 'hat', 'helmet'}"
      ]
     },
     "execution_count": 292,
     "metadata": {},
     "output_type": "execute_result"
    }
   ],
   "source": [
    "transaction2_set.intersection(non_sale_set)"
   ]
  },
  {
   "cell_type": "code",
   "execution_count": 294,
   "id": "c46e77d7-ae7d-467c-80e4-4ef6c8c899ba",
   "metadata": {},
   "outputs": [
    {
     "data": {
      "text/plain": [
       "{'coffee', 'keychain', 'skis'}"
      ]
     },
     "execution_count": 294,
     "metadata": {},
     "output_type": "execute_result"
    }
   ],
   "source": [
    "transaction2_set.difference(non_sale_set)"
   ]
  },
  {
   "cell_type": "code",
   "execution_count": 296,
   "id": "6a69921c-4fe3-488b-bbab-b275028fa6dc",
   "metadata": {},
   "outputs": [
    {
     "data": {
      "text/plain": [
       "{'coffee', 'keychain', 'skis'}"
      ]
     },
     "execution_count": 296,
     "metadata": {},
     "output_type": "execute_result"
    }
   ],
   "source": [
    "transaction2_set - non_sale_set"
   ]
  },
  {
   "cell_type": "code",
   "execution_count": 298,
   "id": "1c10a4a9-e20d-4d79-85d1-984ca2bc59fa",
   "metadata": {},
   "outputs": [
    {
     "data": {
      "text/plain": [
       "{'coffee', 'keychain', 'skis', 'skis poles', 'snowboard', 'sweater'}"
      ]
     },
     "execution_count": 298,
     "metadata": {},
     "output_type": "execute_result"
    }
   ],
   "source": [
    "non_sale_set.symmetric_difference(transaction2_set)"
   ]
  },
  {
   "cell_type": "code",
   "execution_count": null,
   "id": "05a9b236-b9fa-4cda-b7af-5a74163e1bb7",
   "metadata": {},
   "outputs": [],
   "source": []
  },
  {
   "cell_type": "markdown",
   "id": "ee112236-0c2e-42e3-8358-8b09db96d2a6",
   "metadata": {},
   "source": [
    "### Assignment 7"
   ]
  },
  {
   "cell_type": "code",
   "execution_count": 308,
   "id": "e4cfe5bf-81e0-4d41-ae44-43fbce6c50ef",
   "metadata": {},
   "outputs": [],
   "source": [
    "friday_customers = [\n",
    "    'C00004', 'C00007', 'C00015', 'C00016', 'C00020',\n",
    "    'C00010', 'C00006', 'C00001', 'C00003', 'C00014',\n",
    "    'C00001', 'C00001', 'C00005', 'C00008', 'C00013'\n",
    "]\n",
    "\n",
    "saturday_customers = [\n",
    "    'C00004', 'C00017', 'C00019', 'C00002', 'C00008',\n",
    "    'C00021', 'C00022'\n",
    "]\n",
    "\n",
    "sunday_customers = ['C00006', 'C00018', 'C00018', 'C00010', 'C00016']"
   ]
  },
  {
   "cell_type": "code",
   "execution_count": 312,
   "id": "a08b4d12-bb23-4d38-84f0-61e08de44b97",
   "metadata": {},
   "outputs": [],
   "source": [
    "friday_customers_set = set(friday_customers) \n",
    "saturday_customers_set = set(saturday_customers) \n",
    "sunday_customers_set = set(sunday_customers) "
   ]
  },
  {
   "cell_type": "code",
   "execution_count": 318,
   "id": "2b5873cf-4458-48e8-881f-efd432fbf8b6",
   "metadata": {},
   "outputs": [
    {
     "data": {
      "text/plain": [
       "{'C00002',\n",
       " 'C00004',\n",
       " 'C00006',\n",
       " 'C00008',\n",
       " 'C00010',\n",
       " 'C00016',\n",
       " 'C00017',\n",
       " 'C00018',\n",
       " 'C00019',\n",
       " 'C00021',\n",
       " 'C00022'}"
      ]
     },
     "execution_count": 318,
     "metadata": {},
     "output_type": "execute_result"
    }
   ],
   "source": [
    "sat_or_sun = saturday_customers_set.union(sunday_customers_set)\n",
    "sat_or_sun"
   ]
  },
  {
   "cell_type": "code",
   "execution_count": 322,
   "id": "f5b30a9d-9601-44c8-bbd3-52025868d24e",
   "metadata": {},
   "outputs": [
    {
     "data": {
      "text/plain": [
       "{'C00004', 'C00006', 'C00008', 'C00010', 'C00016'}"
      ]
     },
     "execution_count": 322,
     "metadata": {},
     "output_type": "execute_result"
    }
   ],
   "source": [
    "sat_or_sun.intersection(friday_customers_set)"
   ]
  },
  {
   "cell_type": "code",
   "execution_count": null,
   "id": "8ad3cb34-2a02-435d-b8b5-31c33bfd52a7",
   "metadata": {},
   "outputs": [],
   "source": []
  }
 ],
 "metadata": {
  "kernelspec": {
   "display_name": "Python [conda env:base] *",
   "language": "python",
   "name": "conda-base-py"
  },
  "language_info": {
   "codemirror_mode": {
    "name": "ipython",
    "version": 3
   },
   "file_extension": ".py",
   "mimetype": "text/x-python",
   "name": "python",
   "nbconvert_exporter": "python",
   "pygments_lexer": "ipython3",
   "version": "3.12.7"
  }
 },
 "nbformat": 4,
 "nbformat_minor": 5
}
